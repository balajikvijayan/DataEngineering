{
 "cells": [
  {
   "cell_type": "code",
   "execution_count": 9,
   "metadata": {
    "collapsed": false
   },
   "outputs": [
    {
     "data": {
      "application/javascript": [
       "$.getScript('http://asimjalis.github.io/ipyn-ext/js/ipyn-present.js')"
      ],
      "text/plain": [
       "<IPython.core.display.Javascript object>"
      ]
     },
     "metadata": {},
     "output_type": "display_data"
    }
   ],
   "source": [
    "%%javascript\n",
    "$.getScript('http://asimjalis.github.io/ipyn-ext/js/ipyn-present.js')"
   ]
  },
  {
   "cell_type": "markdown",
   "metadata": {},
   "source": [
    "<h1 class=\"tocheading\">Batch Layer</h1>\n",
    "<div id=\"toc\"></div>"
   ]
  },
  {
   "cell_type": "markdown",
   "metadata": {},
   "source": [
    "Objectives\n",
    "---------------------------------------------------------------------\n",
    "By the end of today's lesson, you will be able to:  \n",
    "* Describe and employ the four communication patterns of distributed processing\n",
    "* Develop and implement a DAG for batch processing"
   ]
  },
  {
   "cell_type": "markdown",
   "metadata": {},
   "source": [
    "Computing on the batch layer\n",
    "---------------------------------------------------------------------\n",
    "**The roles of the Lambda Architecture layers in servicing queries on the dataset**\n",
    "![Figure 6.1](06fig01_alt.jpg)"
   ]
  },
  {
   "cell_type": "markdown",
   "metadata": {},
   "source": [
    "## Precomputing a query by running a function on the master dataset directly\n",
    "\n",
    "---------------------------------------------------------------------\n",
    "\n",
    "$$\\text{query} = function(􏰁\\text{all data}􏰂)$$\n",
    "\n",
    "---------------------------------------------------------------------\n",
    "\n",
    "![Figure 6.2](06fig02.jpg)"
   ]
  },
  {
   "cell_type": "markdown",
   "metadata": {},
   "source": [
    "## Splitting a query into pre-computation and on-the-fly components\n",
    "\n",
    "---------------------------------------------------------------------\n",
    "\n",
    "$$\n",
    "\\begin{align*}\n",
    "􏰁\\text{batch view} &= function(􏰁\\text{all data}􏰂)\\\\\n",
    "\\text{query} &= function(􏰁\\text{batch view}􏰂)\n",
    "\\end{align*}\n",
    "$$\n",
    "\n",
    "---------------------------------------------------------------------\n",
    "\n",
    "![Figure 6.3](06fig03_alt.jpg)"
   ]
  },
  {
   "cell_type": "markdown",
   "metadata": {},
   "source": [
    "### Computing the number of pageviews by querying an indexed batch view\n",
    "![Figure 6.4](06fig04_alt.jpg)"
   ]
  },
  {
   "cell_type": "markdown",
   "metadata": {},
   "source": [
    "Recomputation algorithms vs. incremental algorithms\n",
    "---------------------------------------------------------------------\n",
    "**A recomputing algorithm to update the number of records in the master dataset. New data is appended to the master dataset, and then all records are counted.**\n",
    "![Figure 6.5](06fig05_alt.jpg)\n",
    "\n",
    "---------------------------------------------------------------------\n",
    "\n",
    "**An incremental algorithm to update the number of records in the master dataset. Only the new dataset is counted, with the total used to update the batch view directly.**\n",
    "![Figure 6.6](06fig06_alt.jpg)"
   ]
  },
  {
   "cell_type": "markdown",
   "metadata": {},
   "source": [
    "### Performance\n",
    "**A comparison between a recomputation view and an incremental view for determining the number of unique visitors per URL**\n",
    "![Figure 6.7](06fig07_alt.jpg)"
   ]
  },
  {
   "cell_type": "markdown",
   "metadata": {},
   "source": [
    "### Human-fault tolerance\n",
    "\n",
    "* Recomputation alogrithms tolerate human fault well (just recompute after the bug is fixed)\n",
    "* Data from incremental algorithms are difficult to impossible to repair after human error\n",
    "\n",
    "### Generality of the algorithms\n",
    "\n",
    "* Recomputation algorithms are generally more extensible.\n",
    "* Incremental algorithms do *violence to the data* and are irreversable\n",
    "\n",
    "### Choosing a style of algorithm\n",
    "**Comparing recomputation and incremental algorithms**\n",
    "\n",
    "|                       | Recomputation algorithms | Incremental algorithms |\n",
    "|:--------------------- |:------------------------ |:---------------------- |\n",
    "| Performance           | Requires computational effort to process the entire master dataset | Requires less computational resources but may generate much larger batch views |\n",
    "| Human-fault tolerance | Extremely tolerant of human errors because the batch views are continually rebuilt | Doesn’t facilitate repairing errors in the batch views; repairs are ad hoc and may require estimates |\n",
    "| Generality            | Complexity of the algorithm is addressed during precomputation, resulting in simple batch views and low-latency, on-the-fly processing | Requires special tailoring; may shift complexity to on-the-fly query processing |\n",
    "| Conclusion            | Essential to supporting a robust data-processing system | Can increase the efficiency of your system, but only as a supplement to recomputation algorithms |"
   ]
  },
  {
   "cell_type": "markdown",
   "metadata": {},
   "source": [
    "Directed Acyclic Graphs (a.k.a. Pipe Diagrams)\n",
    "---------------------------------------------------------------------\n",
    "**a higher-level way of thinking about batch computation**"
   ]
  },
  {
   "cell_type": "code",
   "execution_count": 2,
   "metadata": {
    "collapsed": false
   },
   "outputs": [],
   "source": [
    "%load_ext gvmagic"
   ]
  },
  {
   "cell_type": "markdown",
   "metadata": {},
   "source": [
    "### Modified word-count pipe diagram"
   ]
  },
  {
   "cell_type": "code",
   "execution_count": 3,
   "metadata": {
    "collapsed": false
   },
   "outputs": [
    {
     "data": {
      "image/svg+xml": [
       "<?xml version=\"1.0\" encoding=\"UTF-8\" standalone=\"no\"?>\n",
       "<!DOCTYPE svg PUBLIC \"-//W3C//DTD SVG 1.1//EN\"\n",
       " \"http://www.w3.org/Graphics/SVG/1.1/DTD/svg11.dtd\">\n",
       "<!-- Generated by graphviz version 2.38.0 (20140413.2041)\n",
       " -->\n",
       "<!-- Title: %3 Pages: 1 -->\n",
       "<svg width=\"139pt\" height=\"537pt\"\n",
       " viewBox=\"0.00 0.00 139.17 537.26\" xmlns=\"http://www.w3.org/2000/svg\" xmlns:xlink=\"http://www.w3.org/1999/xlink\">\n",
       "<g id=\"graph0\" class=\"graph\" transform=\"scale(1 1) rotate(0) translate(4 533.264)\">\n",
       "<title>%3</title>\n",
       "<polygon fill=\"white\" stroke=\"none\" points=\"-4,4 -4,-533.264 135.172,-533.264 135.172,4 -4,4\"/>\n",
       "<!-- Input -->\n",
       "<g id=\"node1\" class=\"node\"><title>Input</title>\n",
       "<polygon fill=\"none\" stroke=\"black\" points=\"102.105,-529.081 29.0668,-529.081 29.0668,-490.814 102.105,-490.814 102.105,-529.081\"/>\n",
       "<text text-anchor=\"middle\" x=\"65.5859\" y=\"-514.064\" font-family=\"Times,serif\" font-size=\"14.00\">￼Input:</text>\n",
       "<text text-anchor=\"middle\" x=\"65.5859\" y=\"-497.432\" font-family=\"Times,serif\" font-size=\"14.00\">[sentence]</text>\n",
       "</g>\n",
       "<!-- function1 -->\n",
       "<g id=\"node2\" class=\"node\"><title>function1</title>\n",
       "<polygon fill=\"none\" stroke=\"black\" points=\"131.258,-454.449 -0.0860503,-454.449 -0.0860503,-402.183 131.258,-402.183 131.258,-454.449\"/>\n",
       "<text text-anchor=\"middle\" x=\"65.5859\" y=\"-439.432\" font-family=\"Times,serif\" font-size=\"14.00\">￼Function:</text>\n",
       "<text text-anchor=\"middle\" x=\"65.5859\" y=\"-422.8\" font-family=\"Times,serif\" font-size=\"14.00\">Split</text>\n",
       "<text text-anchor=\"middle\" x=\"65.5859\" y=\"-408.8\" font-family=\"Times,serif\" font-size=\"14.00\">(sentence) &#45;&gt; (word)</text>\n",
       "</g>\n",
       "<!-- Input&#45;&gt;function1 -->\n",
       "<g id=\"edge1\" class=\"edge\"><title>Input&#45;&gt;function1</title>\n",
       "<path fill=\"none\" stroke=\"black\" d=\"M65.5859,-490.478C65.5859,-482.817 65.5859,-473.659 65.5859,-464.791\"/>\n",
       "<polygon fill=\"black\" stroke=\"black\" points=\"69.086,-464.621 65.5859,-454.621 62.086,-464.621 69.086,-464.621\"/>\n",
       "</g>\n",
       "<!-- Filter -->\n",
       "<g id=\"node3\" class=\"node\"><title>Filter</title>\n",
       "<polygon fill=\"none\" stroke=\"black\" points=\"115.008,-366 16.1641,-366 16.1641,-316 115.008,-316 115.008,-366\"/>\n",
       "<text text-anchor=\"middle\" x=\"65.5859\" y=\"-350.8\" font-family=\"Times,serif\" font-size=\"14.00\">Filter:</text>\n",
       "<text text-anchor=\"middle\" x=\"65.5859\" y=\"-336.8\" font-family=\"Times,serif\" font-size=\"14.00\">FilterAandThe</text>\n",
       "<text text-anchor=\"middle\" x=\"65.5859\" y=\"-322.8\" font-family=\"Times,serif\" font-size=\"14.00\">(word)</text>\n",
       "</g>\n",
       "<!-- function1&#45;&gt;Filter -->\n",
       "<g id=\"edge2\" class=\"edge\"><title>function1&#45;&gt;Filter</title>\n",
       "<path fill=\"none\" stroke=\"black\" d=\"M65.5859,-402.18C65.5859,-394.073 65.5859,-384.944 65.5859,-376.292\"/>\n",
       "<polygon fill=\"black\" stroke=\"black\" points=\"69.086,-376.078 65.5859,-366.078 62.086,-376.078 69.086,-376.078\"/>\n",
       "</g>\n",
       "<!-- groupby -->\n",
       "<g id=\"node4\" class=\"node\"><title>groupby</title>\n",
       "<polygon fill=\"none\" stroke=\"black\" points=\"102.248,-280 28.9236,-280 28.9236,-244 102.248,-244 102.248,-280\"/>\n",
       "<text text-anchor=\"middle\" x=\"65.5859\" y=\"-264.8\" font-family=\"Times,serif\" font-size=\"14.00\">Group by:</text>\n",
       "<text text-anchor=\"middle\" x=\"65.5859\" y=\"-250.8\" font-family=\"Times,serif\" font-size=\"14.00\">[word]</text>\n",
       "</g>\n",
       "<!-- Filter&#45;&gt;groupby -->\n",
       "<g id=\"edge3\" class=\"edge\"><title>Filter&#45;&gt;groupby</title>\n",
       "<path fill=\"none\" stroke=\"black\" d=\"M65.5859,-315.637C65.5859,-307.672 65.5859,-298.769 65.5859,-290.584\"/>\n",
       "<polygon fill=\"black\" stroke=\"black\" points=\"69.086,-290.376 65.5859,-280.376 62.086,-290.376 69.086,-290.376\"/>\n",
       "</g>\n",
       "<!-- aggregator -->\n",
       "<g id=\"node5\" class=\"node\"><title>aggregator</title>\n",
       "<polygon fill=\"none\" stroke=\"black\" points=\"108.396,-208 22.7758,-208 22.7758,-158 108.396,-158 108.396,-208\"/>\n",
       "<text text-anchor=\"middle\" x=\"65.5859\" y=\"-192.8\" font-family=\"Times,serif\" font-size=\"14.00\">Aggregator:</text>\n",
       "<text text-anchor=\"middle\" x=\"65.5859\" y=\"-178.8\" font-family=\"Times,serif\" font-size=\"14.00\">Count</text>\n",
       "<text text-anchor=\"middle\" x=\"65.5859\" y=\"-164.8\" font-family=\"Times,serif\" font-size=\"14.00\">() &#45;&gt; (count)</text>\n",
       "</g>\n",
       "<!-- groupby&#45;&gt;aggregator -->\n",
       "<g id=\"edge4\" class=\"edge\"><title>groupby&#45;&gt;aggregator</title>\n",
       "<path fill=\"none\" stroke=\"black\" d=\"M65.5859,-243.911C65.5859,-236.332 65.5859,-227.13 65.5859,-218.235\"/>\n",
       "<polygon fill=\"black\" stroke=\"black\" points=\"69.086,-218.05 65.5859,-208.05 62.086,-218.05 69.086,-218.05\"/>\n",
       "</g>\n",
       "<!-- function2 -->\n",
       "<g id=\"node6\" class=\"node\"><title>function2</title>\n",
       "<polygon fill=\"none\" stroke=\"black\" points=\"127.5,-122 3.67216,-122 3.67216,-72 127.5,-72 127.5,-122\"/>\n",
       "<text text-anchor=\"middle\" x=\"65.5859\" y=\"-106.8\" font-family=\"Times,serif\" font-size=\"14.00\">Function:</text>\n",
       "<text text-anchor=\"middle\" x=\"65.5859\" y=\"-92.8\" font-family=\"Times,serif\" font-size=\"14.00\">Double</text>\n",
       "<text text-anchor=\"middle\" x=\"65.5859\" y=\"-78.8\" font-family=\"Times,serif\" font-size=\"14.00\">(count) &#45;&gt; (double)</text>\n",
       "</g>\n",
       "<!-- aggregator&#45;&gt;function2 -->\n",
       "<g id=\"edge5\" class=\"edge\"><title>aggregator&#45;&gt;function2</title>\n",
       "<path fill=\"none\" stroke=\"black\" d=\"M65.5859,-157.704C65.5859,-149.781 65.5859,-140.829 65.5859,-132.314\"/>\n",
       "<polygon fill=\"black\" stroke=\"black\" points=\"69.086,-132.242 65.5859,-122.242 62.086,-132.242 69.086,-132.242\"/>\n",
       "</g>\n",
       "<!-- Output -->\n",
       "<g id=\"node7\" class=\"node\"><title>Output</title>\n",
       "<polygon fill=\"none\" stroke=\"black\" points=\"111.786,-36 19.3855,-36 19.3855,-0 111.786,-0 111.786,-36\"/>\n",
       "<text text-anchor=\"middle\" x=\"65.5859\" y=\"-20.8\" font-family=\"Times,serif\" font-size=\"14.00\">Output:</text>\n",
       "<text text-anchor=\"middle\" x=\"65.5859\" y=\"-6.8\" font-family=\"Times,serif\" font-size=\"14.00\">[word, count]</text>\n",
       "</g>\n",
       "<!-- function2&#45;&gt;Output -->\n",
       "<g id=\"edge6\" class=\"edge\"><title>function2&#45;&gt;Output</title>\n",
       "<path fill=\"none\" stroke=\"black\" d=\"M65.5859,-71.6367C65.5859,-63.6715 65.5859,-54.7689 65.5859,-46.5838\"/>\n",
       "<polygon fill=\"black\" stroke=\"black\" points=\"69.086,-46.3763 65.5859,-36.3763 62.086,-46.3763 69.086,-46.3763\"/>\n",
       "</g>\n",
       "</g>\n",
       "</svg>\n"
      ]
     },
     "metadata": {},
     "output_type": "display_data"
    }
   ],
   "source": [
    "%%dot digraph {  \n",
    "    # rankdir=LR;\n",
    "    node [shape=box]\n",
    "    \n",
    "    Input      [label = \"￼Input:\\n[sentence]\"]\n",
    "    function1  [label = \"￼Function:\\nSplit\\n(sentence) -> (word)\"]\n",
    "    Filter     [label = \"Filter:\\nFilterAandThe\\n(word)\"]\n",
    "    groupby    [label = \"Group by:\\n[word]\"]\n",
    "    aggregator [label = \"Aggregator:\\nCount\\n() -> (count)\"]\n",
    "    function2  [label = \"Function:\\nDouble\\n(count) -> (double)\"]\n",
    "    Output     [label = \"Output:\\n[word, count]\"]\n",
    "    \n",
    "    Input -> function1;\n",
    "    function1 -> Filter;\n",
    "    Filter -> groupby;\n",
    "    groupby -> aggregator;\n",
    "    aggregator -> function2;\n",
    "    function2 -> Output;\n",
    "}"
   ]
  },
  {
   "cell_type": "markdown",
   "metadata": {},
   "source": [
    "<!--\n",
    "| Illustration of a DAG function | Illustration of a DAG filter |\n",
    "|:------------------------------:|:----------------------------:|\n",
    "| ![Figure 6.16](06fig16.jpg)    | ![Figure 6.17](06fig17.jpg)  |\n",
    "-->\n",
    "## Fields are automatically discarded when no longer needed.\n",
    "![Figure 6.20](06fig20_alt.jpg)"
   ]
  },
  {
   "cell_type": "markdown",
   "metadata": {},
   "source": [
    "## Compute the number of males each person follows\n",
    "![Figure 6.23](06fig23.jpg)"
   ]
  },
  {
   "cell_type": "markdown",
   "metadata": {},
   "source": [
    "## Communication Patterns\n",
    "### None\n",
    "* Map  \n",
    "* Filter  \n",
    "(embarassingly parallel)  \n",
    "\n",
    "### All-to-one\n",
    "* Reduce\n",
    "\n",
    "### One-to-all\n",
    "* Broadcast\n",
    "\n",
    "### All-to-all\n",
    "* reduceByKey\n",
    "* groupyByKey\n",
    "* Join\n",
    "\n",
    "![Narrow vs Wide Dependenceis](dependencies.png)"
   ]
  },
  {
   "cell_type": "markdown",
   "metadata": {},
   "source": [
    "---------------------------------------------------------------------\n",
    "\n",
    "## Execution of sum aggregator and sum buffer at the MapReduce level\n",
    "![Figure 7.15](07fig15_alt.jpg)\n",
    "\n",
    "---------------------------------------------------------------------\n",
    "\n",
    "## Execution of a sum parallel aggregator at the MapReduce level\n",
    "![Figure 7.16](07fig16_alt.jpg)\n",
    "\n",
    "---------------------------------------------------------------------"
   ]
  },
  {
   "cell_type": "markdown",
   "metadata": {},
   "source": [
    "Example Batch Layer: SuperWebAnalytics.com\n",
    "==========================================\n",
    "Design of the SuperWebAnalytics.com batch layer\n",
    "---------------------------------------------------------------------\n",
    "### Supported queries\n",
    "* Pageview counts by URL sliced by time\n",
    "* Unique visitors by URL sliced by time\n",
    "* Bounce-rate analysis  \n",
    "\n",
    "**Examples of different pageviews for the same person being captured using different identifiers**\n",
    "![Figure 8.1](08fig01_alt.jpg)\n",
    "\n",
    "## Batch views\n",
    "<!--#### PAGEVIEWS OVER TIME-->\n",
    "**Precomputing pageviews with an hourly granularity**\n",
    "![Figure 8.2](08fig02_alt.jpg)  \n",
    "\n",
    "**Optimizing pageviews over large query ranges using coarser granularities**\n",
    "![Figure 8.3](08fig03_alt.jpg)\n",
    "\n",
    "**Number of buckets in a one-year period for each granularity**\n",
    "\n",
    "| Granularity | # buckets in 1 yr. |\n",
    "|:-----------:| ---------------------------:|\n",
    "| hourly      |  8760 |\n",
    "| daily       | ~ 365 |\n",
    "| weekly      |  ~ 52 |\n",
    "| monthly     |  ~ 13 |"
   ]
  },
  {
   "cell_type": "markdown",
   "metadata": {},
   "source": [
    "Workflow overview\n",
    "---------------------------------------------------------------------\n",
    "**Batch workflow for SuperWebAnalytics.com**\n",
    "![Figure 8.5](08fig05_alt.jpg)"
   ]
  },
  {
   "cell_type": "markdown",
   "metadata": {},
   "source": [
    "Ingesting new data\n",
    "---------------------------------------------------------------------\n",
    "![Figure 4.8](04fig08_alt.jpg)\n",
    "![Figure 5.1](05fig01_alt.jpg)"
   ]
  },
  {
   "cell_type": "markdown",
   "metadata": {},
   "source": [
    "URL normalization\n",
    "---------------------------------------------------------------------\n",
    "**URL-normalization DAG**"
   ]
  },
  {
   "cell_type": "code",
   "execution_count": 4,
   "metadata": {
    "collapsed": false
   },
   "outputs": [
    {
     "data": {
      "image/svg+xml": [
       "<?xml version=\"1.0\" encoding=\"UTF-8\" standalone=\"no\"?>\n",
       "<!DOCTYPE svg PUBLIC \"-//W3C//DTD SVG 1.1//EN\"\n",
       " \"http://www.w3.org/Graphics/SVG/1.1/DTD/svg11.dtd\">\n",
       "<!-- Generated by graphviz version 2.38.0 (20140413.2041)\n",
       " -->\n",
       "<!-- Title: %3 Pages: 1 -->\n",
       "<svg width=\"555pt\" height=\"61pt\"\n",
       " viewBox=\"0.00 0.00 554.99 60.63\" xmlns=\"http://www.w3.org/2000/svg\" xmlns:xlink=\"http://www.w3.org/1999/xlink\">\n",
       "<g id=\"graph0\" class=\"graph\" transform=\"scale(1 1) rotate(0) translate(4 56.6318)\">\n",
       "<title>%3</title>\n",
       "<polygon fill=\"white\" stroke=\"none\" points=\"-4,4 -4,-56.6318 550.993,-56.6318 550.993,4 -4,4\"/>\n",
       "<!-- Input -->\n",
       "<g id=\"node1\" class=\"node\"><title>Input</title>\n",
       "<polygon fill=\"none\" stroke=\"black\" points=\"147.622,-45.4495 -0.207614,-45.4495 -0.207614,-7.18234 147.622,-7.18234 147.622,-45.4495\"/>\n",
       "<text text-anchor=\"middle\" x=\"73.707\" y=\"-30.4318\" font-family=\"Times,serif\" font-size=\"14.00\">￼Input:</text>\n",
       "<text text-anchor=\"middle\" x=\"73.707\" y=\"-13.8\" font-family=\"Times,serif\" font-size=\"14.00\">[url, userid, timestamp]</text>\n",
       "</g>\n",
       "<!-- Function -->\n",
       "<g id=\"node2\" class=\"node\"><title>Function</title>\n",
       "<polygon fill=\"none\" stroke=\"black\" points=\"316.02,-52.449 183.545,-52.449 183.545,-0.182803 316.02,-0.182803 316.02,-52.449\"/>\n",
       "<text text-anchor=\"middle\" x=\"249.783\" y=\"-37.4318\" font-family=\"Times,serif\" font-size=\"14.00\">￼Function:</text>\n",
       "<text text-anchor=\"middle\" x=\"249.783\" y=\"-20.8\" font-family=\"Times,serif\" font-size=\"14.00\">NormalizeURL</text>\n",
       "<text text-anchor=\"middle\" x=\"249.783\" y=\"-6.8\" font-family=\"Times,serif\" font-size=\"14.00\">(url) &#45;&gt; (normed&#45;url)</text>\n",
       "</g>\n",
       "<!-- Input&#45;&gt;Function -->\n",
       "<g id=\"edge1\" class=\"edge\"><title>Input&#45;&gt;Function</title>\n",
       "<path fill=\"none\" stroke=\"black\" d=\"M147.522,-26.3159C156.093,-26.3159 164.854,-26.3159 173.459,-26.3159\"/>\n",
       "<polygon fill=\"black\" stroke=\"black\" points=\"173.468,-29.816 183.468,-26.3159 173.468,-22.816 173.468,-29.816\"/>\n",
       "</g>\n",
       "<!-- Output -->\n",
       "<g id=\"node3\" class=\"node\"><title>Output</title>\n",
       "<polygon fill=\"none\" stroke=\"black\" points=\"546.914,-44.3159 352.23,-44.3159 352.23,-8.31592 546.914,-8.31592 546.914,-44.3159\"/>\n",
       "<text text-anchor=\"middle\" x=\"449.572\" y=\"-29.1159\" font-family=\"Times,serif\" font-size=\"14.00\">Output:</text>\n",
       "<text text-anchor=\"middle\" x=\"449.572\" y=\"-15.1159\" font-family=\"Times,serif\" font-size=\"14.00\">[normed&#45;url, userid, timestamp]</text>\n",
       "</g>\n",
       "<!-- Function&#45;&gt;Output -->\n",
       "<g id=\"edge2\" class=\"edge\"><title>Function&#45;&gt;Output</title>\n",
       "<path fill=\"none\" stroke=\"black\" d=\"M316.095,-26.3159C324.515,-26.3159 333.305,-26.3159 342.175,-26.3159\"/>\n",
       "<polygon fill=\"black\" stroke=\"black\" points=\"342.209,-29.816 352.209,-26.3159 342.209,-22.816 342.209,-29.816\"/>\n",
       "</g>\n",
       "</g>\n",
       "</svg>\n"
      ]
     },
     "metadata": {},
     "output_type": "display_data"
    }
   ],
   "source": [
    "%%dot digraph {  \n",
    "    rankdir=LR;\n",
    "    \n",
    "    Input    [label = \"￼Input:\\n[url, userid, timestamp]\", shape = box]\n",
    "    Function [label = \"￼Function:\\nNormalizeURL\\n(url) -> (normed-url)\", shape = box]\n",
    "    Output   [label = \"Output:\\n[normed-url, userid, timestamp]\", shape = box]\n",
    "    \n",
    "    Input -> Function;\n",
    "    Function -> Output;\n",
    "}"
   ]
  },
  {
   "cell_type": "markdown",
   "metadata": {},
   "source": [
    "User-identifier normalization\n",
    "---------------------------------------------------------------------\n",
    "**Example equiv graph**\n",
    "![Figure 8.7](08fig07.jpg)\n",
    "**Mapping from user IDs to a single identifier for each set**\n",
    "![Figure 8.8](08fig08.jpg)\n",
    "\n",
    "*GraphX has a [ConnectedComponents](https://spark.apache.org/docs/latest/graphx-programming-guide.html#connected-components) algorithm that can be used for this purpose*"
   ]
  },
  {
   "cell_type": "code",
   "execution_count": 5,
   "metadata": {
    "collapsed": false
   },
   "outputs": [
    {
     "data": {
      "image/svg+xml": [
       "<?xml version=\"1.0\" encoding=\"UTF-8\" standalone=\"no\"?>\n",
       "<!DOCTYPE svg PUBLIC \"-//W3C//DTD SVG 1.1//EN\"\n",
       " \"http://www.w3.org/Graphics/SVG/1.1/DTD/svg11.dtd\">\n",
       "<!-- Generated by graphviz version 2.38.0 (20140413.2041)\n",
       " -->\n",
       "<!-- Title: %3 Pages: 1 -->\n",
       "<svg width=\"318pt\" height=\"295pt\"\n",
       " viewBox=\"0.00 0.00 318.24 295.26\" xmlns=\"http://www.w3.org/2000/svg\" xmlns:xlink=\"http://www.w3.org/1999/xlink\">\n",
       "<g id=\"graph0\" class=\"graph\" transform=\"scale(1 1) rotate(0) translate(4 291.264)\">\n",
       "<title>%3</title>\n",
       "<polygon fill=\"white\" stroke=\"none\" points=\"-4,4 -4,-291.264 314.238,-291.264 314.238,4 -4,4\"/>\n",
       "<!-- Input1 -->\n",
       "<g id=\"node1\" class=\"node\"><title>Input1</title>\n",
       "<polygon fill=\"none\" stroke=\"black\" points=\"147.622,-287.081 -0.207614,-287.081 -0.207614,-248.814 147.622,-248.814 147.622,-287.081\"/>\n",
       "<text text-anchor=\"middle\" x=\"73.707\" y=\"-272.064\" font-family=\"Times,serif\" font-size=\"14.00\">￼Input:</text>\n",
       "<text text-anchor=\"middle\" x=\"73.707\" y=\"-255.432\" font-family=\"Times,serif\" font-size=\"14.00\">[userid, url, timestamp]</text>\n",
       "</g>\n",
       "<!-- Join -->\n",
       "<g id=\"node5\" class=\"node\"><title>Join</title>\n",
       "<polygon fill=\"none\" stroke=\"black\" points=\"182.707,-198.632 128.707,-198.632 128.707,-162.632 182.707,-162.632 182.707,-198.632\"/>\n",
       "<text text-anchor=\"middle\" x=\"155.707\" y=\"-176.432\" font-family=\"Times,serif\" font-size=\"14.00\">Join</text>\n",
       "</g>\n",
       "<!-- Input1&#45;&gt;Join -->\n",
       "<g id=\"edge1\" class=\"edge\"><title>Input1&#45;&gt;Join</title>\n",
       "<path fill=\"none\" stroke=\"black\" d=\"M91.4998,-248.435C103.391,-236.063 119.166,-219.65 132.104,-206.19\"/>\n",
       "<polygon fill=\"black\" stroke=\"black\" points=\"134.936,-208.293 139.342,-198.658 129.889,-203.443 134.936,-208.293\"/>\n",
       "<text text-anchor=\"middle\" x=\"137.476\" y=\"-219.432\" font-family=\"Times,serif\" font-size=\"14.00\">Inner</text>\n",
       "</g>\n",
       "<!-- Input2 -->\n",
       "<g id=\"node2\" class=\"node\"><title>Input2</title>\n",
       "<polygon fill=\"none\" stroke=\"black\" points=\"310.27,-287.081 165.145,-287.081 165.145,-248.814 310.27,-248.814 310.27,-287.081\"/>\n",
       "<text text-anchor=\"middle\" x=\"237.707\" y=\"-272.064\" font-family=\"Times,serif\" font-size=\"14.00\">￼Input:</text>\n",
       "<text text-anchor=\"middle\" x=\"237.707\" y=\"-255.432\" font-family=\"Times,serif\" font-size=\"14.00\">[userid, normalized&#45;id]</text>\n",
       "</g>\n",
       "<!-- Input2&#45;&gt;Join -->\n",
       "<g id=\"edge2\" class=\"edge\"><title>Input2&#45;&gt;Join</title>\n",
       "<path fill=\"none\" stroke=\"black\" d=\"M219.914,-248.435C208.023,-236.063 192.248,-219.65 179.31,-206.19\"/>\n",
       "<polygon fill=\"black\" stroke=\"black\" points=\"181.525,-203.443 172.072,-198.658 176.478,-208.293 181.525,-203.443\"/>\n",
       "<text text-anchor=\"middle\" x=\"217.645\" y=\"-219.432\" font-family=\"Times,serif\" font-size=\"14.00\">Outer</text>\n",
       "</g>\n",
       "<!-- Function -->\n",
       "<g id=\"node3\" class=\"node\"><title>Function</title>\n",
       "<polygon fill=\"none\" stroke=\"black\" points=\"268.483,-125.449 42.9315,-125.449 42.9315,-73.1828 268.483,-73.1828 268.483,-125.449\"/>\n",
       "<text text-anchor=\"middle\" x=\"155.707\" y=\"-110.432\" font-family=\"Times,serif\" font-size=\"14.00\">￼Function:</text>\n",
       "<text text-anchor=\"middle\" x=\"155.707\" y=\"-93.8\" font-family=\"Times,serif\" font-size=\"14.00\">ChooseUserID</text>\n",
       "<text text-anchor=\"middle\" x=\"155.707\" y=\"-79.8\" font-family=\"Times,serif\" font-size=\"14.00\">(userid, normalized&#45;id) &#45;&gt; (output&#45;id)</text>\n",
       "</g>\n",
       "<!-- Output -->\n",
       "<g id=\"node4\" class=\"node\"><title>Output</title>\n",
       "<polygon fill=\"none\" stroke=\"black\" points=\"261.018,-36 50.3964,-36 50.3964,-0 261.018,-0 261.018,-36\"/>\n",
       "<text text-anchor=\"middle\" x=\"155.707\" y=\"-13.8\" font-family=\"Times,serif\" font-size=\"14.00\">Output: [output&#45;id, url, timestamp]</text>\n",
       "</g>\n",
       "<!-- Function&#45;&gt;Output -->\n",
       "<g id=\"edge4\" class=\"edge\"><title>Function&#45;&gt;Output</title>\n",
       "<path fill=\"none\" stroke=\"black\" d=\"M155.707,-72.7833C155.707,-64.377 155.707,-54.9967 155.707,-46.4537\"/>\n",
       "<polygon fill=\"black\" stroke=\"black\" points=\"159.207,-46.2164 155.707,-36.2165 152.207,-46.2165 159.207,-46.2164\"/>\n",
       "</g>\n",
       "<!-- Join&#45;&gt;Function -->\n",
       "<g id=\"edge3\" class=\"edge\"><title>Join&#45;&gt;Function</title>\n",
       "<path fill=\"none\" stroke=\"black\" d=\"M155.707,-162.421C155.707,-154.609 155.707,-145.064 155.707,-135.823\"/>\n",
       "<polygon fill=\"black\" stroke=\"black\" points=\"159.207,-135.627 155.707,-125.627 152.207,-135.627 159.207,-135.627\"/>\n",
       "</g>\n",
       "</g>\n",
       "</svg>\n"
      ]
     },
     "metadata": {},
     "output_type": "display_data"
    }
   ],
   "source": [
    "%%dot digraph {\n",
    "    node [shape=box]\n",
    "    \n",
    "    Input1   [label = \"￼Input:\\n[userid, url, timestamp]\"]\n",
    "    Input2   [label = \"￼Input:\\n[userid, normalized-id]\"]\n",
    "    Function [label = \"￼Function:\\nChooseUserID\\n(userid, normalized-id) -> (output-id)\"]\n",
    "    Output   [label = \"Output: [output-id, url, timestamp]\"]\n",
    "\n",
    "    Input1 -> Join [label=Inner];\n",
    "    Input2 -> Join [label=Outer];\n",
    "    Join -> Function;\n",
    "    Function -> Output;\n",
    "}"
   ]
  },
  {
   "cell_type": "markdown",
   "metadata": {},
   "source": [
    "Deduplicate pageviews\n",
    "---------------------------------------------------------------------\n",
    "**Deduplication DAG**\n",
    "<!--![Figure 8.15](08fig15.jpg)-->"
   ]
  },
  {
   "cell_type": "code",
   "execution_count": 6,
   "metadata": {
    "collapsed": false
   },
   "outputs": [
    {
     "data": {
      "image/svg+xml": [
       "<?xml version=\"1.0\" encoding=\"UTF-8\" standalone=\"no\"?>\n",
       "<!DOCTYPE svg PUBLIC \"-//W3C//DTD SVG 1.1//EN\"\n",
       " \"http://www.w3.org/Graphics/SVG/1.1/DTD/svg11.dtd\">\n",
       "<!-- Generated by graphviz version 2.38.0 (20140413.2041)\n",
       " -->\n",
       "<!-- Title: %3 Pages: 1 -->\n",
       "<svg width=\"473pt\" height=\"47pt\"\n",
       " viewBox=\"0.00 0.00 472.75 46.63\" xmlns=\"http://www.w3.org/2000/svg\" xmlns:xlink=\"http://www.w3.org/1999/xlink\">\n",
       "<g id=\"graph0\" class=\"graph\" transform=\"scale(1 1) rotate(0) translate(4 42.6318)\">\n",
       "<title>%3</title>\n",
       "<polygon fill=\"white\" stroke=\"none\" points=\"-4,4 -4,-42.6318 468.749,-42.6318 468.749,4 -4,4\"/>\n",
       "<!-- Input -->\n",
       "<g id=\"node1\" class=\"node\"><title>Input</title>\n",
       "<polygon fill=\"none\" stroke=\"black\" points=\"78.9487,-38.4495 0.0170824,-38.4495 0.0170824,-0.182344 78.9487,-0.182344 78.9487,-38.4495\"/>\n",
       "<text text-anchor=\"middle\" x=\"39.4829\" y=\"-23.4318\" font-family=\"Times,serif\" font-size=\"14.00\">￼Input:</text>\n",
       "<text text-anchor=\"middle\" x=\"39.4829\" y=\"-6.8\" font-family=\"Times,serif\" font-size=\"14.00\">[pageview]</text>\n",
       "</g>\n",
       "<!-- GroupBy -->\n",
       "<g id=\"node2\" class=\"node\"><title>GroupBy</title>\n",
       "<polygon fill=\"none\" stroke=\"black\" points=\"200.966,-38.4495 114.966,-38.4495 114.966,-0.182344 200.966,-0.182344 200.966,-38.4495\"/>\n",
       "<text text-anchor=\"middle\" x=\"157.966\" y=\"-23.4318\" font-family=\"Times,serif\" font-size=\"14.00\">￼GroupBy:</text>\n",
       "<text text-anchor=\"middle\" x=\"157.966\" y=\"-6.8\" font-family=\"Times,serif\" font-size=\"14.00\">[pageview]</text>\n",
       "</g>\n",
       "<!-- Input&#45;&gt;GroupBy -->\n",
       "<g id=\"edge1\" class=\"edge\"><title>Input&#45;&gt;GroupBy</title>\n",
       "<path fill=\"none\" stroke=\"black\" d=\"M79.27,-19.3159C87.3628,-19.3159 96.0217,-19.3159 104.515,-19.3159\"/>\n",
       "<polygon fill=\"black\" stroke=\"black\" points=\"104.743,-22.816 114.743,-19.3159 104.743,-15.816 104.743,-22.816\"/>\n",
       "</g>\n",
       "<!-- Aggregator -->\n",
       "<g id=\"node3\" class=\"node\"><title>Aggregator</title>\n",
       "<polygon fill=\"none\" stroke=\"black\" points=\"349.692,-37.3159 237.057,-37.3159 237.057,-1.31592 349.692,-1.31592 349.692,-37.3159\"/>\n",
       "<text text-anchor=\"middle\" x=\"293.375\" y=\"-22.1159\" font-family=\"Times,serif\" font-size=\"14.00\">Aggregator: First</text>\n",
       "<text text-anchor=\"middle\" x=\"293.375\" y=\"-8.11592\" font-family=\"Times,serif\" font-size=\"14.00\">() &#45;&gt; ()</text>\n",
       "</g>\n",
       "<!-- GroupBy&#45;&gt;Aggregator -->\n",
       "<g id=\"edge2\" class=\"edge\"><title>GroupBy&#45;&gt;Aggregator</title>\n",
       "<path fill=\"none\" stroke=\"black\" d=\"M201.177,-19.3159C209.298,-19.3159 217.98,-19.3159 226.641,-19.3159\"/>\n",
       "<polygon fill=\"black\" stroke=\"black\" points=\"226.763,-22.816 236.763,-19.3159 226.763,-15.816 226.763,-22.816\"/>\n",
       "</g>\n",
       "<!-- Output -->\n",
       "<g id=\"node4\" class=\"node\"><title>Output</title>\n",
       "<polygon fill=\"none\" stroke=\"black\" points=\"464.732,-37.3159 385.8,-37.3159 385.8,-1.31592 464.732,-1.31592 464.732,-37.3159\"/>\n",
       "<text text-anchor=\"middle\" x=\"425.266\" y=\"-22.1159\" font-family=\"Times,serif\" font-size=\"14.00\">Output:</text>\n",
       "<text text-anchor=\"middle\" x=\"425.266\" y=\"-8.11592\" font-family=\"Times,serif\" font-size=\"14.00\">[pageview]</text>\n",
       "</g>\n",
       "<!-- Aggregator&#45;&gt;Output -->\n",
       "<g id=\"edge3\" class=\"edge\"><title>Aggregator&#45;&gt;Output</title>\n",
       "<path fill=\"none\" stroke=\"black\" d=\"M349.837,-19.3159C358.273,-19.3159 366.927,-19.3159 375.214,-19.3159\"/>\n",
       "<polygon fill=\"black\" stroke=\"black\" points=\"375.469,-22.816 385.469,-19.3159 375.469,-15.816 375.469,-22.816\"/>\n",
       "</g>\n",
       "</g>\n",
       "</svg>\n"
      ]
     },
     "metadata": {},
     "output_type": "display_data"
    }
   ],
   "source": [
    "%%dot digraph {  \n",
    "    rankdir=LR;\n",
    "    \n",
    "    Input      [label = \"￼Input:\\n[pageview]\", shape = box]\n",
    "    GroupBy    [label = \"￼GroupBy:\\n[pageview]\", shape = box]\n",
    "    Aggregator [label = \"Aggregator: First\\n() -> ()\", shape = box]\n",
    "    Output     [label = \"Output:\\n[pageview]\", shape = box]\n",
    "    \n",
    "    Input -> GroupBy;\n",
    "    GroupBy -> Aggregator;\n",
    "    Aggregator -> Output;\n",
    "}"
   ]
  },
  {
   "cell_type": "markdown",
   "metadata": {},
   "source": [
    "Computing batch views\n",
    "---------------------------------------------------------------------\n",
    "### Pageviews over time\n",
    "**Computing hourly granularities for pageviews over time**"
   ]
  },
  {
   "cell_type": "code",
   "execution_count": 7,
   "metadata": {
    "collapsed": false
   },
   "outputs": [
    {
     "data": {
      "image/svg+xml": [
       "<?xml version=\"1.0\" encoding=\"UTF-8\" standalone=\"no\"?>\n",
       "<!DOCTYPE svg PUBLIC \"-//W3C//DTD SVG 1.1//EN\"\n",
       " \"http://www.w3.org/Graphics/SVG/1.1/DTD/svg11.dtd\">\n",
       "<!-- Generated by graphviz version 2.38.0 (20140413.2041)\n",
       " -->\n",
       "<!-- Title: %3 Pages: 1 -->\n",
       "<svg width=\"189pt\" height=\"368pt\"\n",
       " viewBox=\"0.00 0.00 188.83 367.90\" xmlns=\"http://www.w3.org/2000/svg\" xmlns:xlink=\"http://www.w3.org/1999/xlink\">\n",
       "<g id=\"graph0\" class=\"graph\" transform=\"scale(1 1) rotate(0) translate(4 363.896)\">\n",
       "<title>%3</title>\n",
       "<polygon fill=\"white\" stroke=\"none\" points=\"-4,4 -4,-363.896 184.835,-363.896 184.835,4 -4,4\"/>\n",
       "<!-- Input -->\n",
       "<g id=\"node1\" class=\"node\"><title>Input</title>\n",
       "<polygon fill=\"none\" stroke=\"black\" points=\"164.332,-359.713 16.5028,-359.713 16.5028,-321.446 164.332,-321.446 164.332,-359.713\"/>\n",
       "<text text-anchor=\"middle\" x=\"90.4175\" y=\"-344.696\" font-family=\"Times,serif\" font-size=\"14.00\">￼Input:</text>\n",
       "<text text-anchor=\"middle\" x=\"90.4175\" y=\"-328.064\" font-family=\"Times,serif\" font-size=\"14.00\">[userid, url, timestamp]</text>\n",
       "</g>\n",
       "<!-- Function -->\n",
       "<g id=\"node2\" class=\"node\"><title>Function</title>\n",
       "<polygon fill=\"none\" stroke=\"black\" points=\"165.265,-285.081 15.5697,-285.081 15.5697,-232.815 165.265,-232.815 165.265,-285.081\"/>\n",
       "<text text-anchor=\"middle\" x=\"90.4175\" y=\"-270.064\" font-family=\"Times,serif\" font-size=\"14.00\">￼Function:</text>\n",
       "<text text-anchor=\"middle\" x=\"90.4175\" y=\"-253.432\" font-family=\"Times,serif\" font-size=\"14.00\">ToHourBucket</text>\n",
       "<text text-anchor=\"middle\" x=\"90.4175\" y=\"-239.432\" font-family=\"Times,serif\" font-size=\"14.00\">(timestamp) &#45;&gt; (bucket)</text>\n",
       "</g>\n",
       "<!-- Input&#45;&gt;Function -->\n",
       "<g id=\"edge1\" class=\"edge\"><title>Input&#45;&gt;Function</title>\n",
       "<path fill=\"none\" stroke=\"black\" d=\"M90.4175,-321.11C90.4175,-313.449 90.4175,-304.29 90.4175,-295.423\"/>\n",
       "<polygon fill=\"black\" stroke=\"black\" points=\"93.9176,-295.253 90.4175,-285.253 86.9176,-295.253 93.9176,-295.253\"/>\n",
       "</g>\n",
       "<!-- GroupBy -->\n",
       "<g id=\"node3\" class=\"node\"><title>GroupBy</title>\n",
       "<polygon fill=\"none\" stroke=\"black\" points=\"133.417,-196.449 47.4175,-196.449 47.4175,-158.182 133.417,-158.182 133.417,-196.449\"/>\n",
       "<text text-anchor=\"middle\" x=\"90.4175\" y=\"-181.432\" font-family=\"Times,serif\" font-size=\"14.00\">￼GroupBy:</text>\n",
       "<text text-anchor=\"middle\" x=\"90.4175\" y=\"-164.8\" font-family=\"Times,serif\" font-size=\"14.00\">[url, bucket]</text>\n",
       "</g>\n",
       "<!-- Function&#45;&gt;GroupBy -->\n",
       "<g id=\"edge2\" class=\"edge\"><title>Function&#45;&gt;GroupBy</title>\n",
       "<path fill=\"none\" stroke=\"black\" d=\"M90.4175,-232.752C90.4175,-224.55 90.4175,-215.387 90.4175,-206.952\"/>\n",
       "<polygon fill=\"black\" stroke=\"black\" points=\"93.9176,-206.785 90.4175,-196.785 86.9176,-206.785 93.9176,-206.785\"/>\n",
       "</g>\n",
       "<!-- Aggregator -->\n",
       "<g id=\"node4\" class=\"node\"><title>Aggregator</title>\n",
       "<polygon fill=\"none\" stroke=\"black\" points=\"161.765,-122 19.0697,-122 19.0697,-72 161.765,-72 161.765,-122\"/>\n",
       "<text text-anchor=\"middle\" x=\"90.4175\" y=\"-106.8\" font-family=\"Times,serif\" font-size=\"14.00\">Aggregator:</text>\n",
       "<text text-anchor=\"middle\" x=\"90.4175\" y=\"-92.8\" font-family=\"Times,serif\" font-size=\"14.00\">Count</text>\n",
       "<text text-anchor=\"middle\" x=\"90.4175\" y=\"-78.8\" font-family=\"Times,serif\" font-size=\"14.00\">() &#45;&gt; (num&#45;pageviews)</text>\n",
       "</g>\n",
       "<!-- GroupBy&#45;&gt;Aggregator -->\n",
       "<g id=\"edge3\" class=\"edge\"><title>GroupBy&#45;&gt;Aggregator</title>\n",
       "<path fill=\"none\" stroke=\"black\" d=\"M90.4175,-158.152C90.4175,-150.422 90.4175,-141.143 90.4175,-132.213\"/>\n",
       "<polygon fill=\"black\" stroke=\"black\" points=\"93.9176,-132.003 90.4175,-122.003 86.9176,-132.003 93.9176,-132.003\"/>\n",
       "</g>\n",
       "<!-- Output -->\n",
       "<g id=\"node5\" class=\"node\"><title>Output</title>\n",
       "<polygon fill=\"none\" stroke=\"black\" points=\"180.753,-36 0.0824443,-36 0.0824443,-0 180.753,-0 180.753,-36\"/>\n",
       "<text text-anchor=\"middle\" x=\"90.4175\" y=\"-20.8\" font-family=\"Times,serif\" font-size=\"14.00\">Output:</text>\n",
       "<text text-anchor=\"middle\" x=\"90.4175\" y=\"-6.8\" font-family=\"Times,serif\" font-size=\"14.00\">[url, bucket, num&#45;pageviews]</text>\n",
       "</g>\n",
       "<!-- Aggregator&#45;&gt;Output -->\n",
       "<g id=\"edge4\" class=\"edge\"><title>Aggregator&#45;&gt;Output</title>\n",
       "<path fill=\"none\" stroke=\"black\" d=\"M90.4175,-71.6367C90.4175,-63.6715 90.4175,-54.7689 90.4175,-46.5838\"/>\n",
       "<polygon fill=\"black\" stroke=\"black\" points=\"93.9176,-46.3763 90.4175,-36.3763 86.9176,-46.3763 93.9176,-46.3763\"/>\n",
       "</g>\n",
       "</g>\n",
       "</svg>\n"
      ]
     },
     "metadata": {},
     "output_type": "display_data"
    }
   ],
   "source": [
    "%%dot digraph {\n",
    "    node [shape=box]\n",
    "    \n",
    "    Input      [label = \"￼Input:\\n[userid, url, timestamp]\"]\n",
    "    Function   [label = \"￼Function:\\nToHourBucket\\n(timestamp) -> (bucket)\"]\n",
    "    GroupBy    [label = \"￼GroupBy:\\n[url, bucket]\"]\n",
    "    Aggregator [label = \"Aggregator:\\nCount\\n() -> (num-pageviews)\"]\n",
    "    Output     [label = \"Output:\\n[url, bucket, num-pageviews]\"]\n",
    "    \n",
    "    Input -> Function;\n",
    "    Function -> GroupBy;\n",
    "    GroupBy -> Aggregator;\n",
    "    Aggregator -> Output;\n",
    "}"
   ]
  },
  {
   "cell_type": "markdown",
   "metadata": {
    "collapsed": true
   },
   "source": [
    "Lab\n",
    "===============================================================\n",
    "Leveraging the work you did in `hdfs2`, load the page view data from `SuperWebAnalytics/master/page_view` and write batch jobs (in Spark) to do the following:\n",
    "1. URL normalization (strip '`http://`', '`#`'s, '`?`'s, etc.)\n",
    "2. Deduplicate page views\n",
    "3. Roll up page-views over time (by hour, day, week, and month)"
   ]
  }
 ],
 "metadata": {
  "kernelspec": {
   "display_name": "Python 2",
   "language": "python",
   "name": "python2"
  },
  "language_info": {
   "codemirror_mode": {
    "name": "ipython",
    "version": 2
   },
   "file_extension": ".py",
   "mimetype": "text/x-python",
   "name": "python",
   "nbconvert_exporter": "python",
   "pygments_lexer": "ipython2",
   "version": "2.7.10"
  }
 },
 "nbformat": 4,
 "nbformat_minor": 0
}
