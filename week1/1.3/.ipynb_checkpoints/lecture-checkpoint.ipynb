{
 "cells": [
  {
   "cell_type": "code",
   "execution_count": null,
   "metadata": {
    "collapsed": true
   },
   "outputs": [],
   "source": [
    "%%javascript\n",
    "$.getScript('http://asimjalis.github.io/ipyn-ext/js/ipyn-present.js')"
   ]
  },
  {
   "cell_type": "markdown",
   "metadata": {},
   "source": [
    "<!-- \n",
    "This file was auto-generated from markdown using notedown.\n",
    "Instead of modifying the ipynb modify the markdown source. \n",
    "-->\n",
    "\n",
    "<h1 class=\"tocheading\">AWS Services</h1>\n",
    "<div id=\"toc\"></div>\n",
    "\n",
    "AWS Services\n",
    "============\n",
    "\n",
    "Objectives\n",
    "----------\n",
    "\n",
    "By the end of this class you will be able to:\n",
    "\n",
    "- Explain what Cloud Computing is\n",
    "- Explain what AWS, S3, EC2 are\n",
    "- Provide reasons why Amazon leads in the cloud space \n",
    "- Provide pros and cons of cloud vs on-prem data systems\n",
    "- How you can write and read files in S3\n",
    "- How you can control access to files in S3\n",
    "- How you can store images, movies, and HTML files S3\n",
    "- How you can launch Linux machines on EC2\n",
    "- How you can log into EC2 machines and run programs on them\n",
    "- How you can create a cloud-based data engineering platform\n",
    "\n",
    "AWS Storage + Execution\n",
    "-----------------------\n",
    "\n",
    "What are the primary services that Amazon AWS offers?\n",
    "\n",
    "Name   |Full Name                  |Service\n",
    "----   |---------                  |-------\n",
    "EC2    |Elastic Compute Cloud      |Execution\n",
    "S3     |Simple Storage Service     |Storage\n",
    "EBS    |Elastic Block Store        |Storage attached to EC2 instances\n",
    "\n",
    "Pop Quiz\n",
    "--------\n",
    "\n",
    "<details><summary>\n",
    "Q: I want to store some video files on the web. Which Amazon service\n",
    "should I use?\n",
    "</summary>\n",
    "S3\n",
    "</details>\n",
    "\n",
    "<details><summary>\n",
    "Q: I just created an iPhone app which needs to store user profiles on the\n",
    "web somewhere. Which Amazon service should I use?\n",
    "</summary>\n",
    "S3\n",
    "</details>\n",
    "\n",
    "<details><summary>\n",
    "Q: I want to create a web application in PHP. Which Amazon service\n",
    "should I use?\n",
    "</summary>\n",
    "EC2 + EBS or EC2 + S3\n",
    "</details>\n",
    "\n",
    "S3 vs EBS\n",
    "---------\n",
    "\n",
    "What is the difference between S3 and EBS? Why would I use one versus\n",
    "the other?\n",
    "\n",
    "Feature                |S3                   |EBS\n",
    "-------                |--                   |---\n",
    "Can be accessed from   |Anywhere on the web  |Particular availability zone\n",
    "Can be accessed from   |Any EC2 instance     |EC2 instance attached to it\n",
    "Pricing                |Storage              |Storage + IOPS\n",
    "Price                  |Cheaper              |More Expensive\n",
    "Latency                |Higher               |Lower\n",
    "Throughput             |Varies More          |Varies Less\n",
    "Performance            |Slightly Worse       |Slightly Better\n",
    "Max volume size        |Unlimited            |16 TB\n",
    "Max file size          |5 TB                 |16 TB\n",
    "\n",
    "Pop Quiz\n",
    "--------\n",
    "\n",
    "<details><summary>\n",
    "Q: What is latency?\n",
    "</summary>\n",
    "Latency is the time it takes between making a request and the start of a response.\n",
    "</details>\n",
    "\n",
    "<details><summary>\n",
    "Q: Which is better? Higher latency or lower?\n",
    "</summary>\n",
    "Lower is better.\n",
    "</details>\n",
    "\n",
    "<details><summary>\n",
    "Q: Why is S3 latency higher than EBS?\n",
    "</summary>\n",
    "One reason is that EBS is in the same availability zone.\n",
    "</details>\n",
    "\n",
    "Amazon vs Other Cloud Services\n",
    "------------------------------\n",
    "\n",
    "Why do so many companies use Amazon's Web Services for their backend?\n",
    "\n",
    "- Steve Yegge provides one of the big reasons for AWS's popularity.\n",
    "\n",
    "Steve Yegge and Decoupled Design\n",
    "--------------------------------\n",
    "\n",
    "<img src=\"images/yegge.jpg\">\n",
    "\n",
    "Who is Steve Yegge?\n",
    "\n",
    "- Steve Yegge is a developer from Amazon and Google.\n",
    "\n",
    "- Steve blogged a long [rant][yegge-rant] about Amazon's APIs vs\n",
    "  Google's APIs.\n",
    "\n",
    "[yegge-rant]: https://plus.google.com/+RipRowan/posts/eVeouesvaVX\n",
    "\n",
    "What is the difference between Amazon and Google's APIs?\n",
    "\n",
    "- At Amazon developers have to use Amazon's public APIs to for their\n",
    "  internal dependencies.\n",
    "\n",
    "- At Google developers can use private APIs for dependencies.\n",
    "\n",
    "- The forced dogfooding makes Amazon's APIs more decoupled.\n",
    "\n",
    "\n",
    "Cloud vs On-Prem\n",
    "----------------\n",
    "\n",
    "What are the pros and cons of cloud vs on-premises hosting or *on-prem*?\n",
    "\n",
    "Like Uber vs owning your own car.\n",
    "\n",
    "Feature          |Cloud                    |On-Prem\n",
    "-------          |-----                    |-------\n",
    "Cost             |Higher variable cost     |Higher fixed cost\n",
    "Capacity         |Elastic                  |Fixed\n",
    "Performance      |Moderate                 |Can be better if within\n",
    "Security         |Provider secures         |Company secures\n",
    "Office Politics  |Teams get own resources  |Teams compete for fixed resources\n",
    "\n",
    "---\n",
    "\n",
    "Amazon S3\n",
    "=========\n",
    "\n",
    "Buckets and Files\n",
    "-----------------\n",
    "\n",
    "What is a bucket?\n",
    "\n",
    "- A bucket is a container for files.\n",
    "\n",
    "- Think of a bucket as a logical grouping of files like a sub-domain.\n",
    "\n",
    "- A bucket can contain an arbitrary number of files.\n",
    "\n",
    "How large can a file in a bucket be?\n",
    "\n",
    "- A file in a bucket can be 5 TB.\n",
    "\n",
    "Bucket Names\n",
    "------------\n",
    "\n",
    "What are best practices on naming buckets?\n",
    "\n",
    "- Bucket names should be DNS-compliant.\n",
    "\n",
    "- They must be at least 3 and no more than 63 characters long.\n",
    "\n",
    "- They must be a series of one or more labels, separated by a single\n",
    "  period. \n",
    "  \n",
    "- Bucket names can contain lowercase letters, numbers, and hyphens. \n",
    "\n",
    "- Each label must start and end with a lowercase letter or a number.\n",
    "\n",
    "- Bucket names must not be formatted as an IP address (e.g., 192.168.5.4).\n",
    "\n",
    "What are some examples of valid bucket names?\n",
    "\n",
    "- `myawsbucket`\n",
    "\n",
    "- `my.aws.bucket`\n",
    "\n",
    "- `myawsbucket.1`\n",
    "\n",
    "What are some examples of invalid bucket names? \n",
    "\n",
    "- `.myawsbucket`\n",
    "\n",
    "- `myawsbucket.`\n",
    "\n",
    "- `my..examplebucket`\n",
    "\n",
    "Pop Quiz\n",
    "--------\n",
    "\n",
    "<details><summary>\n",
    "Q: Why are these bucket names invalid?\n",
    "</summary>\n",
    "Bucket names cannot start or end with a period. And they cannot have a\n",
    "multiple periods next to each other.\n",
    "</details>\n",
    "\n",
    "Creating Buckets\n",
    "----------------\n",
    "\n",
    "Q: How can I create a bucket?\n",
    "\n",
    "- Get your access key and secret key from the `rootkey.csv` that you\n",
    "  downloaded from Amazon AWS.\n",
    "  \n",
    "- In the following snippet replace `/dev/null` with `~/.aws/credentials` \n",
    "  (on Linux/Mac) or `%USERPROFILE%\\.aws\\credentials` (on Windows), and \n",
    "  replace `ACCESS_KEY` and `SECRET_KEY` with the keys from `rootkey.csv`.\n",
    "  \n",
    "        %%writefile /dev/null      \n",
    "        [default]\n",
    "        aws_access_key_id = ACCESS_KEY\n",
    "        aws_secret_access_key = SECRET_KEY\n",
    "\n",
    "- Create a connection to S3."
   ]
  },
  {
   "cell_type": "code",
   "execution_count": null,
   "metadata": {
    "collapsed": true
   },
   "outputs": [],
   "source": [
    "import boto\n",
    "conn = boto.connect_s3()\n",
    "print conn"
   ]
  },
  {
   "cell_type": "markdown",
   "metadata": {},
   "source": [
    "- List all the buckets."
   ]
  },
  {
   "cell_type": "code",
   "execution_count": null,
   "metadata": {
    "collapsed": true
   },
   "outputs": [],
   "source": [
    "conn.get_all_buckets()"
   ]
  },
  {
   "cell_type": "markdown",
   "metadata": {},
   "source": [
    "- Create new bucket."
   ]
  },
  {
   "cell_type": "code",
   "execution_count": null,
   "metadata": {
    "collapsed": true
   },
   "outputs": [],
   "source": [
    "import os\n",
    "user = os.environ['USER']\n",
    "bucket_name = user + \"1\"\n",
    "bucket_name = bucket_name.lower()\n",
    "print bucket_name\n",
    "bucket = conn.create_bucket(bucket_name)\n",
    "print bucket"
   ]
  },
  {
   "cell_type": "markdown",
   "metadata": {},
   "source": [
    "Upgrading Boto\n",
    "--------------\n",
    "\n",
    "Q: Boto is not able to find the credentials. How can I fix this?\n",
    "\n",
    "- Older versions of Boto were not able to read the credentials file.\n",
    "\n",
    "- You might run into this problem on the EC2 instance.\n",
    "\n",
    "- Here is how to upgrade Boto to the latest version."
   ]
  },
  {
   "cell_type": "code",
   "execution_count": null,
   "metadata": {
    "collapsed": true
   },
   "outputs": [],
   "source": [
    "sudo pip install --upgrade boto"
   ]
  },
  {
   "cell_type": "markdown",
   "metadata": {},
   "source": [
    "Adding Files\n",
    "------------\n",
    "\n",
    "Q: How can I add a file to a bucket?\n",
    "\n",
    "- List files."
   ]
  },
  {
   "cell_type": "code",
   "execution_count": null,
   "metadata": {
    "collapsed": true
   },
   "outputs": [],
   "source": [
    "bucket.get_all_keys()"
   ]
  },
  {
   "cell_type": "markdown",
   "metadata": {},
   "source": [
    "- Add file."
   ]
  },
  {
   "cell_type": "code",
   "execution_count": null,
   "metadata": {
    "collapsed": true
   },
   "outputs": [],
   "source": [
    "file = bucket.new_key('file.txt')\n",
    "print file\n",
    "file.set_contents_from_string('hello world!!')"
   ]
  },
  {
   "cell_type": "markdown",
   "metadata": {},
   "source": [
    "- List files again. New file should appear."
   ]
  },
  {
   "cell_type": "code",
   "execution_count": null,
   "metadata": {
    "collapsed": true
   },
   "outputs": [],
   "source": [
    "bucket.get_all_keys()"
   ]
  },
  {
   "cell_type": "markdown",
   "metadata": {},
   "source": [
    "Q: How can I get a file from a bucket?\n",
    "\n",
    "- Get file."
   ]
  },
  {
   "cell_type": "code",
   "execution_count": null,
   "metadata": {
    "collapsed": true
   },
   "outputs": [],
   "source": [
    "f = bucket.get_key('file.txt')\n",
    "print f.get_contents_as_string()"
   ]
  },
  {
   "cell_type": "markdown",
   "metadata": {},
   "source": [
    "Creating Buckets With Periods\n",
    "-----------------------------\n",
    "\n",
    "Q: How can I create a bucket in Boto with a period in the name?\n",
    "\n",
    "- There is a bug in Boto that causes `create_bucket` to fail if the\n",
    "  bucket name has a period in it. \n",
    "\n",
    "- To get around this run this code snippet."
   ]
  },
  {
   "cell_type": "code",
   "execution_count": null,
   "metadata": {
    "collapsed": true
   },
   "outputs": [],
   "source": [
    "import ssl\n",
    "if hasattr(ssl, '_create_unverified_context'):\n",
    "    ssl._create_default_https_context = ssl._create_unverified_context"
   ]
  },
  {
   "cell_type": "markdown",
   "metadata": {},
   "source": [
    "- Now try creating the bucket with a period in its name and it should work."
   ]
  },
  {
   "cell_type": "code",
   "execution_count": null,
   "metadata": {
    "collapsed": true
   },
   "outputs": [],
   "source": [
    "bucket_name_with_period = bucket_name + \".1.2.3\"\n",
    "bucket_with_period = conn.create_bucket(bucket_name_with_period)\n",
    "bucket_with_period.delete()"
   ]
  },
  {
   "cell_type": "markdown",
   "metadata": {},
   "source": [
    "- For more details see <https://github.com/boto/boto/issues/2836>.\n",
    "\n",
    "Access Control\n",
    "--------------\n",
    "\n",
    "Q: I want to access my S3 file from a web browser without giving my\n",
    "access and secret keys. How can I open up access to the file to\n",
    "anyone?\n",
    "\n",
    "- You can set up Access Control Lists (ACLs) at the level of the\n",
    "  bucket or at the level of the individual objects in the bucket\n",
    "  (folders, files).\n",
    "\n",
    "Q: What are the different ACL policies?\n",
    "\n",
    "ACL Policy           |Meaning\n",
    "----------           |-------\n",
    "`private`            |No one else besides owner has any access rights.\n",
    "`public-read`        |Everyone has read access.\n",
    "`public-read-write`  |Everyone has read/write access.\n",
    "`authenticated-read` |Registered Amazon S3 users have read access.\n",
    "\n",
    "Q: What does `read` and `write` mean for buckets and files?\n",
    "\n",
    "- Read access to a file lets you read the file.\n",
    "\n",
    "- Read access to a bucket or folder lets you see the names of the\n",
    "  files inside it.\n",
    "\n",
    "Pop Quiz\n",
    "--------\n",
    "\n",
    "<details><summary>\n",
    "Q: If a bucket is `private` and a file inside it is `public-read` can\n",
    "I view it through a web browser?\n",
    "</summary>\n",
    "Yes. Access to the file is only determined by its ACL policy.\n",
    "</details>\n",
    "\n",
    "<details><summary>\n",
    "Q: If a bucket is `public-read` and a file inside it is `private` can\n",
    "I view the file through a web browser?\n",
    "</summary>\n",
    "No, you cannot. However, if you access the URL for the bucket you will see the file listed.\n",
    "</details>\n",
    "\n",
    "Applying Access Control\n",
    "-----------------------\n",
    "\n",
    "Q: How can I make a file available on the web so anyone can read it?\n",
    "\n",
    "- Create a file with a specific ACL."
   ]
  },
  {
   "cell_type": "code",
   "execution_count": null,
   "metadata": {
    "collapsed": true
   },
   "outputs": [],
   "source": [
    "file2 = bucket.new_key('file2.txt')\n",
    "file2.set_contents_from_string('hello world!!!',policy='private')"
   ]
  },
  {
   "cell_type": "markdown",
   "metadata": {},
   "source": [
    "- Try reading the file."
   ]
  },
  {
   "cell_type": "code",
   "execution_count": null,
   "metadata": {
    "collapsed": true
   },
   "outputs": [],
   "source": [
    "file2_url = 'http://s3.amazonaws.com/' + bucket_name + '/file2.txt'\n",
    "print file2_url\n",
    "!curl $file2_url"
   ]
  },
  {
   "cell_type": "markdown",
   "metadata": {},
   "source": [
    "- Now change its ACL."
   ]
  },
  {
   "cell_type": "code",
   "execution_count": null,
   "metadata": {
    "collapsed": true
   },
   "outputs": [],
   "source": [
    "file2.set_acl('public-read')\n",
    "!curl $file2_url"
   ]
  },
  {
   "cell_type": "markdown",
   "metadata": {},
   "source": [
    "- Also you can try accessing the file through the browser.\n",
    "\n",
    "- If you do not specify the ACL for a file when you set its contents,\n",
    "  the file is `private` by default.\n",
    "\n",
    "S3 Files to URLs\n",
    "----------------\n",
    "\n",
    "Q: How can I figure out the URL of my S3 file?\n",
    "\n",
    "- As above, you can compose the URL using the region, bucket, and file name. \n",
    "\n",
    "- For N. Virginia the general template for the URL is `http://s3.amazonaws.com/BUCKET/FILE`.\n",
    "\n",
    "- You can also find the URL by looking at the file on the AWS web console.\n",
    "\n",
    "Deleting Buckets\n",
    "----------------\n",
    "\n",
    "Q: How can I delete a bucket?\n",
    "\n",
    "- Try deleting a bucket containing files. What happens?"
   ]
  },
  {
   "cell_type": "code",
   "execution_count": null,
   "metadata": {
    "collapsed": true
   },
   "outputs": [],
   "source": [
    "print conn.get_all_buckets()\n",
    "bucket.delete()"
   ]
  },
  {
   "cell_type": "markdown",
   "metadata": {},
   "source": [
    "- To delete the bucket first delete all the files in it."
   ]
  },
  {
   "cell_type": "code",
   "execution_count": null,
   "metadata": {
    "collapsed": true
   },
   "outputs": [],
   "source": [
    "for key in bucket.get_all_keys(): \n",
    "    key.delete()"
   ]
  },
  {
   "cell_type": "markdown",
   "metadata": {},
   "source": [
    "- Then delete the bucket."
   ]
  },
  {
   "cell_type": "code",
   "execution_count": null,
   "metadata": {
    "collapsed": true
   },
   "outputs": [],
   "source": [
    "print conn.get_all_buckets()\n",
    "bucket.delete()\n",
    "print conn.get_all_buckets()"
   ]
  },
  {
   "cell_type": "markdown",
   "metadata": {},
   "source": [
    "---\n",
    "\n",
    "Amazon EC2\n",
    "==========\n",
    "\n",
    "Regions\n",
    "-------\n",
    "\n",
    "Q: What are *AWS Regions*?\n",
    "\n",
    "- AWS is hosted in different geographic locations world-wide. \n",
    "\n",
    "- For example, there are 3 regions in the US.\n",
    "\n",
    "Q: What are the regions in the US\n",
    "\n",
    "Region       |Name       |Location \n",
    "------       |----       |-------- \n",
    "us-east-1    |US East    |N. Virginia\n",
    "us-west-1    |US West    |N. California\n",
    "us-west-2    |US West 2  |Oregon\n",
    "\n",
    "Q: How should I choose a region?\n",
    "\n",
    "- N. Virginia or `us-east-1` is the default region for EC2.\n",
    "\n",
    "- Using a region other than N. Virginia requires additional configuration.\n",
    "\n",
    "- If you are not sure choose N. Virginia.\n",
    "\n",
    "Availability Zones\n",
    "------------------\n",
    "\n",
    "Q: What are *AWS Availability Zones*?\n",
    "\n",
    "- Regions are divided into isolated availability zones for fault\n",
    "  tolerance.\n",
    "\n",
    "- Availability zone run on physically separate hardware and\n",
    "  infrastructure.\n",
    "\n",
    "- They do not share hardware, or generators, or cooling equipment. \n",
    "\n",
    "- Availability zones are assigned automatically to your EC2 instances\n",
    "  based on your user ID.\n",
    "\n",
    "<img src=\"images/aws_regions.png\">\n",
    "\n",
    "<details><summary>\n",
    "Q: Is it possible for two separate users to coordinate and land on the\n",
    "same availability zone?\n",
    "</summary>\n",
    "1. Availability zones are assigned automatically by the system.\n",
    "<br>\n",
    "2. It is not possible for two AWS users to coordinate and be hosted on the same\n",
    "availability zone.\n",
    "</details>\n",
    "\n",
    "Connecting to EC2\n",
    "-----------------\n",
    "\n",
    "Q: How can I connect to an EC2 instance?\n",
    "\n",
    "- Login to the AWS console.\n",
    "\n",
    "- Navigate: EC2 > Launch Instance > Community AMIs > Search community AMIs > `ami-d1737bb8`\n",
    "\n",
    "- View the instance and get its Public DNS.\n",
    "\n",
    "- This should look something like `ec2-52-3-161-43.compute-1.amazonaws.com`.\n",
    "\n",
    "- Use this command to connect to it.\n",
    "\n",
    "- `ssh -X -i ~/.ssh/keypair.pem user@domain`\n",
    "\n",
    "- Here is an example. \n",
    "\n",
    "- `ssh -X -i ~/.ssh/keypair.pem ubuntu@ec2-52-3-161-43.compute-1.amazonaws.com`\n",
    "\n",
    "- Make sure you replace the Public DNS value below with the value you\n",
    "  have for your instance.\n",
    "\n",
    "Copying Files to EC2\n",
    "--------------------\n",
    "\n",
    "Q: How can I copy files to the EC2 instance?\n",
    "\n",
    "- To copy a file `myfile.txt` to EC2, use a command like this.\n",
    "\n",
    "- `scp -i ~/.ssh/keypair.pem myfile.txt user@domain:`\n",
    "\n",
    "- To copy a directory `mydir` recursively to EC2, use a command like\n",
    "  this. \n",
    "  \n",
    "- `scp -i ~/.ssh/keypair.pem -r mydir user@domain:`"
   ]
  }
 ],
 "metadata": {
  "kernelspec": {
   "display_name": "Python 2",
   "language": "python",
   "name": "python2"
  },
  "language_info": {
   "codemirror_mode": {
    "name": "ipython",
    "version": 2
   },
   "file_extension": ".py",
   "mimetype": "text/x-python",
   "name": "python",
   "nbconvert_exporter": "python",
   "pygments_lexer": "ipython2",
   "version": "2.7.9"
  }
 },
 "nbformat": 4,
 "nbformat_minor": 0
}
