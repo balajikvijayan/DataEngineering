{
 "cells": [
  {
   "cell_type": "code",
   "execution_count": 4,
   "metadata": {
    "collapsed": false
   },
   "outputs": [],
   "source": [
    "from IPython.parallel import Client\n",
    "client = Client()"
   ]
  },
  {
   "cell_type": "code",
   "execution_count": 5,
   "metadata": {
    "collapsed": false
   },
   "outputs": [
    {
     "data": {
      "text/plain": [
       "3"
      ]
     },
     "execution_count": 5,
     "metadata": {},
     "output_type": "execute_result"
    }
   ],
   "source": [
    "dview = client.direct_view()\n",
    "len(client.ids)"
   ]
  },
  {
   "cell_type": "code",
   "execution_count": 6,
   "metadata": {
    "collapsed": false
   },
   "outputs": [
    {
     "data": {
      "text/plain": [
       "<DirectView [0, 1, 2]>"
      ]
     },
     "execution_count": 6,
     "metadata": {},
     "output_type": "execute_result"
    }
   ],
   "source": [
    "all_engines = client[:]\n",
    "all_engines"
   ]
  },
  {
   "cell_type": "code",
   "execution_count": 7,
   "metadata": {
    "collapsed": false
   },
   "outputs": [
    {
     "name": "stdout",
     "output_type": "stream",
     "text": [
      "[stdout:0] This is running in process with pid 3226 on host 'master'.\n",
      "[stdout:1] This is running in process with pid 2163 on host 'node001'.\n",
      "[stdout:2] This is running in process with pid 2132 on host 'node002'.\n"
     ]
    }
   ],
   "source": [
    "%%px\n",
    "\n",
    "import os\n",
    "import socket\n",
    "print(\"This is running in process with pid {0} on host '{1}'.\".format(\n",
    "      os.getpid(), socket.gethostname()))"
   ]
  },
  {
   "cell_type": "code",
   "execution_count": 8,
   "metadata": {
    "collapsed": false
   },
   "outputs": [
    {
     "data": {
      "text/plain": [
       "[42, 42, 42]"
      ]
     },
     "execution_count": 8,
     "metadata": {},
     "output_type": "execute_result"
    }
   ],
   "source": [
    "def my_sum(a, b):\n",
    "    return a + b\n",
    "\n",
    "my_sum_apply_results = all_engines.apply(my_sum, 11, 31)\n",
    "my_sum_apply_results\n",
    "my_sum_apply_results.get()"
   ]
  },
  {
   "cell_type": "code",
   "execution_count": 10,
   "metadata": {
    "collapsed": false
   },
   "outputs": [],
   "source": [
    "%px a = 1"
   ]
  },
  {
   "cell_type": "code",
   "execution_count": 11,
   "metadata": {
    "collapsed": false
   },
   "outputs": [],
   "source": [
    "lv = client.load_balanced_view()"
   ]
  },
  {
   "cell_type": "code",
   "execution_count": 12,
   "metadata": {
    "collapsed": false
   },
   "outputs": [],
   "source": [
    "def slow_square(x):\n",
    "    import time\n",
    "    time.sleep(2)\n",
    "    return x ** 2"
   ]
  },
  {
   "cell_type": "code",
   "execution_count": 13,
   "metadata": {
    "collapsed": false
   },
   "outputs": [
    {
     "data": {
      "text/plain": [
       "16"
      ]
     },
     "execution_count": 13,
     "metadata": {},
     "output_type": "execute_result"
    }
   ],
   "source": [
    "result = lv.apply(slow_square, 4)\n",
    "result\n",
    "result.ready()\n",
    "result.get()"
   ]
  },
  {
   "cell_type": "code",
   "execution_count": 15,
   "metadata": {
    "collapsed": false
   },
   "outputs": [
    {
     "name": "stdout",
     "output_type": "stream",
     "text": [
      "0\n",
      "1\n",
      "4\n",
      "9\n"
     ]
    }
   ],
   "source": [
    "results = lv.map(slow_square, [0, 1, 2, 3])\n",
    "results\n",
    "results.ready()\n",
    "results.progress\n",
    "for r in results:\n",
    "    print (r)"
   ]
  },
  {
   "cell_type": "code",
   "execution_count": 16,
   "metadata": {
    "collapsed": false
   },
   "outputs": [],
   "source": [
    "%px import numpy as np"
   ]
  },
  {
   "cell_type": "code",
   "execution_count": 17,
   "metadata": {
    "collapsed": false
   },
   "outputs": [
    {
     "name": "stdout",
     "output_type": "stream",
     "text": [
      "[ 0.  0.  0.  0.  0.  0.  0.  0.  0.  0.]\n"
     ]
    }
   ],
   "source": [
    "%%px --targets=-1  \n",
    "# replace with one_engine_by_host.values()\n",
    "\n",
    "# Cleanup any existing file from past session (necessary for windows)\n",
    "import os\n",
    "if os.path.exists('small.mmap'):\n",
    "    os.unlink('small.mmap')\n",
    "\n",
    "mm_w = np.memmap('small.mmap', shape=10, dtype=np.float32, mode='w+')\n",
    "print(mm_w)"
   ]
  },
  {
   "cell_type": "code",
   "execution_count": 18,
   "metadata": {
    "collapsed": false
   },
   "outputs": [
    {
     "name": "stdout",
     "output_type": "stream",
     "text": [
      "[stdout:0] [ 0.  0.  0.  0.  0.  0.  0.  0.  0.  0.]\n",
      "[stdout:1] [ 0.  0.  0.  0.  0.  0.  0.  0.  0.  0.]\n",
      "[stdout:2] [ 0.  0.  0.  0.  0.  0.  0.  0.  0.  0.]\n"
     ]
    }
   ],
   "source": [
    "%%px\n",
    "\n",
    "mm_r = np.memmap('small.mmap', dtype=np.float32, mode='r+')\n",
    "print(mm_r)"
   ]
  },
  {
   "cell_type": "code",
   "execution_count": 19,
   "metadata": {
    "collapsed": false
   },
   "outputs": [
    {
     "name": "stdout",
     "output_type": "stream",
     "text": [
      "[ 42.   0.   0.   0.   0.   0.   0.   0.   0.   0.]\n",
      "[ 42.   0.   0.   0.   0.   0.   0.   0.   0.   0.]\n"
     ]
    }
   ],
   "source": [
    "%%px --targets=-1  \n",
    "# replace with one_engine_by_host.values()\n",
    "\n",
    "mm_w[0] = 42\n",
    "print(mm_w)\n",
    "print(mm_r)"
   ]
  },
  {
   "cell_type": "code",
   "execution_count": 21,
   "metadata": {
    "collapsed": false
   },
   "outputs": [
    {
     "name": "stdout",
     "output_type": "stream",
     "text": [
      "[stdout:0] [ 0.  0.  0.  0.  0.  0.  0.  0.  0.  0.]\n",
      "[stdout:1] [ 0.  0.  0.  0.  0.  0.  0.  0.  0.  0.]\n",
      "[stdout:2] [ 42.   0.   0.   0.   0.   0.   0.   0.   0.   0.]\n"
     ]
    }
   ],
   "source": [
    "%px print(mm_r)"
   ]
  },
  {
   "cell_type": "code",
   "execution_count": 22,
   "metadata": {
    "collapsed": false
   },
   "outputs": [],
   "source": [
    "%%px --targets=1\n",
    "\n",
    "mm_r[1] = 43"
   ]
  },
  {
   "cell_type": "code",
   "execution_count": 23,
   "metadata": {
    "collapsed": false
   },
   "outputs": [
    {
     "name": "stdout",
     "output_type": "stream",
     "text": [
      "[stdout:0] [ 0.  0.  0.  0.  0.  0.  0.  0.  0.  0.]\n",
      "[stdout:1] [  0.  43.   0.   0.   0.   0.   0.   0.   0.   0.]\n",
      "[stdout:2] [ 42.   0.   0.   0.   0.   0.   0.   0.   0.   0.]\n"
     ]
    }
   ],
   "source": [
    "%%px\n",
    "print(mm_r)"
   ]
  },
  {
   "cell_type": "code",
   "execution_count": 24,
   "metadata": {
    "collapsed": false
   },
   "outputs": [
    {
     "name": "stdout",
     "output_type": "stream",
     "text": [
      "[stdout:0] sum=0.0, mean=0.0, std=0.0\n",
      "[stdout:1] sum=43., mean=4.3, std=12.9\n",
      "[stdout:2] sum=42., mean=4.2, std=12.6\n"
     ]
    }
   ],
   "source": [
    "%%px\n",
    "print(\"sum={0:.3}, mean={1:.3}, std={2:.3}\".format(\n",
    "    mm_r.sum(), np.mean(mm_r), np.std(mm_r)))"
   ]
  },
  {
   "cell_type": "code",
   "execution_count": 29,
   "metadata": {
    "collapsed": false,
    "scrolled": true
   },
   "outputs": [
    {
     "ename": "ImportError",
     "evalue": "No module named psutil",
     "output_type": "error",
     "traceback": [
      "\u001b[1;31m---------------------------------------------------------------------------\u001b[0m\n\u001b[1;31mImportError\u001b[0m                               Traceback (most recent call last)",
      "\u001b[1;32m<ipython-input-29-eb722c712658>\u001b[0m in \u001b[0;36m<module>\u001b[1;34m()\u001b[0m\n\u001b[0;32m      1\u001b[0m \u001b[1;32mwith\u001b[0m \u001b[0mall_engines\u001b[0m\u001b[1;33m.\u001b[0m\u001b[0msync_imports\u001b[0m\u001b[1;33m(\u001b[0m\u001b[1;33m)\u001b[0m\u001b[1;33m:\u001b[0m\u001b[1;33m\u001b[0m\u001b[0m\n\u001b[1;32m----> 2\u001b[1;33m     \u001b[1;32mimport\u001b[0m \u001b[0mpsutil\u001b[0m\u001b[1;33m\u001b[0m\u001b[0m\n\u001b[0m",
      "\u001b[1;32m/usr/local/lib/python2.7/dist-packages/IPython/parallel/client/view.pyc\u001b[0m in \u001b[0;36mview_import\u001b[1;34m(name, globals, locals, fromlist, level)\u001b[0m\n\u001b[0;32m    473\u001b[0m             \u001b[0mimp\u001b[0m\u001b[1;33m.\u001b[0m\u001b[0macquire_lock\u001b[0m\u001b[1;33m(\u001b[0m\u001b[1;33m)\u001b[0m\u001b[1;33m\u001b[0m\u001b[0m\n\u001b[0;32m    474\u001b[0m             \u001b[1;32mif\u001b[0m \u001b[0mlocal\u001b[0m\u001b[1;33m:\u001b[0m\u001b[1;33m\u001b[0m\u001b[0m\n\u001b[1;32m--> 475\u001b[1;33m                 \u001b[0mmod\u001b[0m \u001b[1;33m=\u001b[0m \u001b[0mlocal_import\u001b[0m\u001b[1;33m(\u001b[0m\u001b[0mname\u001b[0m\u001b[1;33m,\u001b[0m \u001b[0mglobals\u001b[0m\u001b[1;33m,\u001b[0m \u001b[0mlocals\u001b[0m\u001b[1;33m,\u001b[0m \u001b[0mfromlist\u001b[0m\u001b[1;33m,\u001b[0m \u001b[0mlevel\u001b[0m\u001b[1;33m)\u001b[0m\u001b[1;33m\u001b[0m\u001b[0m\n\u001b[0m\u001b[0;32m    476\u001b[0m             \u001b[1;32melse\u001b[0m\u001b[1;33m:\u001b[0m\u001b[1;33m\u001b[0m\u001b[0m\n\u001b[0;32m    477\u001b[0m                 \u001b[1;32mraise\u001b[0m \u001b[0mNotImplementedError\u001b[0m\u001b[1;33m(\u001b[0m\u001b[1;34m\"remote-only imports not yet implemented\"\u001b[0m\u001b[1;33m)\u001b[0m\u001b[1;33m\u001b[0m\u001b[0m\n",
      "\u001b[1;31mImportError\u001b[0m: No module named psutil"
     ]
    },
    {
     "name": "stderr",
     "output_type": "stream",
     "text": [
      "Traceback (most recent call last):\n",
      "  File \"/usr/lib/python2.7/logging/__init__.py\", line 872, in emit\n",
      "    stream.write(fs % msg)\n",
      "IOError: [Errno 32] Broken pipe\n",
      "Logged from file ipkernel.py, line 427\n"
     ]
    }
   ],
   "source": [
    "with all_engines.sync_imports():\n",
    "    import psutil"
   ]
  },
  {
   "cell_type": "code",
   "execution_count": 35,
   "metadata": {
    "collapsed": false
   },
   "outputs": [
    {
     "name": "stdout",
     "output_type": "stream",
     "text": [
      "\n",
      "sgeadmin is not in the sudoers file.  This incident will be reported.\n",
      "\n",
      "[sudo] password for sgeadmin: "
     ]
    }
   ],
   "source": [
    "%px\n",
    "\n",
    "!pip install psutil sgeadmin"
   ]
  },
  {
   "cell_type": "code",
   "execution_count": 25,
   "metadata": {
    "collapsed": false
   },
   "outputs": [],
   "source": [
    "%px\n",
    "\n",
    "def get_host_free_memory(client):\n",
    "    \"\"\"Free memory on each host of the cluster in MB.\"\"\"\n",
    "    all_engines = client[:]\n",
    "    def hostname():\n",
    "        import socket\n",
    "        return socket.gethostname()\n",
    "    \n",
    "    hostnames = all_engines.apply(hostname).get_dict()\n",
    "    one_engine_per_host = dict((hostname, engine_id)\n",
    "                               for engine_id, hostname\n",
    "                               in hostnames.items())\n",
    "\n",
    "    def host_free_memory():\n",
    "        import psutil\n",
    "        return psutil.virtual_memory().free / 1e6\n",
    "    \n",
    "    \n",
    "    host_mem = client[one_engine_per_host.values()].apply(\n",
    "        host_free_memory).get_dict()\n",
    "    \n",
    "    return dict((hostnames[eid], m) for eid, m in host_mem.items())"
   ]
  },
  {
   "cell_type": "code",
   "execution_count": 26,
   "metadata": {
    "collapsed": false
   },
   "outputs": [
    {
     "ename": "CompositeError",
     "evalue": "one or more exceptions from call to method: host_free_memory\n[2:apply]: ImportError: No module named psutil\n[1:apply]: ImportError: No module named psutil\n[0:apply]: ImportError: No module named psutil",
     "output_type": "error",
     "traceback": [
      "[2:apply]: ",
      "\u001b[1;31m---------------------------------------------------------------------------\u001b[0m",
      "\u001b[1;31mImportError\u001b[0m                               Traceback (most recent call last)\u001b[1;32m<string>\u001b[0m in \u001b[0;36m<module>\u001b[1;34m()\u001b[0m",
      "\u001b[1;32m<ipython-input-25-223cbc54c2db>\u001b[0m in \u001b[0;36mhost_free_memory\u001b[1;34m()\u001b[0m",
      "\u001b[1;31mImportError\u001b[0m: No module named psutil",
      "",
      "[1:apply]: ",
      "\u001b[1;31m---------------------------------------------------------------------------\u001b[0m",
      "\u001b[1;31mImportError\u001b[0m                               Traceback (most recent call last)\u001b[1;32m<string>\u001b[0m in \u001b[0;36m<module>\u001b[1;34m()\u001b[0m",
      "\u001b[1;32m<ipython-input-25-223cbc54c2db>\u001b[0m in \u001b[0;36mhost_free_memory\u001b[1;34m()\u001b[0m",
      "\u001b[1;31mImportError\u001b[0m: No module named psutil",
      "",
      "[0:apply]: ",
      "\u001b[1;31m---------------------------------------------------------------------------\u001b[0m",
      "\u001b[1;31mImportError\u001b[0m                               Traceback (most recent call last)\u001b[1;32m<string>\u001b[0m in \u001b[0;36m<module>\u001b[1;34m()\u001b[0m",
      "\u001b[1;32m<ipython-input-25-223cbc54c2db>\u001b[0m in \u001b[0;36mhost_free_memory\u001b[1;34m()\u001b[0m",
      "\u001b[1;31mImportError\u001b[0m: No module named psutil",
      ""
     ]
    },
    {
     "name": "stderr",
     "output_type": "stream",
     "text": [
      "Traceback (most recent call last):\n",
      "  File \"/usr/lib/python2.7/logging/__init__.py\", line 872, in emit\n",
      "    stream.write(fs % msg)\n",
      "IOError: [Errno 32] Broken pipe\n",
      "Logged from file ipkernel.py, line 427\n"
     ]
    }
   ],
   "source": [
    "get_host_free_memory(client)"
   ]
  },
  {
   "cell_type": "code",
   "execution_count": null,
   "metadata": {
    "collapsed": false
   },
   "outputs": [],
   "source": []
  }
 ],
 "metadata": {
  "kernelspec": {
   "display_name": "Python 2",
   "language": "python",
   "name": "python2"
  },
  "language_info": {
   "codemirror_mode": {
    "name": "ipython",
    "version": 2
   },
   "file_extension": ".py",
   "mimetype": "text/x-python",
   "name": "python",
   "nbconvert_exporter": "python",
   "pygments_lexer": "ipython2",
   "version": "2.7.9"
  }
 },
 "nbformat": 4,
 "nbformat_minor": 0
}
