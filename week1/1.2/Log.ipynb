{
 "cells": [
  {
   "cell_type": "code",
   "execution_count": 3,
   "metadata": {
    "collapsed": false
   },
   "outputs": [
    {
     "data": {
      "text/html": [
       "<div>\n",
       "<table border=\"1\" class=\"dataframe\">\n",
       "  <thead>\n",
       "    <tr style=\"text-align: right;\">\n",
       "      <th></th>\n",
       "      <th>source_ip</th>\n",
       "      <th>trusted</th>\n",
       "      <th>ts</th>\n",
       "      <th>destination_ip</th>\n",
       "    </tr>\n",
       "  </thead>\n",
       "  <tbody>\n",
       "    <tr>\n",
       "      <th>0</th>\n",
       "      <td>133.141.191.142</td>\n",
       "      <td>False</td>\n",
       "      <td>2015-07-07 13:13:21</td>\n",
       "      <td>{\"36.188.183.175\", \"193.69.47.190\"}</td>\n",
       "    </tr>\n",
       "    <tr>\n",
       "      <th>1</th>\n",
       "      <td>56.248.89.119</td>\n",
       "      <td>False</td>\n",
       "      <td>2015-07-07 13:13:22</td>\n",
       "      <td>{\"120.108.232.217\"}</td>\n",
       "    </tr>\n",
       "    <tr>\n",
       "      <th>2</th>\n",
       "      <td>191.81.145.247</td>\n",
       "      <td>True</td>\n",
       "      <td>2015-07-07 13:13:23</td>\n",
       "      <td>{\"47.47.182.247\"}</td>\n",
       "    </tr>\n",
       "    <tr>\n",
       "      <th>3</th>\n",
       "      <td>63.227.174.231</td>\n",
       "      <td>False</td>\n",
       "      <td>2015-07-07 13:13:25</td>\n",
       "      <td>{\"12.241.7.24\", \"98.142.184.205\", \"250.7.83.139\"}</td>\n",
       "    </tr>\n",
       "    <tr>\n",
       "      <th>4</th>\n",
       "      <td>174.24.228.102</td>\n",
       "      <td>True</td>\n",
       "      <td>2015-07-07 13:13:26</td>\n",
       "      <td>{\"5.112.248.240\", \"190.179.139.86\"}</td>\n",
       "    </tr>\n",
       "  </tbody>\n",
       "</table>\n",
       "</div>"
      ],
      "text/plain": [
       "         source_ip trusted                   ts  \\\n",
       "0  133.141.191.142   False  2015-07-07 13:13:21   \n",
       "1    56.248.89.119   False  2015-07-07 13:13:22   \n",
       "2   191.81.145.247    True  2015-07-07 13:13:23   \n",
       "3   63.227.174.231   False  2015-07-07 13:13:25   \n",
       "4   174.24.228.102    True  2015-07-07 13:13:26   \n",
       "\n",
       "                                      destination_ip  \n",
       "0                {\"36.188.183.175\", \"193.69.47.190\"}  \n",
       "1                                {\"120.108.232.217\"}  \n",
       "2                                  {\"47.47.182.247\"}  \n",
       "3  {\"12.241.7.24\", \"98.142.184.205\", \"250.7.83.139\"}  \n",
       "4                {\"5.112.248.240\", \"190.179.139.86\"}  "
      ]
     },
     "execution_count": 3,
     "metadata": {},
     "output_type": "execute_result"
    }
   ],
   "source": [
    "import pandas as pd\n",
    "\n",
    "df = pd.read_csv('link.log',sep='\\t',header=None)\n",
    "df.columns =['source_ip','trusted','ts','destination_ip']\n",
    "df.head()"
   ]
  },
  {
   "cell_type": "code",
   "execution_count": null,
   "metadata": {
    "collapsed": true
   },
   "outputs": [],
   "source": []
  }
 ],
 "metadata": {
  "kernelspec": {
   "display_name": "Python 2",
   "language": "python",
   "name": "python2"
  },
  "language_info": {
   "codemirror_mode": {
    "name": "ipython",
    "version": 2
   },
   "file_extension": ".py",
   "mimetype": "text/x-python",
   "name": "python",
   "nbconvert_exporter": "python",
   "pygments_lexer": "ipython2",
   "version": "2.7.9"
  }
 },
 "nbformat": 4,
 "nbformat_minor": 0
}
