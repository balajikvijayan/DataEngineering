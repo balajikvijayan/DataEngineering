{
 "cells": [
  {
   "cell_type": "code",
   "execution_count": 9,
   "metadata": {
    "collapsed": false
   },
   "outputs": [
    {
     "name": "stderr",
     "output_type": "stream",
     "text": [
      "2015-09-18 00:17:23,109 boto [DEBUG]:Retrieving credentials from metadata server.\n",
      "DEBUG:boto:Retrieving credentials from metadata server.\n",
      "2015-09-18 00:17:23,111 boto [ERROR]:Caught exception reading instance data\n",
      "Traceback (most recent call last):\n",
      "  File \"C:\\Anaconda\\lib\\site-packages\\boto\\utils.py\", line 210, in retry_url\n",
      "    r = opener.open(req, timeout=timeout)\n",
      "  File \"C:\\Anaconda\\lib\\urllib2.py\", line 431, in open\n",
      "    response = self._open(req, data)\n",
      "  File \"C:\\Anaconda\\lib\\urllib2.py\", line 449, in _open\n",
      "    '_open', req)\n",
      "  File \"C:\\Anaconda\\lib\\urllib2.py\", line 409, in _call_chain\n",
      "    result = func(*args)\n",
      "  File \"C:\\Anaconda\\lib\\urllib2.py\", line 1227, in http_open\n",
      "    return self.do_open(httplib.HTTPConnection, req)\n",
      "  File \"C:\\Anaconda\\lib\\urllib2.py\", line 1197, in do_open\n",
      "    raise URLError(err)\n",
      "URLError: <urlopen error [Errno 10051] A socket operation was attempted to an unreachable network>\n",
      "ERROR:boto:Caught exception reading instance data\n",
      "Traceback (most recent call last):\n",
      "  File \"C:\\Anaconda\\lib\\site-packages\\boto\\utils.py\", line 210, in retry_url\n",
      "    r = opener.open(req, timeout=timeout)\n",
      "  File \"C:\\Anaconda\\lib\\urllib2.py\", line 431, in open\n",
      "    response = self._open(req, data)\n",
      "  File \"C:\\Anaconda\\lib\\urllib2.py\", line 449, in _open\n",
      "    '_open', req)\n",
      "  File \"C:\\Anaconda\\lib\\urllib2.py\", line 409, in _call_chain\n",
      "    result = func(*args)\n",
      "  File \"C:\\Anaconda\\lib\\urllib2.py\", line 1227, in http_open\n",
      "    return self.do_open(httplib.HTTPConnection, req)\n",
      "  File \"C:\\Anaconda\\lib\\urllib2.py\", line 1197, in do_open\n",
      "    raise URLError(err)\n",
      "URLError: <urlopen error [Errno 10051] A socket operation was attempted to an unreachable network>\n",
      "2015-09-18 00:17:23,114 boto [ERROR]:Unable to read instance data, giving up\n",
      "ERROR:boto:Unable to read instance data, giving up\n"
     ]
    },
    {
     "ename": "NoAuthHandlerFound",
     "evalue": "No handler was ready to authenticate. 1 handlers were checked. ['HmacAuthV1Handler'] Check your credentials",
     "output_type": "error",
     "traceback": [
      "\u001b[1;31m---------------------------------------------------------------------------\u001b[0m",
      "\u001b[1;31mNoAuthHandlerFound\u001b[0m                        Traceback (most recent call last)",
      "\u001b[1;32m<ipython-input-9-ebbb60b8bbd5>\u001b[0m in \u001b[0;36m<module>\u001b[1;34m()\u001b[0m\n\u001b[0;32m      5\u001b[0m \u001b[1;31m# boto.s3.env.aws_secret_access_key = boto.config.get(\"Credentials\", \"aws_secret_access_key\")\u001b[0m\u001b[1;33m\u001b[0m\u001b[1;33m\u001b[0m\u001b[0m\n\u001b[0;32m      6\u001b[0m \u001b[1;31m# boto.set_stream_logger('boto')\u001b[0m\u001b[1;33m\u001b[0m\u001b[1;33m\u001b[0m\u001b[0m\n\u001b[1;32m----> 7\u001b[1;33m \u001b[0mconn\u001b[0m \u001b[1;33m=\u001b[0m \u001b[0mboto\u001b[0m\u001b[1;33m.\u001b[0m\u001b[0mconnect_s3\u001b[0m\u001b[1;33m(\u001b[0m\u001b[1;33m)\u001b[0m\u001b[1;33m\u001b[0m\u001b[0m\n\u001b[0m\u001b[0;32m      8\u001b[0m \u001b[1;32mprint\u001b[0m \u001b[0mconn\u001b[0m\u001b[1;33m.\u001b[0m\u001b[0mget_all_buckets\u001b[0m\u001b[1;33m(\u001b[0m\u001b[1;33m)\u001b[0m\u001b[1;33m\u001b[0m\u001b[0m\n",
      "\u001b[1;32mC:\\Anaconda\\lib\\site-packages\\boto\\__init__.pyc\u001b[0m in \u001b[0;36mconnect_s3\u001b[1;34m(aws_access_key_id, aws_secret_access_key, **kwargs)\u001b[0m\n\u001b[0;32m    139\u001b[0m     \"\"\"\n\u001b[0;32m    140\u001b[0m     \u001b[1;32mfrom\u001b[0m \u001b[0mboto\u001b[0m\u001b[1;33m.\u001b[0m\u001b[0ms3\u001b[0m\u001b[1;33m.\u001b[0m\u001b[0mconnection\u001b[0m \u001b[1;32mimport\u001b[0m \u001b[0mS3Connection\u001b[0m\u001b[1;33m\u001b[0m\u001b[0m\n\u001b[1;32m--> 141\u001b[1;33m     \u001b[1;32mreturn\u001b[0m \u001b[0mS3Connection\u001b[0m\u001b[1;33m(\u001b[0m\u001b[0maws_access_key_id\u001b[0m\u001b[1;33m,\u001b[0m \u001b[0maws_secret_access_key\u001b[0m\u001b[1;33m,\u001b[0m \u001b[1;33m**\u001b[0m\u001b[0mkwargs\u001b[0m\u001b[1;33m)\u001b[0m\u001b[1;33m\u001b[0m\u001b[0m\n\u001b[0m\u001b[0;32m    142\u001b[0m \u001b[1;33m\u001b[0m\u001b[0m\n\u001b[0;32m    143\u001b[0m \u001b[1;33m\u001b[0m\u001b[0m\n",
      "\u001b[1;32mC:\\Anaconda\\lib\\site-packages\\boto\\s3\\connection.pyc\u001b[0m in \u001b[0;36m__init__\u001b[1;34m(self, aws_access_key_id, aws_secret_access_key, is_secure, port, proxy, proxy_port, proxy_user, proxy_pass, host, debug, https_connection_factory, calling_format, path, provider, bucket_class, security_token, suppress_consec_slashes, anon, validate_certs, profile_name)\u001b[0m\n\u001b[0;32m    188\u001b[0m                 \u001b[0mpath\u001b[0m\u001b[1;33m=\u001b[0m\u001b[0mpath\u001b[0m\u001b[1;33m,\u001b[0m \u001b[0mprovider\u001b[0m\u001b[1;33m=\u001b[0m\u001b[0mprovider\u001b[0m\u001b[1;33m,\u001b[0m \u001b[0msecurity_token\u001b[0m\u001b[1;33m=\u001b[0m\u001b[0msecurity_token\u001b[0m\u001b[1;33m,\u001b[0m\u001b[1;33m\u001b[0m\u001b[0m\n\u001b[0;32m    189\u001b[0m                 \u001b[0msuppress_consec_slashes\u001b[0m\u001b[1;33m=\u001b[0m\u001b[0msuppress_consec_slashes\u001b[0m\u001b[1;33m,\u001b[0m\u001b[1;33m\u001b[0m\u001b[0m\n\u001b[1;32m--> 190\u001b[1;33m                 validate_certs=validate_certs, profile_name=profile_name)\n\u001b[0m\u001b[0;32m    191\u001b[0m         \u001b[1;31m# We need to delay until after the call to ``super`` before checking\u001b[0m\u001b[1;33m\u001b[0m\u001b[1;33m\u001b[0m\u001b[0m\n\u001b[0;32m    192\u001b[0m         \u001b[1;31m# to see if SigV4 is in use.\u001b[0m\u001b[1;33m\u001b[0m\u001b[1;33m\u001b[0m\u001b[0m\n",
      "\u001b[1;32mC:\\Anaconda\\lib\\site-packages\\boto\\connection.pyc\u001b[0m in \u001b[0;36m__init__\u001b[1;34m(self, host, aws_access_key_id, aws_secret_access_key, is_secure, port, proxy, proxy_port, proxy_user, proxy_pass, debug, https_connection_factory, path, provider, security_token, suppress_consec_slashes, validate_certs, profile_name)\u001b[0m\n\u001b[0;32m    567\u001b[0m         \u001b[0mself\u001b[0m\u001b[1;33m.\u001b[0m\u001b[0m_last_rs\u001b[0m \u001b[1;33m=\u001b[0m \u001b[0mNone\u001b[0m\u001b[1;33m\u001b[0m\u001b[0m\n\u001b[0;32m    568\u001b[0m         self._auth_handler = auth.get_auth_handler(\n\u001b[1;32m--> 569\u001b[1;33m             host, config, self.provider, self._required_auth_capability())\n\u001b[0m\u001b[0;32m    570\u001b[0m         \u001b[1;32mif\u001b[0m \u001b[0mgetattr\u001b[0m\u001b[1;33m(\u001b[0m\u001b[0mself\u001b[0m\u001b[1;33m,\u001b[0m \u001b[1;34m'AuthServiceName'\u001b[0m\u001b[1;33m,\u001b[0m \u001b[0mNone\u001b[0m\u001b[1;33m)\u001b[0m \u001b[1;32mis\u001b[0m \u001b[1;32mnot\u001b[0m \u001b[0mNone\u001b[0m\u001b[1;33m:\u001b[0m\u001b[1;33m\u001b[0m\u001b[0m\n\u001b[0;32m    571\u001b[0m             \u001b[0mself\u001b[0m\u001b[1;33m.\u001b[0m\u001b[0mauth_service_name\u001b[0m \u001b[1;33m=\u001b[0m \u001b[0mself\u001b[0m\u001b[1;33m.\u001b[0m\u001b[0mAuthServiceName\u001b[0m\u001b[1;33m\u001b[0m\u001b[0m\n",
      "\u001b[1;32mC:\\Anaconda\\lib\\site-packages\\boto\\auth.pyc\u001b[0m in \u001b[0;36mget_auth_handler\u001b[1;34m(host, config, provider, requested_capability)\u001b[0m\n\u001b[0;32m    985\u001b[0m             \u001b[1;34m'No handler was ready to authenticate. %d handlers were checked.'\u001b[0m\u001b[1;33m\u001b[0m\u001b[0m\n\u001b[0;32m    986\u001b[0m             \u001b[1;34m' %s '\u001b[0m\u001b[1;33m\u001b[0m\u001b[0m\n\u001b[1;32m--> 987\u001b[1;33m             'Check your credentials' % (len(names), str(names)))\n\u001b[0m\u001b[0;32m    988\u001b[0m \u001b[1;33m\u001b[0m\u001b[0m\n\u001b[0;32m    989\u001b[0m     \u001b[1;31m# We select the last ready auth handler that was loaded, to allow users to\u001b[0m\u001b[1;33m\u001b[0m\u001b[1;33m\u001b[0m\u001b[0m\n",
      "\u001b[1;31mNoAuthHandlerFound\u001b[0m: No handler was ready to authenticate. 1 handlers were checked. ['HmacAuthV1Handler'] Check your credentials"
     ]
    }
   ],
   "source": [
    "import boto\n",
    "# from boto.s3 import env\n",
    "boto.config.load_credential_file(r'C:\\Users\\Balaji\\.boto\\boto.config')\n",
    "# boto.s3.env.aws_access_key_id = boto.config.get(\"Credentials\", \"aws_access_key_id\")\n",
    "# boto.s3.env.aws_secret_access_key = boto.config.get(\"Credentials\", \"aws_secret_access_key\")\n",
    "# boto.set_stream_logger('boto')\n",
    "conn = boto.connect_s3()\n",
    "print conn.get_all_buckets()"
   ]
  },
  {
   "cell_type": "code",
   "execution_count": null,
   "metadata": {
    "collapsed": true
   },
   "outputs": [],
   "source": []
  }
 ],
 "metadata": {
  "kernelspec": {
   "display_name": "Python 2",
   "language": "python",
   "name": "python2"
  },
  "language_info": {
   "codemirror_mode": {
    "name": "ipython",
    "version": 2
   },
   "file_extension": ".py",
   "mimetype": "text/x-python",
   "name": "python",
   "nbconvert_exporter": "python",
   "pygments_lexer": "ipython2",
   "version": "2.7.9"
  }
 },
 "nbformat": 4,
 "nbformat_minor": 0
}
