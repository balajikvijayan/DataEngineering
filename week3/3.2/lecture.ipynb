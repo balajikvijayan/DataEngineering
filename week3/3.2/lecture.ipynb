{
 "cells": [
  {
   "cell_type": "code",
   "execution_count": 1,
   "metadata": {
    "collapsed": false
   },
   "outputs": [
    {
     "data": {
      "application/javascript": [
       "$.getScript('http://asimjalis.github.io/ipyn-ext/js/ipyn-present.js')"
      ],
      "text/plain": [
       "<IPython.core.display.Javascript object>"
      ]
     },
     "metadata": {},
     "output_type": "display_data"
    }
   ],
   "source": [
    "%%javascript\n",
    "$.getScript('http://asimjalis.github.io/ipyn-ext/js/ipyn-present.js')"
   ]
  },
  {
   "cell_type": "markdown",
   "metadata": {},
   "source": [
    "<!-- \n",
    "This file was auto-generated from markdown using notedown.\n",
    "Instead of modifying the ipynb modify the markdown source. \n",
    "-->\n",
    "\n",
    "<h1 class=\"tocheading\">Hadoop and MapReduce</h1>\n",
    "<div id=\"toc\"></div>\n",
    "\n",
    "Why MapReduce\n",
    "-------------\n",
    "\n",
    "We have a 100 TB of sales data that looks like this:\n",
    "\n",
    "ID    |Date          |Store  |State |Product   |Amount\n",
    "--    |----          |-----  |----- |-------   |------\n",
    "101   |11/13/2014    |100    |WA    |331       |300.00\n",
    "104   |11/18/2014    |700    |OR    |329       |450.00\n",
    "\n",
    "What If\n",
    "-------\n",
    "\n",
    "What are some of the questions we could answer if we could process this huge data set?\n",
    "\n",
    "- How much revenue did we make by store, state?\n",
    "\n",
    "- How much revenue did we make by product?\n",
    "\n",
    "- How much revenue did we make by week, month, year?\n",
    "\n",
    "Statistical Uses\n",
    "----------------\n",
    "\n",
    "Why are these interesting?\n",
    "\n",
    "- These questions can help us figure out which products are selling\n",
    "  in which markets, at what time of the year.\n",
    "\n",
    "- Using statistical algorithms such as regression or random forests we\n",
    "  can predict sales.\n",
    "\n",
    "What kinds of sales can we predict?\n",
    "  \n",
    "- How much of each product will sell in each store next week.\n",
    "\n",
    "- How much of each product to stock in inventory.\n",
    "\n",
    "- If there are any large-scale trends.\n",
    "\n",
    "- If there are any blips in the data.\n",
    "\n",
    "Engineering Problem\n",
    "-------------------\n",
    "\n",
    "To answer these questions we have to solve two problems:\n",
    "\n",
    "- Store 100 TB of data\n",
    "\n",
    "- Process 100 TB of data\n",
    "\n",
    "HDFS and MapReduce\n",
    "------------------\n",
    "\n",
    "- HDFS solves the storage problem.\n",
    "\n",
    "- MapReduce works with HDFS to break down queries.\n",
    "\n",
    "- In the *map* phase the data is processed locally.\n",
    "\n",
    "- In the *reduce* phase the results of the map phase are consolidated.\n",
    "\n",
    "Objectives\n",
    "----------\n",
    "\n",
    "By the end of this class, we will be able to:\n",
    "\n",
    "- Create MapReduce jobs using MRJob to process large data sets. \n",
    "\n",
    "- Optimize MapReduce jobs so that most processing is done locally.\n",
    "\n",
    "- Chain together multi-step MapReduce jobs to translate sophisticated\n",
    "  sequential algorithms to work on distributed systems.\n",
    "\n",
    "- Speed up MapReduce jobs using map-only jobs and counters. \n",
    "\n",
    "MapReduce\n",
    "---------\n",
    "\n",
    "<img src=\"images/map-reduce-key-partition.png\">\n",
    "\n",
    "MapReduce Notes\n",
    "---------------\n",
    "\n",
    "How does MapReduce work?\n",
    "\n",
    "- The developer provides mapper and reducer code.\n",
    "\n",
    "- The mapper function transforms individual records and attaches a key to each record.\n",
    "\n",
    "- All the records with the same key end up on the same reducer.\n",
    "\n",
    "- For each key the reduce function combines the records with that key.\n",
    "\n",
    "Which machines run mappers and which run reducers?\n",
    "\n",
    "- The JobTracker tries to run the mappers on the machines where the\n",
    "  blocks of input data are located.\n",
    "\n",
    "- This is called data locality--ideally, the mapper does not need to\n",
    "  pull data across the network.\n",
    "\n",
    "- The reducers are assigned randomly to machines which have memory and\n",
    "  CPUs currently available.\n",
    "\n",
    "Pop Quiz\n",
    "--------\n",
    "\n",
    "<details><summary>\n",
    "Q: How many mappers does each job get?\n",
    "</summary>\n",
    "1. One mapper per block of data.\n",
    "<br>\n",
    "2. Large files get more mappers, small files get fewer.\n",
    "</details>\n",
    "\n",
    "<details><summary>\n",
    "Q: How many reducers does each job get?\n",
    "</summary>\n",
    "1. This is configured by the programmer.\n",
    "<br>\n",
    "2. By default each job gets one reducer.\n",
    "</details>\n",
    "\n",
    "<details><summary>\n",
    "Q: Suppose I want to find out how many sales transactions are in a\n",
    "data set for each state. What key should the mapper output?\n",
    "</summary>\n",
    "1. The mapper should output *state* as the key, and *1* as the value.\n",
    "<br>\n",
    "2. This will ensure that all the records for a specific state end up\n",
    "   on the same reducer.\n",
    "<br>\n",
    "3. The reducer can then add up the *1*s to get the total number of\n",
    "   transactions.\n",
    "</details>\n",
    "\n",
    "\n",
    "MapReduce Using MRJob\n",
    "=====================\n",
    "\n",
    "Sales Data\n",
    "----------\n",
    "\n",
    "Here is the sales data we are going to analyze."
   ]
  },
  {
   "cell_type": "code",
   "execution_count": null,
   "metadata": {
    "collapsed": true
   },
   "outputs": [],
   "source": [
    "%%writefile sales.txt\n",
    "#ID    Date           Store   State  Product    Amount\n",
    "101    11/13/2014     100     WA     331        300.00\n",
    "104    11/18/2014     700     OR     329        450.00\n",
    "102    11/15/2014     203     CA     321        200.00\n",
    "106    11/19/2014     202     CA     331        330.00\n",
    "103    11/17/2014     101     WA     373        750.00\n",
    "105    11/19/2014     202     CA     321        200.00"
   ]
  },
  {
   "cell_type": "markdown",
   "metadata": {},
   "source": [
    "Transactions By State\n",
    "---------------------\n",
    "\n",
    "Q: How many transactions were there for each state?\n",
    "\n",
    "- Create the `SaleCount.py` file."
   ]
  },
  {
   "cell_type": "code",
   "execution_count": null,
   "metadata": {
    "collapsed": true
   },
   "outputs": [],
   "source": [
    "%%writefile SaleCount.py\n",
    "from mrjob.job import MRJob\n",
    "class SaleCount(MRJob):\n",
    "    def mapper(self, _, line):\n",
    "        if line.startswith('#'):\n",
    "            return\n",
    "        fields = line.split()\n",
    "        state = fields[3]\n",
    "        yield (state, 1)\n",
    "    def reducer(self, state, counts): \n",
    "        yield state, sum(counts)\n",
    "if __name__ == '__main__': \n",
    "    SaleCount.run()"
   ]
  },
  {
   "cell_type": "markdown",
   "metadata": {},
   "source": [
    "- Run it locally."
   ]
  },
  {
   "cell_type": "code",
   "execution_count": null,
   "metadata": {
    "collapsed": true
   },
   "outputs": [],
   "source": [
    "!python SaleCount.py sales.txt > output.txt"
   ]
  },
  {
   "cell_type": "markdown",
   "metadata": {},
   "source": [
    "- Check the output."
   ]
  },
  {
   "cell_type": "code",
   "execution_count": null,
   "metadata": {
    "collapsed": true
   },
   "outputs": [],
   "source": [
    "!cat output.txt"
   ]
  },
  {
   "cell_type": "markdown",
   "metadata": {},
   "source": [
    "Pop Quiz\n",
    "--------\n",
    "\n",
    "<details><summary>\n",
    "Q: Suppose instead of counting transactions by state we want to count\n",
    "transactions by store. What should we change in the code above?\n",
    "</summary>\n",
    "1. Replace `state = field[3]` with `store = field[2]`\n",
    "<br>\n",
    "2. Replace `yield (state, 1)` with `yield (store, 1)`\n",
    "</details>\n",
    "\n",
    "<details><summary>\n",
    "Q: Suppose instead of counting transactions we want to find total\n",
    "revenue by state. What should we change in the code above?\n",
    "</summary>\n",
    "1. Add `amount = float(fields[5])` \n",
    "<br>\n",
    "2. Replace `yield (state, 1)` with `yield (state, amount)`\n",
    "</details>\n",
    "\n",
    "Using MapReduce For Statistics\n",
    "------------------------------\n",
    "\n",
    "- Using MapReduce we can calculate statistics for any factors.\n",
    "\n",
    "- Our factor or condition becomes the key.\n",
    "\n",
    "- The parameter that we want to calculate the statistic on becomes\n",
    "  the value.\n",
    "\n",
    "- The reducer contains the logic to apply the statistic.\n",
    "\n",
    "- The statistic can be sum, count, average, stdev, etc.\n",
    "\n",
    "Using MRJob for Word Count\n",
    "--------------------------\n",
    "\n",
    "Q: Count the frequency of words using MRJob.\n",
    "\n",
    "- Create an input file."
   ]
  },
  {
   "cell_type": "code",
   "execution_count": null,
   "metadata": {
    "collapsed": true
   },
   "outputs": [],
   "source": [
    "%%writefile input.txt\n",
    "hello world\n",
    "this is the second line\n",
    "this is the third line\n",
    "hello again"
   ]
  },
  {
   "cell_type": "markdown",
   "metadata": {},
   "source": [
    "- Create the `WordCount.py` file."
   ]
  },
  {
   "cell_type": "code",
   "execution_count": null,
   "metadata": {
    "collapsed": true
   },
   "outputs": [],
   "source": [
    "%%writefile WordCount.py\n",
    "from mrjob.job import MRJob\n",
    "import re\n",
    "WORD_RE = re.compile(r\"[\\w']+\")\n",
    "class WordCount(MRJob):\n",
    "    def mapper(self, _, line):\n",
    "        for word in WORD_RE.findall(line):\n",
    "            yield word.lower(), 1\n",
    "    def reducer(self, word, counts): \n",
    "        yield word, sum(counts)\n",
    "if __name__ == '__main__': \n",
    "    WordCount.run()"
   ]
  },
  {
   "cell_type": "markdown",
   "metadata": {},
   "source": [
    "- Run it locally."
   ]
  },
  {
   "cell_type": "code",
   "execution_count": null,
   "metadata": {
    "collapsed": true
   },
   "outputs": [],
   "source": [
    "!python WordCount.py input.txt > output.txt"
   ]
  },
  {
   "cell_type": "markdown",
   "metadata": {},
   "source": [
    "- Check the output."
   ]
  },
  {
   "cell_type": "code",
   "execution_count": null,
   "metadata": {
    "collapsed": true
   },
   "outputs": [],
   "source": [
    "!cat output.txt"
   ]
  },
  {
   "cell_type": "markdown",
   "metadata": {},
   "source": [
    "Word Count Notes\n",
    "----------------\n",
    "\n",
    "- WordCount is used as a standard distributed application\n",
    "\n",
    "- For a large number of words it is not solvable on a single machine\n",
    "\n",
    "- A large corpus can require more storage than the disk on a single\n",
    "  machine\n",
    "\n",
    "- A large vocabulary can require more memory than on a single machine.\n",
    "\n",
    "- WordCount generalizes to other counting applications: such as\n",
    "  counting clicks by category.\n",
    "\n",
    "Customizing MapReduce\n",
    "---------------------\n",
    "\n",
    "Q: What are the places in the MapReduce pipeline that can be modified\n",
    "using Java classes?\n",
    "\n",
    "<img src=\"images/map-reduce-key-partition.png\">\n",
    "\n",
    "<img src=\"images/map-reduce-phases.png\">\n",
    "\n",
    "Class               |Runs On          |Decides \n",
    "-----               |-------          |------- \n",
    "InputFormat         |Client           |Splits HDFS file to InputSplits\n",
    "InputFormat         |Mapper           |Splits InputSplit to `(key1,value1)`\n",
    "Mapper              |Mapper           |Maps `(key1,value1)` to `(key2,value2)`\n",
    "Partitioner         |Mapper           |Decides which `(key2,value2)` goes to which reducer\n",
    "SortComparator      |Mapper + Reducer |Determines sort order between all the `key2`\n",
    "GroupingComparator  |Reducer          |Groups `(key2,value2)` for a single `reduce` call\n",
    "OutputFormat        |Reducer          |Writes `(key2,value2)` to HDFS file\n",
    "\n",
    "Hadoop Streaming\n",
    "----------------\n",
    "\n",
    "<img src=\"images/hadoop-streaming.png\">\n",
    "\n",
    "Q: How does MRJob work under the hood?\n",
    "\n",
    "- Hadoop's MapReduce framework is written in Java.\n",
    "\n",
    "- The most direct way to write MapReduce jobs is in Java.\n",
    "\n",
    "- Hadoop also supports a Streaming API.\n",
    "\n",
    "- The Hadoop Streaming API lets you use any language to write Mappers\n",
    "  and Reducers.\n",
    "\n",
    "- It sends the data to the Streaming Mappers and Reducers of *standard\n",
    "  input* and *standard output*.\n",
    "\n",
    "\n",
    "Streaming Pros and Cons\n",
    "-----------------------\n",
    "\n",
    "<details><summary>\n",
    "Q: What are the pros and cons of Hadoop Streaming?\n",
    "</summary>\n",
    "Pros:\n",
    "<br>1. You can program in any language. E.g. you can use Perl, Python, or Ruby.\n",
    "<br>2. You can leverage libraries that you already have.\n",
    "<br>3. You can shorten development time.\n",
    "<br>Cons:\n",
    "<br>1. Hadoops spins up a separate interpreter process on every mapper\n",
    "and reducer, which uses up CPUs and memory.\n",
    "<br>2. The performance is not as good as using Java directly.\n",
    "<br>3. Binary types are not directly supported.\n",
    "<br>4. You can only write custom mappers and reducers---you cannot\n",
    "customize partitioners, input formats, and other parts of the\n",
    "MapReduce pipeline in other languages. For these you have to use\n",
    "Java or a JVM language.\n",
    "</details>\n",
    "\n",
    "Pipes\n",
    "-----\n",
    "\n",
    "Q: What options do I have if I want to write my MapReduce code in\n",
    "C++?\n",
    "\n",
    "- For C++ there is a special interface that Hadoop provides called\n",
    "  *Pipes*.\n",
    "\n",
    "- Pipes is similar to streaming but instead of standard input and\n",
    "  output it uses sockets for communication.\n",
    "\n",
    "- Pipes is primarily used to leverage legacy code written in C++ or in\n",
    "  situations where a computation needs to use C++'s smaller memory\n",
    "  footprint for speed or scalability.\n",
    "\n",
    "MapReduce Abstractions\n",
    "======================\n",
    "\n",
    "Hive\n",
    "----\n",
    "\n",
    "- Hive was developed at Facebook.\n",
    "\n",
    "- It translates SQL to generate MapReduce code.\n",
    "\n",
    "- Its dialect of SQL is called HiveQL.\n",
    "\n",
    "- Data scientists can use SQL instead of MapReduce to process data.\n",
    "\n",
    "Pig\n",
    "---\n",
    "\n",
    "- Pig was developed at Yahoo.\n",
    "\n",
    "- It solves the same problem as Hive.\n",
    "\n",
    "- Pig uses a custom scripting language called PigLatin instead of SQL.\n",
    "\n",
    "- PigLatin resembles scripting languages like Python and Perl.\n",
    "\n",
    "- Pig is frequently used for processing unstructured or badly formed\n",
    "  data.\n",
    "\n",
    "\n",
    "Advanced MapReduce Applications\n",
    "===============================\n",
    "\n",
    "Combiner\n",
    "--------\n",
    "\n",
    "- Sometimes the mapper can reduce the records before it sends them out\n",
    "  to the reducer.\n",
    "  \n",
    "- What is the advantage of this? It reduces the disk footprint for the\n",
    "  map output. Also it saves network bandwidth.\n",
    "\n",
    "- The *combiner* if specified is the reducer that the mapper uses to\n",
    "  reduce the data locally.\n",
    "\n",
    "- A reducer can only be used as a combiner if it is commutative and associative.\n",
    "\n",
    "Transactions By State Using Combiner\n",
    "------------------------------------\n",
    "\n",
    "Q: How many transactions were there for each state?\n",
    "\n",
    "- Create the `SaleCountFast.py` file."
   ]
  },
  {
   "cell_type": "code",
   "execution_count": null,
   "metadata": {
    "collapsed": true
   },
   "outputs": [],
   "source": [
    "%%writefile SaleCountFast.py\n",
    "from mrjob.job import MRJob\n",
    "class SaleCountFast(MRJob):\n",
    "    def mapper(self, _, line):\n",
    "        if line.startswith('#'):\n",
    "            return\n",
    "        fields = line.split()\n",
    "        state = fields[3]\n",
    "        yield (state, 1)\n",
    "    def combiner(self, state, counts): \n",
    "        yield state, sum(counts)\n",
    "    def reducer(self, state, counts): \n",
    "        yield state, sum(counts)\n",
    "if __name__ == '__main__': \n",
    "    SaleCountFast.run()"
   ]
  },
  {
   "cell_type": "markdown",
   "metadata": {},
   "source": [
    "- Run it locally."
   ]
  },
  {
   "cell_type": "code",
   "execution_count": null,
   "metadata": {
    "collapsed": true
   },
   "outputs": [],
   "source": [
    "!python SaleCountFast.py sales.txt > output.txt"
   ]
  },
  {
   "cell_type": "markdown",
   "metadata": {},
   "source": [
    "- Check the output."
   ]
  },
  {
   "cell_type": "code",
   "execution_count": null,
   "metadata": {
    "collapsed": true
   },
   "outputs": [],
   "source": [
    "!cat output.txt"
   ]
  },
  {
   "cell_type": "markdown",
   "metadata": {},
   "source": [
    "Pop Quiz\n",
    "--------\n",
    "\n",
    "<details><summary>\n",
    "Q: Can we use the reduce function as a combiner if we are calculating\n",
    "the total number of sales transactions per state?\n",
    "</summary>\n",
    "Yes.\n",
    "</details>\n",
    "\n",
    "<details><summary>\n",
    "Q: Can we use the reduce function as a combiner if we are calculating\n",
    "the average transaction revenue per state? </summary>\n",
    "1. No we cannot.\n",
    "<br>\n",
    "2. This is because average is non-associative.\n",
    "</details>\n",
    "\n",
    "\n",
    "Using Map-Only Job To Clean Data\n",
    "--------------------------------\n",
    "\n",
    "Q: Write an ETL application that extracts all the `CA` sales records.\n",
    "\n",
    "- This only requires transforming records, without consolidating them.\n",
    "\n",
    "- Any time we don't have to consolidate records we can use a *Map\n",
    "  Only* job.\n",
    "\n",
    "- Create the `SaleExtract.py` file."
   ]
  },
  {
   "cell_type": "code",
   "execution_count": null,
   "metadata": {
    "collapsed": true
   },
   "outputs": [],
   "source": [
    "%%writefile SaleExtract.py\n",
    "from mrjob.job  import MRJob\n",
    "from mrjob.step import MRStep\n",
    "class SaleExtract(MRJob):\n",
    "    def mapper_extract(self, _, line):\n",
    "        if line.startswith('#'): return\n",
    "        fields = line.split()\n",
    "        state = fields[3]\n",
    "        if state != 'CA': return\n",
    "        yield (state, line)\n",
    "    def steps(self):\n",
    "        return [\n",
    "            MRStep(mapper=self.mapper_extract)\n",
    "        ]\n",
    "if __name__ == '__main__': \n",
    "    SaleExtract.run()"
   ]
  },
  {
   "cell_type": "markdown",
   "metadata": {},
   "source": [
    "- Run it locally."
   ]
  },
  {
   "cell_type": "code",
   "execution_count": null,
   "metadata": {
    "collapsed": true
   },
   "outputs": [],
   "source": [
    "!python SaleExtract.py sales.txt > output.txt"
   ]
  },
  {
   "cell_type": "markdown",
   "metadata": {},
   "source": [
    "- Check the output."
   ]
  },
  {
   "cell_type": "code",
   "execution_count": null,
   "metadata": {
    "collapsed": true
   },
   "outputs": [],
   "source": [
    "!cat output.txt"
   ]
  },
  {
   "cell_type": "markdown",
   "metadata": {},
   "source": [
    "Map-Only Applications\n",
    "---------------------\n",
    "\n",
    "Here are some other applications of map-only jobs.\n",
    "\n",
    "- Web-crawler that finds out how many jobs are on Craigslist for a\n",
    "  particular keyword.\n",
    "\n",
    "- Application that maps property addresses to property back-taxes by\n",
    "  scraping county databases.\n",
    "\n",
    "Pop Quiz\n",
    "--------\n",
    "\n",
    "<details><summary>\n",
    "Q: Do map-only applications shuffle and sort the data?\n",
    "</summary>\n",
    "1. No they do not shuffle and sort the data.\n",
    "<br>\n",
    "2. Map-only jobs immediately output the data after it is transformed\n",
    "   by map.\n",
    "</details>\n",
    "\n",
    "Counters\n",
    "--------\n",
    "\n",
    "Q: Count how many transactions there were in California and Washington.\n",
    "\n",
    "- One way to solve this problem is to use a MapReduce application we\n",
    "  did before.\n",
    "\n",
    "- However, if we have a fixed number of categories we want to count we\n",
    "  can use counters.\n",
    "\n",
    "- If we use counters we no longer need a reduce phase, and can use a\n",
    "  map-only job.\n",
    "  \n",
    "- MapReduce has a limit of 120 counters.\n",
    "\n",
    "- So this cannot be used to count frequencies for an unknown number of\n",
    "  categories.\n",
    "\n",
    "- Create the `SaleCount1.py` file."
   ]
  },
  {
   "cell_type": "code",
   "execution_count": null,
   "metadata": {
    "collapsed": true
   },
   "outputs": [],
   "source": [
    "%%writefile SaleCount1.py\n",
    "from mrjob.job  import MRJob\n",
    "from mrjob.step import MRStep\n",
    "class SaleCount1(MRJob):\n",
    "    def mapper_count(self, _, line):\n",
    "        if line.startswith('#'): return\n",
    "        fields = line.split()\n",
    "        state = fields[3]\n",
    "        if state == 'CA':\n",
    "            self.increment_counter('State', 'CA', 1)\n",
    "        if state == 'WA':\n",
    "            self.increment_counter('State', 'WA', 1)\n",
    "    def steps(self):\n",
    "        return [\n",
    "            MRStep(mapper=self.mapper_count)\n",
    "        ]\n",
    "if __name__ == '__main__': \n",
    "    SaleCount1.run()"
   ]
  },
  {
   "cell_type": "markdown",
   "metadata": {},
   "source": [
    "- Run it locally."
   ]
  },
  {
   "cell_type": "code",
   "execution_count": null,
   "metadata": {
    "collapsed": true
   },
   "outputs": [],
   "source": [
    "!python SaleCount1.py sales.txt > output.txt"
   ]
  },
  {
   "cell_type": "markdown",
   "metadata": {},
   "source": [
    "- There should not be any output. The counter values were printed when\n",
    "  the job was executed."
   ]
  },
  {
   "cell_type": "code",
   "execution_count": null,
   "metadata": {
    "collapsed": true
   },
   "outputs": [],
   "source": [
    "!cat output.txt"
   ]
  },
  {
   "cell_type": "markdown",
   "metadata": {},
   "source": [
    "Counter Notes\n",
    "-------------\n",
    "\n",
    "- Counters can be incremented in both the map and the reduce phase.\n",
    "\n",
    "- Counter values from all the machines participating in a MapReduce\n",
    "  job are aggregated to compute job-wide value.\n",
    "\n",
    "- Counter values are printed out when the job completes and are also\n",
    "  accessible on the Hadoop Web UI that stores job history.\n",
    "\n",
    "- Counters are have a group name and a counter name.\n",
    "\n",
    "- Group names help organize counters.\n",
    "\n",
    "- Here is how we increment a counter:\n",
    "  `self.increment_counter(group_name, counter_name, 1)`\n",
    "\n",
    "Pop Quiz\n",
    "--------\n",
    "\n",
    "<details><summary>\n",
    "Q: SalesStrategy Inc employs 100,000 part-time sales partners to sell\n",
    "their products. The salespeople get monthly bonuses based on the\n",
    "number of transactions they ring up. Should SalesStrategy use counters\n",
    "to calculate these bonuses? Why or why not?\n",
    "</summary>\n",
    "1. Instead of counters they should use a regular MapReduce counting\n",
    "   application.\n",
    "<br>\n",
    "2. Counters are only appropriate if the number of categories is fixed\n",
    "   and is about 100.\n",
    "<br>\n",
    "3. While the Hadoop admin can configure the system to support more\n",
    "   counters than 120, this increases intra-cluster network traffic,\n",
    "   and is not recommended.\n",
    "</details>\n",
    "\n",
    "Map-Only Job Observations\n",
    "-------------------------\n",
    "\n",
    "- Map-only jobs are the multi-machine equivalent of the\n",
    "  multi-threading and multi-processing exercises we did earlier.\n",
    "\n",
    "- Like our multi-threading and multi-processing applications, map-only\n",
    "  jobs break up a larger problem into smaller chunks and then work on\n",
    "  a particular chunk.\n",
    "\n",
    "- Any time we have a problem where we don't need to reconcile or\n",
    "  consolidate records we should use map-only jobs.\n",
    "\n",
    "- Map-only jobs are much faster than regular MapReduce jobs.\n",
    "\n",
    "Pop Quiz\n",
    "--------\n",
    "\n",
    "<details><summary>\n",
    "Q: Why are map-only jobs faster than regular MapReduce jobs?\n",
    "</summary>\n",
    "1. The map phase is perfectly parallelizable.\n",
    "<br>\n",
    "2. Map-only jobs don't have a shuffle-and-sort or reduce phase, which\n",
    "   tend to be the bottleneck for regular MapReduce jobs.\n",
    "</details>\n",
    "\n",
    "Chaining Jobs Together\n",
    "----------------------\n",
    "\n",
    "Q: Find word frequencies and sort the result by frequency. \n",
    "\n",
    "- This requires running two MapReduce jobs.\n",
    "\n",
    "- The first job will calculate word frequencies.\n",
    "\n",
    "- The second job will sort them.\n",
    "\n",
    "- This can be accomplished in MRJob by chaining multiple jobs together\n",
    "  as steps.\n",
    "\n",
    "- Create `MostUsedWords.py`."
   ]
  },
  {
   "cell_type": "code",
   "execution_count": null,
   "metadata": {
    "collapsed": true
   },
   "outputs": [],
   "source": [
    "%%writefile MostUsedWords.py\n",
    "from mrjob.job  import MRJob\n",
    "from mrjob.step import MRStep\n",
    "import re\n",
    "\n",
    "WORD_RE = re.compile(r\"[\\w']+\")\n",
    "\n",
    "class MostUsedWords(MRJob):\n",
    "\n",
    "    def mapper_get_words(self, _, line):\n",
    "        for word in WORD_RE.findall(line):\n",
    "            yield (word.lower(), 1)\n",
    "\n",
    "    def reducer_count_words(self, word, counts):\n",
    "        count_sum = '%03d'%sum(counts) \n",
    "        yield (count_sum, word)\n",
    "\n",
    "    def reducer_sort(self, count, words):\n",
    "        for word in words:\n",
    "            yield (word, count)\n",
    "\n",
    "    def steps(self):\n",
    "        return [\n",
    "            MRStep(mapper=self.mapper_get_words,\n",
    "                   reducer=self.reducer_count_words),\n",
    "            MRStep(reducer=self.reducer_sort)\n",
    "        ]\n",
    "\n",
    "if __name__ == '__main__':\n",
    "    MostUsedWords.run()"
   ]
  },
  {
   "cell_type": "markdown",
   "metadata": {},
   "source": [
    "- Run it locally."
   ]
  },
  {
   "cell_type": "code",
   "execution_count": null,
   "metadata": {
    "collapsed": true
   },
   "outputs": [],
   "source": [
    "!python MostUsedWords.py input.txt > output.txt"
   ]
  },
  {
   "cell_type": "markdown",
   "metadata": {},
   "source": [
    "- Check the output."
   ]
  },
  {
   "cell_type": "code",
   "execution_count": null,
   "metadata": {
    "collapsed": true
   },
   "outputs": [],
   "source": [
    "!cat output.txt"
   ]
  },
  {
   "cell_type": "markdown",
   "metadata": {},
   "source": [
    "MapReduce Streaming API\n",
    "-----------------------\n",
    "\n",
    "- Why are we left-padding the amount with zeros? \n",
    "\n",
    "- MRJob is a wrapper around the MapReduce Streaming API.\n",
    "\n",
    "- The MapReduce Streaming API converts all intermediate types to strings for comparison.\n",
    "\n",
    "- So `123` will be smaller than `59` because it starts with `1` which\n",
    "  is less than `5`.\n",
    "  \n",
    "- To get around this in MRJob if we want our data to sort numerically\n",
    "  we have to left-pad the numbers with zeros.\n",
    "\n",
    "Pop Quiz\n",
    "--------\n",
    "\n",
    "<details><summary>\n",
    "Q: How can we find out which state had the highest sales total revenue?\n",
    "</summary>\n",
    "1. We can chain together two jobs.\n",
    "<br>\n",
    "2. The first one calculates revenue per state.\n",
    "<br>\n",
    "3. The second sorts the result of the first step by revenue.\n",
    "</details>\n",
    "\n",
    "Sorting Sales Data\n",
    "------------------\n",
    "\n",
    "Q: Find the total sales per state and then sort by sales to find the\n",
    "state with the highest sales total.\n",
    "\n",
    "- We can use a multi-step MRJob to do this.\n",
    "\n",
    "- Sort sales data using two steps."
   ]
  },
  {
   "cell_type": "code",
   "execution_count": null,
   "metadata": {
    "collapsed": true
   },
   "outputs": [],
   "source": [
    "%%writefile SaleCount.py\n",
    "from mrjob.job  import MRJob\n",
    "from mrjob.step import MRStep\n",
    "import numpy as np\n",
    "class SaleCount(MRJob):\n",
    "   \n",
    "    def mapper1(self, _, line):\n",
    "        if line.startswith('#'):\n",
    "            return\n",
    "        fields = line.split()\n",
    "        amount = float(fields[5])\n",
    "        state = fields[3]\n",
    "        yield (state, amount)\n",
    "\n",
    "    def reducer1(self, state, amounts):\n",
    "        amount = '%07.2f'%sum(amounts) \n",
    "        yield (state, amount)\n",
    "    \n",
    "    def mapper2(self, state, amount):\n",
    "        yield (amount, state)\n",
    "\n",
    "    def reducer2(self, amount, states):\n",
    "        for state in states: \n",
    "            yield (state, amount)\n",
    "    \n",
    "    def steps(self):\n",
    "        return [\n",
    "            MRStep(mapper=self.mapper1, reducer=self.reducer1),\n",
    "            MRStep(mapper=self.mapper2, reducer=self.reducer2)\n",
    "        ]\n",
    "if __name__ == '__main__': \n",
    "    SaleCount.run()"
   ]
  },
  {
   "cell_type": "markdown",
   "metadata": {},
   "source": [
    "- Run it locally."
   ]
  },
  {
   "cell_type": "code",
   "execution_count": null,
   "metadata": {
    "collapsed": true
   },
   "outputs": [],
   "source": [
    "!python SaleCount.py sales.txt > output.txt"
   ]
  },
  {
   "cell_type": "markdown",
   "metadata": {},
   "source": [
    "- Check the output."
   ]
  },
  {
   "cell_type": "code",
   "execution_count": null,
   "metadata": {
    "collapsed": true
   },
   "outputs": [],
   "source": [
    "!cat output.txt"
   ]
  }
 ],
 "metadata": {
  "kernelspec": {
   "display_name": "Python 2",
   "language": "python",
   "name": "python2"
  },
  "language_info": {
   "codemirror_mode": {
    "name": "ipython",
    "version": 2
   },
   "file_extension": ".py",
   "mimetype": "text/x-python",
   "name": "python",
   "nbconvert_exporter": "python",
   "pygments_lexer": "ipython2",
   "version": "2.7.10"
  }
 },
 "nbformat": 4,
 "nbformat_minor": 0
}
