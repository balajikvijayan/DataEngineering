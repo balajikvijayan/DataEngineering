{
 "cells": [
  {
   "cell_type": "code",
   "execution_count": 2,
   "metadata": {
    "collapsed": false
   },
   "outputs": [
    {
     "data": {
      "image/png": "[encoded data removed]",
      "text/plain": [
       "<IPython.core.display.Image object>"
      ]
     },
     "execution_count": 2,
     "metadata": {},
     "output_type": "execute_result"
    }
   ],
   "source": [
    "from IPython.display import Image\n",
    "Image(filename='./mygram_fact_graph.png')"
   ]
  },
  {
   "cell_type": "code",
   "execution_count": 3,
   "metadata": {
    "collapsed": false
   },
   "outputs": [],
   "source": [
    "#imports\n",
    "import copy, pprint, time, math, random, string, names\n",
    "\n",
    "class Generator:\n",
    "    #init for n iterations and the original data validated against\n",
    "    #avro schema\n",
    "    def __init__(self, n):\n",
    "        self.n = n\n",
    "        self.person_data = [{'pedigree': {'true_as_of_secs': 1234567890},\n",
    "           'dataunit': {'person_property': {'id': {'person_id': 'balaji'},\n",
    "                                    'property': {'website': 'http://google.com'}}},\n",
    "           },\n",
    "        {'pedigree': {'true_as_of_secs': 1234567890},\n",
    "           'dataunit': {'person_property': {'id': {'person_id': 'balaji'},\n",
    "                                    'property': {'email': 'balaji.k.vijayan@gmail.com'}}},\n",
    "           },\n",
    "        {'pedigree': {'true_as_of_secs': 1234567890},\n",
    "           'dataunit': {'person_property': {'id': {'person_id': 'balaji'},\n",
    "                                    'property': {'desc': 'Howdy'}}},\n",
    "           },\n",
    "        {'pedigree': {'true_as_of_secs': 1234567890},\n",
    "           'dataunit': {'person_property': {'id': {'person_id': 'balaji'},\n",
    "                                    'property': {'name': 'Balaji Vijayan'}}},\n",
    "           },\n",
    "        {'pedigree': {'true_as_of_secs': 1234567890},\n",
    "           'dataunit': {'person_property': {'id': {'person_id': 'balaji'},\n",
    "                                    'property': {'phone': '(555)555-5555'}}},\n",
    "           }]\n",
    "        self.media_data = [{'pedigree': {'true_as_of_secs': 1234567892},\n",
    "           'dataunit': {'media_property': {'id': {'media_id': 1},\n",
    "                                    'property': {'url': 'http://amazon.com'}}},\n",
    "           },\n",
    "        {'pedigree': {'true_as_of_secs': 1234567892},\n",
    "           'dataunit': {'media_property': {'id': {'media_id': 1},\n",
    "                                    'property': {'desc': 'So #blessed'}}},\n",
    "           },\n",
    "        {'pedigree': {'true_as_of_secs': 1234567892},\n",
    "           'dataunit': {'media_property': {'id': {'media_id': 1},\n",
    "                                    'property': {'media_type': False}}},\n",
    "           }]\n",
    "        self.hashtag_data = {\"pedigree\": {'true_as_of_secs': 1234567894},\n",
    "           \"dataunit\": {\"hashtag_property\": {\"id\": {\"hashtag_id\": \"#blessed\"},\n",
    "                                            \"property\": {\"popularityscore\": 100}}}\n",
    "           }\n",
    "        self.friend_data = {\"pedigree\": {\"true_as_of_secs\": 1234567893},\n",
    "           \"dataunit\": {\"friends\": {\"id1\": {\"person_id\": \"balaji\"},\n",
    "                                  \"id2\": {\"person_id\": \"jones\"}}},\n",
    "           }\n",
    "        self.search_data = {\"pedigree\": {'true_as_of_secs': 1234567895},\n",
    "           \"dataunit\": {\"searches\": {\"id1\": {\"person_id\": \"balaji\"},\n",
    "                                  \"id2\": {\"hashtag_id\": \"#blessed\"}}},\n",
    "           }\n",
    "        self.like_data = {\"pedigree\": {'true_as_of_secs': 1234567896},\n",
    "           \"dataunit\": {\"likes\": {\"id1\": {\"person_id\": \"jones\"},\n",
    "                                  \"id2\": {\"media_id\": 1}}},\n",
    "           }\n",
    "        self.contain_data = {\"pedigree\": {'true_as_of_secs': 1234567897},\n",
    "           \"dataunit\": {\"contains\": {\"id1\": {\"media_id\": 1},\n",
    "                                  \"id2\": {\"hashtag_id\": \"#blessed\"}}},\n",
    "           }\n",
    "    def Person(self):\n",
    "        #creating random data\n",
    "        person = copy.deepcopy(self.person_data)\n",
    "\n",
    "        #person data\n",
    "        name = names.get_full_name()\n",
    "        person_id = name.replace(\" \",\"\")\n",
    "        website = \"https://\"+person_id+\".com\"\n",
    "        email = person_id+\"@yahoo.com\"\n",
    "        person_desc = names.get_full_name()\\\n",
    "            +\" \"+names.get_full_name()\n",
    "        phone = (\"(\"+\"\".join([str(random.randint(0, 9)) for i in range(3)])\\\n",
    "            +\")\"+\"\".join([str(random.randint(0, 9)) for i in range(7)])).decode()\n",
    "\n",
    "        person[0]['pedigree']['true_as_of_secs'] \\\n",
    "            = int(math.floor(time.time()))\n",
    "        person[0]['dataunit']['person_property']['id']['person_id'] \\\n",
    "            = person_id\n",
    "        person[0]['dataunit']['person_property']['property']['website']\\\n",
    "            = website\n",
    "\n",
    "        person[1]['pedigree']['true_as_of_secs'] \\\n",
    "            = int(math.floor(time.time()))\n",
    "        person[1]['dataunit']['person_property']['id']['person_id'] \\\n",
    "            = person_id\n",
    "        person[1]['dataunit']['person_property']['property']['email']\\\n",
    "            = email\n",
    "\n",
    "        person[2]['pedigree']['true_as_of_secs'] \\\n",
    "            = int(math.floor(time.time()))\n",
    "        person[2]['dataunit']['person_property']['id']['person_id'] \\\n",
    "            = person_id\n",
    "        person[2]['dataunit']['person_property']['property']['desc'] \\\n",
    "            = person_desc\n",
    "\n",
    "        person[3]['pedigree']['true_as_of_secs'] \\\n",
    "            = int(math.floor(time.time()))\n",
    "        person[3]['dataunit']['person_property']['id']['person_id'] \\\n",
    "            = person_id\n",
    "        person[3]['dataunit']['person_property']['property']['name'] \\\n",
    "            = name\n",
    "\n",
    "        person[4]['pedigree']['true_as_of_secs'] \\\n",
    "            = int(math.floor(time.time()))\n",
    "        person[4]['dataunit']['person_property']['id']['person_id'] \\\n",
    "            = person_id\n",
    "        person[4]['dataunit']['person_property']['property']['phone'] \\\n",
    "            = phone\n",
    "\n",
    "        return person\n",
    "            \n",
    "    def Media(self):\n",
    "        #creating random data\n",
    "        media = copy.deepcopy(self.media_data)\n",
    "        #media data\n",
    "        media_id = random.randint(1,50)\n",
    "        url = \"https://\"+\"\".join(random.SystemRandom().choice(\n",
    "            string.lowercase) for _ in range(6))+\".com\"\n",
    "        media_desc = \"\".join(random.SystemRandom().choice(\n",
    "            string.lowercase) for _ in range(20))\n",
    "        media_type = random.randint(0,1)\n",
    "\n",
    "        media[0]['pedigree']['true_as_of_secs'] \\\n",
    "            = int(math.floor(time.time()))\n",
    "        media[0]['dataunit']['media_property']['id']['media_id'] \\\n",
    "            = media_id\n",
    "        media[0]['dataunit']['media_property']['property']['url'] \\\n",
    "            = url\n",
    "\n",
    "        media[1]['pedigree']['true_as_of_secs'] \\\n",
    "            = int(math.floor(time.time()))\n",
    "        media[1]['dataunit']['media_property']['id']['media_id'] \\\n",
    "            = media_id\n",
    "        media[1]['dataunit']['media_property']['property']['desc'] \\\n",
    "            = media_desc\n",
    "\n",
    "        media[2]['pedigree']['true_as_of_secs'] \\\n",
    "            = int(math.floor(time.time()))\n",
    "        media[2]['dataunit']['media_property']['id']['media_id'] \\\n",
    "            = media_id\n",
    "        media[2]['dataunit']['media_property']['property']['media_type'] \\\n",
    "            = media_type\n",
    "\n",
    "        return media\n",
    "    \n",
    "    def Hashtag(self):\n",
    "        hashtag = copy.deepcopy(self.hashtag_data)\n",
    "        \n",
    "        hashtaglist = [\"#winning\",\"#blessed\",\"#squadgoals\",\n",
    "                     \"#halloween\",\"#data\",\"#yourmom\",\n",
    "                     \"#wcw\",\"#tbt\",\"#wine\"]\n",
    "        \n",
    "        #hashtag data\n",
    "        hashtag_id = random.choice(hashtaglist)\n",
    "        popularityscore = random.randint(1,100)\n",
    "        \n",
    "        hashtag['pedigree']['true_as_of_secs'] \\\n",
    "            = int(math.floor(time.time()))\n",
    "        hashtag['dataunit']['hashtag_property']['id']['hashtag_id'] \\\n",
    "            = hashtag_id\n",
    "        hashtag['dataunit']['hashtag_property']['property']['popularityscore'] \\\n",
    "            = popularityscore\n",
    "        \n",
    "        return hashtag\n",
    "    \n",
    "    def Friend(self, person_id):\n",
    "        friend = copy.deepcopy(self.friend_data)\n",
    "        friendlist = [\"BalajiVijayan\",\"KatAquino\",\"AlexanderBarriga\",\n",
    "                     \"MikeMansour\",\"AlessandroGagliardi\",\"AndrewHuang\",\n",
    "                     \"BrandonFetters\",\"DonatellaTaurasi\",\"MikeThorne\"]\n",
    "        person_id2 = random.choice(friendlist)\n",
    "        \n",
    "        friend['pedigree']['true_as_of_secs'] \\\n",
    "            = int(math.floor(time.time()))\n",
    "        friend['dataunit']['friends']['id1']['person_id'] \\\n",
    "            = person_id\n",
    "        friend['dataunit']['friends']['id2']['person_id'] \\\n",
    "            = person_id2\n",
    "        \n",
    "        return friend\n",
    "    \n",
    "    def Search(self, person_id, hashtag_id):\n",
    "        search = copy.deepcopy(self.search_data)\n",
    "\n",
    "        search['pedigree']['true_as_of_secs'] \\\n",
    "            = int(math.floor(time.time()))\n",
    "        search['dataunit']['searches']['id1']['person_id'] \\\n",
    "            = person_id\n",
    "        search['dataunit']['searches']['id2']['hashtag_id'] \\\n",
    "            = hashtag_id\n",
    "        \n",
    "        return search\n",
    "    \n",
    "    def Like(self, person_id, media_id):\n",
    "        like = copy.deepcopy(self.like_data)\n",
    "        \n",
    "        like['pedigree']['true_as_of_secs'] \\\n",
    "            = int(math.floor(time.time()))\n",
    "        like['dataunit']['likes']['id1']['person_id'] \\\n",
    "            = person_id\n",
    "        like['dataunit']['likes']['id2']['media_id'] \\\n",
    "            = media_id\n",
    "    \n",
    "        return like\n",
    "    \n",
    "    def Contain(self, media_id, hashtag_id):\n",
    "        contain = copy.deepcopy(self.contain_data)\n",
    "        \n",
    "        contain['pedigree']['true_as_of_secs'] \\\n",
    "            = int(math.floor(time.time()))\n",
    "        contain['dataunit']['contains']['id1']['media_id'] \\\n",
    "            = media_id\n",
    "        contain['dataunit']['contains']['id2']['hashtag_id'] \\\n",
    "            = hashtag_id\n",
    "\n",
    "        return contain\n",
    "    \n",
    "    def Generate(self):\n",
    "        for i in xrange(0, self.n):\n",
    "            person = self.Person()\n",
    "            media = self.Media()\n",
    "            hashtag = self.Hashtag()\n",
    "            friend = self.Friend(\n",
    "                person[0]['dataunit']['person_property']['id']['person_id'])\n",
    "            search = self.Search(\n",
    "                person[0]['dataunit']['person_property']['id']['person_id'],\n",
    "                hashtag['dataunit']['hashtag_property']['id']['hashtag_id'])\n",
    "            like = self.Like(\n",
    "                person[0]['dataunit']['person_property']['id']['person_id'],\n",
    "                media[0]['dataunit']['media_property']['id']['media_id'])\n",
    "            contain = self.Contain(\n",
    "                media[0]['dataunit']['media_property']['id']['media_id'],\n",
    "                hashtag['dataunit']['hashtag_property']['id']['hashtag_id'])\n",
    "\n",
    "            value = person\n",
    "            value.extend(media)\n",
    "            value.append(hashtag)\n",
    "            value.append(friend)\n",
    "            value.append(search)\n",
    "            value.append(like)\n",
    "            value.append(contain)\n",
    "            yield value"
   ]
  },
  {
   "cell_type": "code",
   "execution_count": 4,
   "metadata": {
    "collapsed": true
   },
   "outputs": [],
   "source": [
    "import avro.io\n",
    "import avro.schema\n",
    "from avro.datafile import DataFileReader, DataFileWriter\n",
    "from avro.io import DatumReader, DatumWriter"
   ]
  },
  {
   "cell_type": "code",
   "execution_count": 5,
   "metadata": {
    "collapsed": false
   },
   "outputs": [
    {
     "name": "stdout",
     "output_type": "stream",
     "text": [
      "Overwriting mygramschema.avsc\n"
     ]
    }
   ],
   "source": [
    "%%writefile mygramschema.avsc\n",
    "[\n",
    "    {\n",
    "        \"namespace\": \"analytics.avro\",\n",
    "        \"type\": \"record\",\n",
    "        \"name\": \"Pedigree\",\n",
    "        \"fields\": [{\"name\": \"true_as_of_secs\", \"type\": \"int\"}]\n",
    "    },\n",
    "    {\n",
    "        \"namespace\": \"analytics.avro\",\n",
    "        \"type\": \"record\",\n",
    "        \"name\": \"PersonID\",\n",
    "        \"fields\": [{\"name\": \"person_id\", \"type\": \"string\"}]\n",
    "    },\n",
    "    {\n",
    "        \"namespace\": \"analytics.avro\",\n",
    "        \"type\": \"record\",\n",
    "        \"name\": \"MediaID\",\n",
    "        \"fields\": [{\"name\": \"media_id\", \"type\": \"int\"}]\n",
    "    },\n",
    "    {\n",
    "        \"namespace\": \"analytics.avro\",\n",
    "        \"type\": \"record\",\n",
    "        \"name\": \"HashtagID\",\n",
    "        \"fields\": [{\"name\": \"hashtag_id\", \"type\": \"string\"}]\n",
    "    },\n",
    "    {\n",
    "        \"namespace\": \"analytics.avro\",\n",
    "        \"type\": \"record\",\n",
    "        \"name\": \"PersonProperty\",\n",
    "        \"fields\": [\n",
    "            {\n",
    "                \"name\": \"id\",\n",
    "                \"type\": \"PersonID\"\n",
    "            },\n",
    "            {\n",
    "                \"name\": \"property\",\n",
    "                \"type\": [\n",
    "                    {\n",
    "                        \"type\": \"record\",\n",
    "                        \"name\": \"PersonPropertyValue1\",\n",
    "                        \"fields\": [{\"name\": \"website\", \"type\": \"string\"}]\n",
    "                    },\n",
    "                    {\n",
    "                        \"type\": \"record\",\n",
    "                        \"name\": \"PersonPropertyValue2\",\n",
    "                        \"fields\": [{\"name\": \"email\", \"type\": \"string\"}]\n",
    "                    },\n",
    "                    {\n",
    "                        \"type\": \"record\",\n",
    "                        \"name\": \"PersonPropertyValue3\",\n",
    "                        \"fields\": [{\"name\": \"desc\", \"type\": \"string\"}]\n",
    "                    },\n",
    "                    {\n",
    "                        \"type\": \"record\",\n",
    "                        \"name\": \"PersonPropertyValue4\",\n",
    "                        \"fields\": [{\"name\": \"name\", \"type\": \"string\"}]\n",
    "                    },\n",
    "                    {\n",
    "                        \"type\": \"record\",\n",
    "                        \"name\": \"PersonPropertyValue5\",\n",
    "                        \"fields\": [{\"name\": \"phone\", \"type\": \"string\"}]\n",
    "                    }\n",
    "                ]\n",
    "            }\n",
    "        ]\n",
    "    },\n",
    "    {\n",
    "        \"namespace\": \"analytics.avro\",\n",
    "        \"type\": \"record\",\n",
    "        \"name\": \"MediaProperty\",\n",
    "        \"fields\": [\n",
    "            {\n",
    "                \"name\": \"id\",\n",
    "                \"type\": \"MediaID\"\n",
    "            },\n",
    "            {\n",
    "                \"name\": \"property\",\n",
    "                \"type\": [\n",
    "                    {\n",
    "                        \"type\": \"record\",\n",
    "                        \"name\": \"MediaPropertyValue1\",\n",
    "                        \"fields\": [{\"name\": \"url\", \"type\": [\"string\"]}]\n",
    "                    },\n",
    "                    {\n",
    "                        \"type\": \"record\",\n",
    "                        \"name\": \"MediaPropertyValue2\",\n",
    "                        \"fields\": [{\"name\": \"desc\", \"type\": [\"string\"]}]\n",
    "                    },\n",
    "                    {\n",
    "                        \"type\": \"record\",\n",
    "                        \"name\": \"MediaPropertyValue3\",\n",
    "                        \"fields\": [{\"name\": \"media_type\", \"type\": [\"int\"]}]\n",
    "                    }\n",
    "                ]\n",
    "            }\n",
    "        ]\n",
    "    },\n",
    "    {\n",
    "        \"namespace\": \"analytics.avro\",\n",
    "        \"type\": \"record\",\n",
    "        \"name\": \"HashtagProperty\",\n",
    "        \"fields\": [\n",
    "            {\n",
    "                \"name\": \"id\",\n",
    "                \"type\": \"HashtagID\"\n",
    "            },\n",
    "            {\n",
    "                \"name\": \"property\",\n",
    "                \"type\": [\n",
    "                    {\n",
    "                        \"type\": \"record\",\n",
    "                        \"name\": \"HashtagPropertyValue1\",\n",
    "                        \"fields\": [{\"name\": \"popularityscore\", \"type\": \"int\"}]\n",
    "                    }\n",
    "                ]\n",
    "            }\n",
    "        ]\n",
    "    },\n",
    "    {\n",
    "        \"namespace\": \"analytics.avro\",\n",
    "        \"type\": \"record\",\n",
    "        \"name\": \"FriendsEdge\",\n",
    "        \"fields\": [\n",
    "            {\"name\": \"id1\", \"type\": \"PersonID\"},\n",
    "            {\"name\": \"id2\", \"type\": \"PersonID\"}\n",
    "        ]\n",
    "    },\n",
    "    {\n",
    "        \"namespace\": \"analytics.avro\",\n",
    "        \"type\": \"record\",\n",
    "        \"name\": \"SearchesEdge\",\n",
    "        \"fields\": [\n",
    "            {\"name\": \"id1\", \"type\": \"PersonID\"},\n",
    "            {\"name\": \"id2\", \"type\": \"HashtagID\"}\n",
    "        ]\n",
    "    },\n",
    "    {\n",
    "        \"namespace\": \"analytics.avro\",\n",
    "        \"type\": \"record\",\n",
    "        \"name\": \"LikesEdge\",\n",
    "        \"fields\": [\n",
    "            {\"name\": \"id1\", \"type\": \"PersonID\"},\n",
    "            {\"name\": \"id2\", \"type\": \"MediaID\"}\n",
    "        ]\n",
    "    },\n",
    "    {\n",
    "        \"namespace\": \"analytics.avro\",\n",
    "        \"type\": \"record\",\n",
    "        \"name\": \"ContainsEdge\",\n",
    "        \"fields\": [\n",
    "            {\"name\": \"id1\", \"type\": \"MediaID\"},\n",
    "            {\"name\": \"id2\", \"type\": \"HashtagID\"}\n",
    "        ]\n",
    "    },\n",
    "    {\n",
    "        \"namespace\": \"analytics.avro\",\n",
    "        \"type\": \"record\",\n",
    "        \"name\": \"Data\",\n",
    "        \"fields\": [\n",
    "            {\n",
    "                \"name\": \"pedigree\",\n",
    "                \"type\": \"Pedigree\"\n",
    "            },\n",
    "\n",
    "            \n",
    "            {\n",
    "                \"name\": \"dataunit\",\n",
    "                \"type\": [\n",
    "                    {\n",
    "                        \"type\": \"record\",\n",
    "                        \"name\": \"DataUnit1\",\n",
    "                        \"fields\": [{\"name\": \"person_property\", \"type\": \"PersonProperty\"}]\n",
    "                    },\n",
    "                    {\n",
    "                        \"type\": \"record\",\n",
    "                        \"name\": \"DataUnit2\",\n",
    "                        \"fields\": [{\"name\": \"media_property\", \"type\": \"MediaProperty\"}]\n",
    "                    },\n",
    "                    {\n",
    "                        \"type\": \"record\",\n",
    "                        \"name\": \"DataUnit3\",\n",
    "                        \"fields\": [{\"name\": \"hashtag_property\", \"type\": \"HashtagProperty\"}]\n",
    "                    },\n",
    "                    {\n",
    "                        \"type\": \"record\",\n",
    "                        \"name\": \"DataUnit4\",\n",
    "                        \"fields\": [{\"name\": \"friends\", \"type\": \"FriendsEdge\"}]\n",
    "                    },\n",
    "                    {\n",
    "                        \"type\": \"record\",\n",
    "                        \"name\": \"DataUnit5\",\n",
    "                        \"fields\": [{\"name\": \"searches\", \"type\": \"SearchesEdge\"}]\n",
    "                    },\n",
    "                    {\n",
    "                        \"type\": \"record\",\n",
    "                        \"name\": \"DataUnit6\",\n",
    "                        \"fields\": [{\"name\": \"likes\", \"type\": \"LikesEdge\"}]\n",
    "                    },\n",
    "                    {\n",
    "                        \"type\": \"record\",\n",
    "                        \"name\": \"DataUnit7\",\n",
    "                        \"fields\": [{\"name\": \"contains\", \"type\": \"ContainsEdge\"}]\n",
    "                    }\n",
    "                ]\n",
    "            }\n",
    "        ]\n",
    "    }\n",
    "]"
   ]
  },
  {
   "cell_type": "code",
   "execution_count": 7,
   "metadata": {
    "collapsed": false
   },
   "outputs": [],
   "source": [
    "schema = avro.schema.parse(open(\"mygramschema.avsc\").read())\n",
    "def test_good_data(datum, schema=schema):\n",
    "    return avro.io.validate(schema, datum)"
   ]
  },
  {
   "cell_type": "code",
   "execution_count": 8,
   "metadata": {
    "collapsed": false,
    "scrolled": true
   },
   "outputs": [
    {
     "name": "stdout",
     "output_type": "stream",
     "text": [
      "[True, True, True, True, True, True, True, True, True, True, True, True, True]\n"
     ]
    }
   ],
   "source": [
    "testgen = Generator(1)\n",
    "data = testgen.Generate().next()\n",
    "print map(test_good_data, data)"
   ]
  },
  {
   "cell_type": "code",
   "execution_count": 9,
   "metadata": {
    "collapsed": false
   },
   "outputs": [
    {
     "name": "stdout",
     "output_type": "stream",
     "text": [
      "True\n"
     ]
    }
   ],
   "source": [
    "print avro.io.validate(avro.schema.parse(open(\"mygramschema.avsc\").read()),\n",
    "                       testgen.Generate().next()[0])"
   ]
  },
  {
   "cell_type": "code",
   "execution_count": 12,
   "metadata": {
    "collapsed": false
   },
   "outputs": [
    {
     "name": "stdout",
     "output_type": "stream",
     "text": [
      "{'dataunit': {'person_property': {'property': {'website': u'https://MelissaRamirez.com'}, 'id': {'person_id': u'MelissaRamirez'}}}, 'pedigree': {'true_as_of_secs': 1444341206}}\n"
     ]
    }
   ],
   "source": [
    "print str(testgen.Generate().next()[0])"
   ]
  },
  {
   "cell_type": "code",
   "execution_count": 10,
   "metadata": {
    "collapsed": true
   },
   "outputs": [],
   "source": [
    "import json\n",
    "\n",
    "n = 200\n",
    "\n",
    "jsongen = Generator(n)\n",
    "with open ('data.json', 'w') as outfile:\n",
    "    for i in xrange(n):\n",
    "        for vals in jsongen.Generate().next(): \n",
    "            json.dump(vals, outfile)\n",
    "            outfile.write(\"\\n\")"
   ]
  },
  {
   "cell_type": "code",
   "execution_count": 486,
   "metadata": {
    "collapsed": true
   },
   "outputs": [],
   "source": [
    "import os, ast\n",
    "from cStringIO import StringIO\n",
    "import fastavro\n",
    "import pyspark"
   ]
  },
  {
   "cell_type": "code",
   "execution_count": 269,
   "metadata": {
    "collapsed": false,
    "scrolled": true
   },
   "outputs": [],
   "source": [
    "sc = pyspark.SparkContext()"
   ]
  },
  {
   "cell_type": "code",
   "execution_count": 487,
   "metadata": {
    "collapsed": true
   },
   "outputs": [],
   "source": [
    "textRDD = sc.textFile(\"./data.json\")"
   ]
  },
  {
   "cell_type": "code",
   "execution_count": 488,
   "metadata": {
    "collapsed": false,
    "scrolled": true
   },
   "outputs": [],
   "source": [
    "# print ast.literal_eval('{\"dataunit\": {\"media_property\": {\"property\": {\"media_type\": false}, \"id\": {\"media_id\": 692}}}, \"pedigree\": {\"true_as_of_secs\": 1444076122}}')"
   ]
  },
  {
   "cell_type": "code",
   "execution_count": 489,
   "metadata": {
    "collapsed": false,
    "scrolled": true
   },
   "outputs": [
    {
     "name": "stdout",
     "output_type": "stream",
     "text": [
      "{'dataunit': {'person_property': {'property': {'website': 'https://LaquitaWitt.com'}, 'id': {'person_id': 'LaquitaWitt'}}}, 'pedigree': {'true_as_of_secs': 1444083839}}\n",
      "{'dataunit': {'person_property': {'property': {'email': 'LaquitaWitt@yahoo.com'}, 'id': {'person_id': 'LaquitaWitt'}}}, 'pedigree': {'true_as_of_secs': 1444083839}}\n",
      "{'dataunit': {'person_property': {'property': {'desc': 'Mattie Grist Andrea Whiteis'}, 'id': {'person_id': 'LaquitaWitt'}}}, 'pedigree': {'true_as_of_secs': 1444083839}}\n",
      "{'dataunit': {'person_property': {'property': {'name': 'Laquita Witt'}, 'id': {'person_id': 'LaquitaWitt'}}}, 'pedigree': {'true_as_of_secs': 1444083839}}\n",
      "{'dataunit': {'person_property': {'property': {'phone': '(101)8757153'}, 'id': {'person_id': 'LaquitaWitt'}}}, 'pedigree': {'true_as_of_secs': 1444083839}}\n",
      "{'dataunit': {'media_property': {'property': {'url': 'https://cfnqpf.com'}, 'id': {'media_id': 46}}}, 'pedigree': {'true_as_of_secs': 1444083839}}\n",
      "{'dataunit': {'media_property': {'property': {'desc': 'vjlabxszrdtpcqccxbod'}, 'id': {'media_id': 46}}}, 'pedigree': {'true_as_of_secs': 1444083839}}\n",
      "{'dataunit': {'media_property': {'property': {'media_type': 0}, 'id': {'media_id': 46}}}, 'pedigree': {'true_as_of_secs': 1444083839}}\n",
      "{'dataunit': {'hashtag_property': {'property': {'popularityscore': 72}, 'id': {'hashtag_id': 'tbt'}}}, 'pedigree': {'true_as_of_secs': 1444083839}}\n",
      "{'dataunit': {'friends': {'id2': {'person_id': 'BrandonFetters'}, 'id1': {'person_id': 'LaquitaWitt'}}}, 'pedigree': {'true_as_of_secs': 1444083839}}\n",
      "{'dataunit': {'searches': {'id2': {'hashtag_id': 'tbt'}, 'id1': {'person_id': 'LaquitaWitt'}}}, 'pedigree': {'true_as_of_secs': 1444083839}}\n",
      "{'dataunit': {'likes': {'id2': {'media_id': 46}, 'id1': {'person_id': 'LaquitaWitt'}}}, 'pedigree': {'true_as_of_secs': 1444083839}}\n",
      "{'dataunit': {'contains': {'id2': {'hashtag_id': 'tbt'}, 'id1': {'media_id': 46}}}, 'pedigree': {'true_as_of_secs': 1444083839}}\n"
     ]
    }
   ],
   "source": [
    "for i in xrange(13):\n",
    "    print ast.literal_eval(textRDD.take(13)[i])"
   ]
  },
  {
   "cell_type": "code",
   "execution_count": 220,
   "metadata": {
    "collapsed": false
   },
   "outputs": [
    {
     "name": "stdout",
     "output_type": "stream",
     "text": [
      "person_property\n"
     ]
    }
   ],
   "source": [
    "print ast.literal_eval(textRDD.take(1)[0])['dataunit'].keys()[0]"
   ]
  },
  {
   "cell_type": "code",
   "execution_count": 490,
   "metadata": {
    "collapsed": true
   },
   "outputs": [],
   "source": [
    "def partition_data(datum):\n",
    "    datadict = ast.literal_eval(datum)\n",
    "    datatype = datadict['dataunit'].keys()[0]\n",
    "    if datatype.endswith('property'):\n",
    "        return '\\\\'.join((datatype,\n",
    "            datadict['dataunit'][datatype]['property'].keys()[0])), str(datadict).replace(\"u'\",'\"').replace(\n",
    "            \"'\",'\"').replace(\"L}\",\"}\").replace(\"L,\",\",\")\n",
    "    else:\n",
    "        return datatype, str(datadict).replace(\"u'\",'\"').replace(\n",
    "            \"'\",'\"').replace(\"L}\",\"}\").replace(\"L,\",\",\")"
   ]
  },
  {
   "cell_type": "code",
   "execution_count": 491,
   "metadata": {
    "collapsed": false
   },
   "outputs": [],
   "source": [
    "partitioned_json = textRDD.map(partition_data)"
   ]
  },
  {
   "cell_type": "code",
   "execution_count": 492,
   "metadata": {
    "collapsed": false,
    "scrolled": true
   },
   "outputs": [
    {
     "data": {
      "text/plain": [
       "1300"
      ]
     },
     "execution_count": 492,
     "metadata": {},
     "output_type": "execute_result"
    }
   ],
   "source": [
    "partitioned_json.count()"
   ]
  },
  {
   "cell_type": "code",
   "execution_count": 277,
   "metadata": {
    "collapsed": true
   },
   "outputs": [],
   "source": [
    "partition_names = partitioned_json.map(lambda t: t[0]).distinct().collect()"
   ]
  },
  {
   "cell_type": "code",
   "execution_count": 493,
   "metadata": {
    "collapsed": false
   },
   "outputs": [
    {
     "data": {
      "text/plain": [
       "['person_property\\\\phone',\n",
       " 'searches',\n",
       " 'person_property\\\\email',\n",
       " 'media_property\\\\media_type',\n",
       " 'media_property\\\\desc',\n",
       " 'person_property\\\\desc',\n",
       " 'person_property\\\\name',\n",
       " 'friends',\n",
       " 'hashtag_property\\\\popularityscore',\n",
       " 'contains',\n",
       " 'person_property\\\\website',\n",
       " 'likes',\n",
       " 'media_property\\\\url']"
      ]
     },
     "execution_count": 493,
     "metadata": {},
     "output_type": "execute_result"
    }
   ],
   "source": [
    "partition_names"
   ]
  },
  {
   "cell_type": "code",
   "execution_count": 312,
   "metadata": {
    "collapsed": false
   },
   "outputs": [
    {
     "data": {
      "text/plain": [
       "defaultdict(<type 'int'>, {'person_property\\\\phone': 100, 'searches': 100, 'person_property\\\\email': 100, 'hashtag_property\\\\popularityscore': 100, 'media_property\\\\media_type': 100, 'contains': 100, 'media_property\\\\desc': 100, 'person_property\\\\desc': 100, 'likes': 100, 'person_property\\\\name': 100, 'person_property\\\\website': 100, 'media_property\\\\url': 100, 'friends': 100})"
      ]
     },
     "execution_count": 312,
     "metadata": {},
     "output_type": "execute_result"
    }
   ],
   "source": [
    "partitioned_json.countByKey()"
   ]
  },
  {
   "cell_type": "code",
   "execution_count": 494,
   "metadata": {
    "collapsed": false
   },
   "outputs": [
    {
     "name": "stdout",
     "output_type": "stream",
     "text": [
      "C:\\Anaconda\\Galvanize\\DataEngineering\\week6\\6.2\\MyGram\\master\\person_property\\phone\n",
      "C:\\Anaconda\\Galvanize\\DataEngineering\\week6\\6.2\\MyGram\\master\\searches\n",
      "C:\\Anaconda\\Galvanize\\DataEngineering\\week6\\6.2\\MyGram\\master\\person_property\\email\n",
      "C:\\Anaconda\\Galvanize\\DataEngineering\\week6\\6.2\\MyGram\\master\\media_property\\media_type\n",
      "C:\\Anaconda\\Galvanize\\DataEngineering\\week6\\6.2\\MyGram\\master\\media_property\\desc\n",
      "C:\\Anaconda\\Galvanize\\DataEngineering\\week6\\6.2\\MyGram\\master\\person_property\\desc\n",
      "C:\\Anaconda\\Galvanize\\DataEngineering\\week6\\6.2\\MyGram\\master\\person_property\\name\n",
      "C:\\Anaconda\\Galvanize\\DataEngineering\\week6\\6.2\\MyGram\\master\\friends\n",
      "C:\\Anaconda\\Galvanize\\DataEngineering\\week6\\6.2\\MyGram\\master\\hashtag_property\\popularityscore\n",
      "C:\\Anaconda\\Galvanize\\DataEngineering\\week6\\6.2\\MyGram\\master\\contains\n",
      "C:\\Anaconda\\Galvanize\\DataEngineering\\week6\\6.2\\MyGram\\master\\person_property\\website\n",
      "C:\\Anaconda\\Galvanize\\DataEngineering\\week6\\6.2\\MyGram\\master\\likes\n",
      "C:\\Anaconda\\Galvanize\\DataEngineering\\week6\\6.2\\MyGram\\master\\media_property\\url\n"
     ]
    }
   ],
   "source": [
    "import shutil\n",
    "\n",
    "for p in partition_names:\n",
    "    path = os.getcwd()+\"\\MyGram\\master\\{}\".format(p)\n",
    "    print path\n",
    "    if os.path.exists(path):\n",
    "        shutil.rmtree(path)\n",
    "    partitioned_json.filter(lambda t: t[0] == p\n",
    "            ).values().saveAsTextFile(path)"
   ]
  },
  {
   "cell_type": "code",
   "execution_count": 282,
   "metadata": {
    "collapsed": false
   },
   "outputs": [
    {
     "name": "stdout",
     "output_type": "stream",
     "text": [
      "Folder PATH listing for volume OS_Install\n",
      "Volume serial number is CCAB-FEAB\n",
      "C:\\ANACONDA\\GALVANIZE\\DATAENGINEERING\\WEEK6\\6.2\\MYGRAM\n",
      "ÀÄÄÄmaster\n",
      "    ÃÄÄÄcontains\n",
      "    ÃÄÄÄfriends\n",
      "    ÃÄÄÄhashtag_property\n",
      "    ³   ÀÄÄÄpopularityscore\n",
      "    ÃÄÄÄlikes\n",
      "    ÃÄÄÄmedia_property\n",
      "    ³   ÃÄÄÄdesc\n",
      "    ³   ÃÄÄÄmedia_type\n",
      "    ³   ÀÄÄÄurl\n",
      "    ÃÄÄÄperson_property\n",
      "    ³   ÃÄÄÄdesc\n",
      "    ³   ÃÄÄÄemail\n",
      "    ³   ÃÄÄÄname\n",
      "    ³   ÃÄÄÄphone\n",
      "    ³   ÀÄÄÄwebsite\n",
      "    ÀÄÄÄsearches\n"
     ]
    }
   ],
   "source": [
    "!tree ./MyGram"
   ]
  },
  {
   "cell_type": "code",
   "execution_count": null,
   "metadata": {
    "collapsed": true
   },
   "outputs": [],
   "source": [
    "# GraphViz Cells"
   ]
  },
  {
   "cell_type": "code",
   "execution_count": 346,
   "metadata": {
    "collapsed": true
   },
   "outputs": [],
   "source": [
    "sqlContext = pyspark.SQLContext(sc)"
   ]
  },
  {
   "cell_type": "code",
   "execution_count": 403,
   "metadata": {
    "collapsed": true
   },
   "outputs": [],
   "source": [
    "likes = sqlContext.read.json(\"./MyGram/master/likes/\")\n",
    "media = sqlContext.read.json(\"./MyGram/master/media_property/desc\")"
   ]
  },
  {
   "cell_type": "code",
   "execution_count": 355,
   "metadata": {
    "collapsed": false
   },
   "outputs": [
    {
     "name": "stdout",
     "output_type": "stream",
     "text": [
      "root\n",
      " |-- dataunit: struct (nullable = true)\n",
      " |    |-- likes: struct (nullable = true)\n",
      " |    |    |-- id1: struct (nullable = true)\n",
      " |    |    |    |-- person_id: string (nullable = true)\n",
      " |    |    |-- id2: struct (nullable = true)\n",
      " |    |    |    |-- media_id: long (nullable = true)\n",
      " |-- pedigree: struct (nullable = true)\n",
      " |    |-- true_as_of_secs: long (nullable = true)\n",
      "\n",
      "None\n",
      "----------------\n",
      "root\n",
      " |-- dataunit: struct (nullable = true)\n",
      " |    |-- media_property: struct (nullable = true)\n",
      " |    |    |-- id: struct (nullable = true)\n",
      " |    |    |    |-- media_id: long (nullable = true)\n",
      " |    |    |-- property: struct (nullable = true)\n",
      " |    |    |    |-- desc: string (nullable = true)\n",
      " |-- pedigree: struct (nullable = true)\n",
      " |    |-- true_as_of_secs: long (nullable = true)\n",
      "\n",
      "None\n"
     ]
    }
   ],
   "source": [
    "print likes.printSchema()\n",
    "# print likes.dtypes\n",
    "print '----------------'\n",
    "print media.printSchema()\n",
    "# media.dtypes"
   ]
  },
  {
   "cell_type": "code",
   "execution_count": 371,
   "metadata": {
    "collapsed": true
   },
   "outputs": [],
   "source": [
    "likes.registerTempTable('likes')\n",
    "media.registerTempTable('media')"
   ]
  },
  {
   "cell_type": "code",
   "execution_count": 440,
   "metadata": {
    "collapsed": false,
    "scrolled": true
   },
   "outputs": [],
   "source": [
    "# df = likes.join(media, likes.dataunit.likes.id2.media_id == \n",
    "#            media.dataunit.media_property.id.media_id, 'outer').groupBy(\n",
    "#             likes.dataunit.likes.id2.media_id).agg(\n",
    "#             {\"dataunit.likes.id2.media_id\": \"count\"})"
   ]
  },
  {
   "cell_type": "code",
   "execution_count": 441,
   "metadata": {
    "collapsed": false
   },
   "outputs": [],
   "source": [
    "# df.take(1)"
   ]
  },
  {
   "cell_type": "code",
   "execution_count": 527,
   "metadata": {
    "collapsed": false,
    "scrolled": true
   },
   "outputs": [
    {
     "data": {
      "text/plain": [
       "[Row(property=Row(desc=u'vjlabxszrdtpcqccxbod')),\n",
       " Row(property=Row(desc=u'afpffuttvjxenvtaugkg')),\n",
       " Row(property=Row(desc=u'bssfmbrzuaqizpgppmyq')),\n",
       " Row(property=Row(desc=u'mvriafktwolicverdqih')),\n",
       " Row(property=Row(desc=u'vdvopawljomgjkfuitfo')),\n",
       " Row(property=Row(desc=u'dhbzalcaqkkknrycidge')),\n",
       " Row(property=Row(desc=u'nmzkgwewnkeuejoebtjk')),\n",
       " Row(property=Row(desc=u'ycquackvbaufwnokcbar')),\n",
       " Row(property=Row(desc=u'hfuetembjxoeygbcwdct')),\n",
       " Row(property=Row(desc=u'zfxlwxhjktmwkwweqbr')),\n",
       " Row(property=Row(desc=u'ifogxcnaosdowsmpvjvl')),\n",
       " Row(property=Row(desc=u'izirsutxmgkxufafhaef')),\n",
       " Row(property=Row(desc=u'zsqnemlpgyhqskduvvyt')),\n",
       " Row(property=Row(desc=u'crrsssmugwfduahupvkr')),\n",
       " Row(property=Row(desc=u'wsilvejvaxbpukbvrhum')),\n",
       " Row(property=Row(desc=u'rxstdxghvdpbxphfzdlq')),\n",
       " Row(property=Row(desc=u'osptfwvkxtzmqzkkcaxb')),\n",
       " Row(property=Row(desc=u'vudajdnvbcvgyijsvpir')),\n",
       " Row(property=Row(desc=u'tscmunhdbvmzqebmmgus')),\n",
       " Row(property=Row(desc=u'jcuaqqvomcehtubiimri')),\n",
       " Row(property=Row(desc=u'ybfkpdzpybycfqxjnbmh')),\n",
       " Row(property=Row(desc=u'nyaadekvtfaxazrlmwoq')),\n",
       " Row(property=Row(desc=u'pecujlwcyfeiacmyhucc')),\n",
       " Row(property=Row(desc=u'bbxkylszbjudpkrfrzus')),\n",
       " Row(property=Row(desc=u'dotpnpkrcavayzlbtoin')),\n",
       " Row(property=Row(desc=u'ywpvbwwnvuredebwedjw')),\n",
       " Row(property=Row(desc=u'flwzwtueqzpuoacnfcwg')),\n",
       " Row(property=Row(desc=u'wpkkaiycapdawivxkbdd')),\n",
       " Row(property=Row(desc=u'xmxoxkhjdisiycpwvxsa')),\n",
       " Row(property=Row(desc=u'ylceiytpvkautssvmwln')),\n",
       " Row(property=Row(desc=u'seedygkntqybvxteiasj')),\n",
       " Row(property=Row(desc=u'klprbsumsdeqdscrsjgf')),\n",
       " Row(property=Row(desc=u'qdvnzetyythuonconlpn')),\n",
       " Row(property=Row(desc=u'szrwhcaollmqcyyarriv')),\n",
       " Row(property=Row(desc=u'iaxxijdvfwehaatvizlv')),\n",
       " Row(property=Row(desc=u'lqsbhkoizikyuilwjflh')),\n",
       " Row(property=Row(desc=u'lvldcrtbvgyyywzlmfvm')),\n",
       " Row(property=Row(desc=u'xxfaujaiscbsucnkksrj')),\n",
       " Row(property=Row(desc=u'khdohlasgcoagjimxwhm')),\n",
       " Row(property=Row(desc=u'yvmnjqweydzdutcurwxi')),\n",
       " Row(property=Row(desc=u'juzmqusgeomelxckmxyz')),\n",
       " Row(property=Row(desc=u'ozryidenqklzkcvqtkrb')),\n",
       " Row(property=Row(desc=u'umovlbeajjmapnnwkctj')),\n",
       " Row(property=Row(desc=u'bhihxrmduehaujaanqkp')),\n",
       " Row(property=Row(desc=u'cjxsmunfisuofqucpavh')),\n",
       " Row(property=Row(desc=u'mhsfykiibhpstjineiug')),\n",
       " Row(property=Row(desc=u'mtziovkzgoklbjtysevs')),\n",
       " Row(property=Row(desc=u'bemlqmpbrtenxprgqhqt')),\n",
       " Row(property=Row(desc=u'juhastdcpdfczcskayps')),\n",
       " Row(property=Row(desc=u'rwtmhyjndgxthuztcgrb')),\n",
       " Row(property=Row(desc=u'qfklzjvjbjrunugzcomj')),\n",
       " Row(property=Row(desc=u'rgznnhjflkbjpqdqguhx')),\n",
       " Row(property=Row(desc=u'fuihmfadjfgzoetbttdi')),\n",
       " Row(property=Row(desc=u'ykulzkmbkbidmebxrmoa')),\n",
       " Row(property=Row(desc=u'byptzgmgexotbarlhfrn')),\n",
       " Row(property=Row(desc=u'mwxfgicjzdsqwhepxfus')),\n",
       " Row(property=Row(desc=u'ojqdhkrylsrqiaocwwzt')),\n",
       " Row(property=Row(desc=u'jzpstvburjxvqorcdjrb')),\n",
       " Row(property=Row(desc=u'ueeacymbgcussnbsvhqm')),\n",
       " Row(property=Row(desc=u'rmkwxhwgrerytvibubyo')),\n",
       " Row(property=Row(desc=u'moaxaunkvktdfnfwfwuc')),\n",
       " Row(property=Row(desc=u'yjhrwvxuqsepczipycyd')),\n",
       " Row(property=Row(desc=u'njrqjxdxqckeylfbjaml')),\n",
       " Row(property=Row(desc=u'ekzeebglydtvwxuyntrx')),\n",
       " Row(property=Row(desc=u'gqirifofkjqjlkimocbh')),\n",
       " Row(property=Row(desc=u'cmkvtvppqarrwzjbittz')),\n",
       " Row(property=Row(desc=u'yjzuvilcrspzcujojvyx')),\n",
       " Row(property=Row(desc=u'sdjteyfymlpcycuxaqak')),\n",
       " Row(property=Row(desc=u'xmwjnaslhszrzkpauxsw')),\n",
       " Row(property=Row(desc=u'hgxuqotcpsgctyaupdnj')),\n",
       " Row(property=Row(desc=u'pjgxsryaobijpznpvxtb')),\n",
       " Row(property=Row(desc=u'ezdtrsdvsfgbsnbempgp')),\n",
       " Row(property=Row(desc=u'jcmqfdajkxaqfdpzgfhs')),\n",
       " Row(property=Row(desc=u'xdkbaohbtizadgczdwsk')),\n",
       " Row(property=Row(desc=u'sdjpokfjmcdwlopggnod')),\n",
       " Row(property=Row(desc=u'cfobrzsezyckaekpwujs')),\n",
       " Row(property=Row(desc=u'qdryxmnqqidzgxjbevie')),\n",
       " Row(property=Row(desc=u'bdycizgpsggechzxkgwg')),\n",
       " Row(property=Row(desc=u'loxiyppygioqmqxkhnxz')),\n",
       " Row(property=Row(desc=u'vyfoaeyyljjpcjczxxcw')),\n",
       " Row(property=Row(desc=u'dytjgirggrkpdshdjhzn')),\n",
       " Row(property=Row(desc=u'vvufcgezjnxbztxnttut')),\n",
       " Row(property=Row(desc=u'shuzzjqlbtgpovgwhjbf')),\n",
       " Row(property=Row(desc=u'yuoiiuddmuqurrzrxil')),\n",
       " Row(property=Row(desc=u'lwtukegvailtukyetbni')),\n",
       " Row(property=Row(desc=u'qxyzgxkklkubsyzvrroh')),\n",
       " Row(property=Row(desc=u'hldysgleqcxlivgmmxnx')),\n",
       " Row(property=Row(desc=u'jbbdudwyfhscjcfqsebc')),\n",
       " Row(property=Row(desc=u'prcmfblujpnkycfszlkm')),\n",
       " Row(property=Row(desc=u'pbruylwbguoqdftghwzz')),\n",
       " Row(property=Row(desc=u'nqxiflvfvwlmeoieojqf')),\n",
       " Row(property=Row(desc=u'iorpwrurowrtzvbwxwln')),\n",
       " Row(property=Row(desc=u'bwjwloxrywqzavjnllwq')),\n",
       " Row(property=Row(desc=u'bgjvfadykujwtjrrlijf')),\n",
       " Row(property=Row(desc=u'xtqjlrtpknzqqlkmztrp')),\n",
       " Row(property=Row(desc=u'qfkscuaacsnzzqnhtzox')),\n",
       " Row(property=Row(desc=u'fsdooqyrjuuvcumuibcc')),\n",
       " Row(property=Row(desc=u'uxoeirmbncndsepmcalx')),\n",
       " Row(property=Row(desc=u'yudmhyzwpsowmbulhskc')),\n",
       " Row(property=Row(desc=u'lsrchbydslprmnlzxdlk'))]"
      ]
     },
     "execution_count": 527,
     "metadata": {},
     "output_type": "execute_result"
    }
   ],
   "source": [
    "test = sqlContext.sql(\"select dataunit.media_property.property from media\")\n",
    "#                       \"join likes\")\n",
    "#                      \"likes.dataunit.likes.id2.media_id = \"+\n",
    "#                       \"media.dataunit.media_property.id.media_id\")\n",
    "#                      \"group by media.dataunit.media_property.property.desc\")\n",
    "test.collect()"
   ]
  },
  {
   "cell_type": "code",
   "execution_count": 405,
   "metadata": {
    "collapsed": false
   },
   "outputs": [
    {
     "name": "stdout",
     "output_type": "stream",
     "text": [
      "+----+-----+\n",
      "| id2|count|\n",
      "+----+-----+\n",
      "|[35]|    1|\n",
      "| [8]|    3|\n",
      "|[35]|    1|\n",
      "| [8]|    3|\n",
      "|[19]|    3|\n",
      "|[19]|    3|\n",
      "|[30]|    2|\n",
      "|[30]|    2|\n",
      "| [3]|    3|\n",
      "| [3]|    3|\n",
      "|[41]|    1|\n",
      "|[14]|    2|\n",
      "|[41]|    1|\n",
      "|[14]|    2|\n",
      "|[25]|    1|\n",
      "|[25]|    1|\n",
      "| [9]|    4|\n",
      "| [9]|    4|\n",
      "|[47]|    1|\n",
      "|[47]|    1|\n",
      "+----+-----+\n",
      "\n"
     ]
    }
   ],
   "source": [
    "# Count images likes\n",
    "# likes.join(media, likes.dataunit.likes.id2 == \n",
    "#            media.dataunit.media_property.id.media_id, 'outer'\n",
    "#           ).select(likes.dataunit.likes.id1, \n",
    "#            media.dataunit.media_property.property.desc).collect()\n",
    "likes.cube('dataunit.likes.id2').count().show()"
   ]
  },
  {
   "cell_type": "code",
   "execution_count": 406,
   "metadata": {
    "collapsed": false
   },
   "outputs": [
    {
     "name": "stdout",
     "output_type": "stream",
     "text": [
      "root\n",
      " |-- dataunit: struct (nullable = true)\n",
      " |    |-- friends: struct (nullable = true)\n",
      " |    |    |-- id1: struct (nullable = true)\n",
      " |    |    |    |-- person_id: string (nullable = true)\n",
      " |    |    |-- id2: struct (nullable = true)\n",
      " |    |    |    |-- person_id: string (nullable = true)\n",
      " |-- pedigree: struct (nullable = true)\n",
      " |    |-- true_as_of_secs: long (nullable = true)\n",
      "\n"
     ]
    },
    {
     "data": {
      "text/plain": [
       "[('dataunit',\n",
       "  'struct<friends:struct<id1:struct<person_id:string>,id2:struct<person_id:string>>>'),\n",
       " ('pedigree', 'struct<true_as_of_secs:bigint>')]"
      ]
     },
     "execution_count": 406,
     "metadata": {},
     "output_type": "execute_result"
    }
   ],
   "source": [
    "friends = sqlContext.read.json(\"./MyGram/master/friends/\")\n",
    "friends.printSchema()\n",
    "friends.dtypes"
   ]
  },
  {
   "cell_type": "code",
   "execution_count": 438,
   "metadata": {
    "collapsed": false
   },
   "outputs": [
    {
     "name": "stdout",
     "output_type": "stream",
     "text": [
      "+-------------------+-----+\n",
      "|          person_id|count|\n",
      "+-------------------+-----+\n",
      "|        AndrewHuang|   10|\n",
      "|          KatAquino|   12|\n",
      "|         MikeThorne|   15|\n",
      "|   DonatellaTaurasi|   10|\n",
      "|      BalajiVijayan|    5|\n",
      "|AlessandroGagliardi|   15|\n",
      "|   AlexanderBarriga|   11|\n",
      "|     BrandonFetters|    7|\n",
      "|        MikeMansour|   15|\n",
      "+-------------------+-----+\n",
      "\n"
     ]
    }
   ],
   "source": [
    "# Count persons friends\n",
    "friends.groupBy('dataunit.friends.id2.person_id').count().show()"
   ]
  },
  {
   "cell_type": "code",
   "execution_count": 495,
   "metadata": {
    "collapsed": false
   },
   "outputs": [
    {
     "name": "stdout",
     "output_type": "stream",
     "text": [
      "root\n",
      " |-- dataunit: struct (nullable = true)\n",
      " |    |-- searches: struct (nullable = true)\n",
      " |    |    |-- id1: struct (nullable = true)\n",
      " |    |    |    |-- person_id: string (nullable = true)\n",
      " |    |    |-- id2: struct (nullable = true)\n",
      " |    |    |    |-- hashtag_id: string (nullable = true)\n",
      " |-- pedigree: struct (nullable = true)\n",
      " |    |-- true_as_of_secs: long (nullable = true)\n",
      "\n"
     ]
    },
    {
     "data": {
      "text/plain": [
       "[('dataunit',\n",
       "  'struct<searches:struct<id1:struct<person_id:string>,id2:struct<hashtag_id:string>>>'),\n",
       " ('pedigree', 'struct<true_as_of_secs:bigint>')]"
      ]
     },
     "execution_count": 495,
     "metadata": {},
     "output_type": "execute_result"
    }
   ],
   "source": [
    "# Count hashtag searches\n",
    "searches = sqlContext.read.json(\"./MyGram/master/searches/\")\n",
    "searches.printSchema()\n",
    "searches.dtypes"
   ]
  },
  {
   "cell_type": "code",
   "execution_count": 496,
   "metadata": {
    "collapsed": false
   },
   "outputs": [
    {
     "name": "stdout",
     "output_type": "stream",
     "text": [
      "+-----------+-----+\n",
      "| hashtag_id|count|\n",
      "+-----------+-----+\n",
      "|   #blessed|   11|\n",
      "|      #wine|   14|\n",
      "|   #winning|   20|\n",
      "|       #wcw|    9|\n",
      "|#squadgoals|   12|\n",
      "| #halloween|    6|\n",
      "|      #data|    8|\n",
      "|   #yourmom|    8|\n",
      "|        tbt|   12|\n",
      "+-----------+-----+\n",
      "\n"
     ]
    }
   ],
   "source": [
    "searches.groupBy('dataunit.searches.id2.hashtag_id').count().show()"
   ]
  },
  {
   "cell_type": "code",
   "execution_count": 497,
   "metadata": {
    "collapsed": false
   },
   "outputs": [
    {
     "name": "stdout",
     "output_type": "stream",
     "text": [
      "root\n",
      " |-- dataunit: struct (nullable = true)\n",
      " |    |-- hashtag_property: struct (nullable = true)\n",
      " |    |    |-- id: struct (nullable = true)\n",
      " |    |    |    |-- hashtag_id: string (nullable = true)\n",
      " |    |    |-- property: struct (nullable = true)\n",
      " |    |    |    |-- popularityscore: long (nullable = true)\n",
      " |-- pedigree: struct (nullable = true)\n",
      " |    |-- true_as_of_secs: long (nullable = true)\n",
      "\n"
     ]
    },
    {
     "data": {
      "text/plain": [
       "[('dataunit',\n",
       "  'struct<hashtag_property:struct<id:struct<hashtag_id:string>,property:struct<popularityscore:bigint>>>'),\n",
       " ('pedigree', 'struct<true_as_of_secs:bigint>')]"
      ]
     },
     "execution_count": 497,
     "metadata": {},
     "output_type": "execute_result"
    }
   ],
   "source": [
    "popularity = sqlContext.read.json(\n",
    "    \"./MyGram/master/hashtag_property/popularityscore\")\n",
    "popularity.printSchema()\n",
    "popularity.dtypes"
   ]
  },
  {
   "cell_type": "code",
   "execution_count": 498,
   "metadata": {
    "collapsed": false
   },
   "outputs": [
    {
     "name": "stdout",
     "output_type": "stream",
     "text": [
      "+-----------+-------------------------------------------------------------------------------+\n",
      "| hashtag_id|AVG(dataunit.hashtag_property.property.popularityscore AS popularityscore#309L)|\n",
      "+-----------+-------------------------------------------------------------------------------+\n",
      "|   #blessed|                                                                           49.0|\n",
      "|      #wine|                                                             45.285714285714285|\n",
      "|   #winning|                                                                           48.9|\n",
      "|       #wcw|                                                                           44.0|\n",
      "|#squadgoals|                                                             38.583333333333336|\n",
      "| #halloween|                                                             42.333333333333336|\n",
      "|      #data|                                                                         51.625|\n",
      "|   #yourmom|                                                                         53.125|\n",
      "|        tbt|                                                             49.416666666666664|\n",
      "+-----------+-------------------------------------------------------------------------------+\n",
      "\n"
     ]
    }
   ],
   "source": [
    "popularity.groupBy('dataunit.hashtag_property.id.hashtag_id').avg('dataunit.hashtag_property.property.popularityscore').show()"
   ]
  },
  {
   "cell_type": "code",
   "execution_count": 499,
   "metadata": {
    "collapsed": true
   },
   "outputs": [],
   "source": [
    "popularityRDD = popularity.rdd.map(lambda x: (\n",
    "        x.dataunit.hashtag_property.id.hashtag_id, \n",
    "        x.dataunit.hashtag_property.property.popularityscore))"
   ]
  },
  {
   "cell_type": "code",
   "execution_count": 500,
   "metadata": {
    "collapsed": false
   },
   "outputs": [
    {
     "name": "stdout",
     "output_type": "stream",
     "text": [
      "[(u'tbt', 72), (u'#winning', 17)]\n"
     ]
    }
   ],
   "source": [
    "print popularityRDD.take(2)\n",
    "# print popularityRDD.take(2)[0][0]"
   ]
  },
  {
   "cell_type": "code",
   "execution_count": 501,
   "metadata": {
    "collapsed": true
   },
   "outputs": [],
   "source": [
    "searchesRDD = searches.rdd.map(lambda x: (\n",
    "        x.dataunit.searches.id2.hashtag_id, \n",
    "        x.dataunit.searches.id1.person_id))"
   ]
  },
  {
   "cell_type": "code",
   "execution_count": 502,
   "metadata": {
    "collapsed": false
   },
   "outputs": [
    {
     "name": "stdout",
     "output_type": "stream",
     "text": [
      "[(u'tbt', u'LaquitaWitt'), (u'#winning', u'HerbertKlima')]\n"
     ]
    }
   ],
   "source": [
    "print searchesRDD.take(2)"
   ]
  },
  {
   "cell_type": "code",
   "execution_count": 528,
   "metadata": {
    "collapsed": true
   },
   "outputs": [],
   "source": [
    "joinRDD = sc.parallelize(sorted(searchesRDD.join(popularityRDD).collect()))"
   ]
  },
  {
   "cell_type": "code",
   "execution_count": 531,
   "metadata": {
    "collapsed": false
   },
   "outputs": [],
   "source": [
    "joinDF = sqlContext.createDataFrame(joinRDD)"
   ]
  },
  {
   "cell_type": "code",
   "execution_count": 532,
   "metadata": {
    "collapsed": false
   },
   "outputs": [
    {
     "name": "stdout",
     "output_type": "stream",
     "text": [
      "+--------+-------------------+\n",
      "|      _1|                 _2|\n",
      "+--------+-------------------+\n",
      "|#blessed|   [AprilMiller,10]|\n",
      "|#blessed|   [AprilMiller,12]|\n",
      "|#blessed|   [AprilMiller,13]|\n",
      "|#blessed|   [AprilMiller,47]|\n",
      "|#blessed|   [AprilMiller,47]|\n",
      "|#blessed|   [AprilMiller,49]|\n",
      "|#blessed|   [AprilMiller,53]|\n",
      "|#blessed|   [AprilMiller,66]|\n",
      "|#blessed|   [AprilMiller,68]|\n",
      "|#blessed|   [AprilMiller,75]|\n",
      "|#blessed|   [AprilMiller,99]|\n",
      "|#blessed|[BrittniCollins,10]|\n",
      "|#blessed|[BrittniCollins,12]|\n",
      "|#blessed|[BrittniCollins,13]|\n",
      "|#blessed|[BrittniCollins,47]|\n",
      "|#blessed|[BrittniCollins,47]|\n",
      "|#blessed|[BrittniCollins,49]|\n",
      "|#blessed|[BrittniCollins,53]|\n",
      "|#blessed|[BrittniCollins,66]|\n",
      "|#blessed|[BrittniCollins,68]|\n",
      "+--------+-------------------+\n",
      "\n"
     ]
    }
   ],
   "source": [
    "joinDF.show()"
   ]
  },
  {
   "cell_type": "code",
   "execution_count": 519,
   "metadata": {
    "collapsed": false
   },
   "outputs": [],
   "source": [
    "summaryRDD = joinRDD.map(lambda (x, (y, z)): (y+\" \"+x, z))"
   ]
  },
  {
   "cell_type": "code",
   "execution_count": 520,
   "metadata": {
    "collapsed": false
   },
   "outputs": [
    {
     "data": {
      "text/plain": [
       "[(u'AprilMiller #blessed', 10),\n",
       " (u'AprilMiller #blessed', 12),\n",
       " (u'AprilMiller #blessed', 13)]"
      ]
     },
     "execution_count": 520,
     "metadata": {},
     "output_type": "execute_result"
    }
   ],
   "source": [
    "summaryRDD.take(3)"
   ]
  },
  {
   "cell_type": "code",
   "execution_count": 522,
   "metadata": {
    "collapsed": false
   },
   "outputs": [
    {
     "name": "stdout",
     "output_type": "stream",
     "text": [
      "[(u'PedroMarquez #data', 51), (u'KyleJohnson #squadgoals', 38), (u'JanFunk #wine', 45)]\n"
     ]
    }
   ],
   "source": [
    "from operator import add\n",
    "sumCount = summaryRDD.combineByKey(lambda value: (value, 1),\n",
    "                             lambda x, value: (x[0] + value, x[1] + 1),\n",
    "                             lambda x, y: (x[0] + y[0], x[1] + y[1]))\n",
    "\n",
    "averageByKey = sumCount.map(lambda (label, (value_sum, count)): (label, value_sum / count))\n",
    "\n",
    "print averageByKey.take(3)"
   ]
  },
  {
   "cell_type": "code",
   "execution_count": null,
   "metadata": {
    "collapsed": true
   },
   "outputs": [],
   "source": []
  }
 ],
 "metadata": {
  "kernelspec": {
   "display_name": "Python 2",
   "language": "python",
   "name": "python2"
  },
  "language_info": {
   "codemirror_mode": {
    "name": "ipython",
    "version": 2
   },
   "file_extension": ".py",
   "mimetype": "text/x-python",
   "name": "python",
   "nbconvert_exporter": "python",
   "pygments_lexer": "ipython2",
   "version": "2.7.9"
  }
 },
 "nbformat": 4,
 "nbformat_minor": 0
}
