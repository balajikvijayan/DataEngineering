{
 "cells": [
  {
   "cell_type": "code",
   "execution_count": 9,
   "metadata": {
    "collapsed": false
   },
   "outputs": [
    {
     "data": {
      "application/javascript": [
       "$.getScript('http://asimjalis.github.io/ipyn-ext/js/ipyn-present.js')"
      ],
      "text/plain": [
       "<IPython.core.display.Javascript object>"
      ]
     },
     "metadata": {},
     "output_type": "display_data"
    }
   ],
   "source": [
    "%%javascript\n",
    "$.getScript('http://asimjalis.github.io/ipyn-ext/js/ipyn-present.js')"
   ]
  },
  {
   "cell_type": "markdown",
   "metadata": {},
   "source": [
    "<h1 class=\"tocheading\">Virtualization and Automation</h1>\n",
    "<div id=\"toc\"></div>"
   ]
  },
  {
   "cell_type": "markdown",
   "metadata": {},
   "source": [
    "Objectives\n",
    "===================================================\n",
    "By the end of this lesson, you will be able to:\n",
    "* Explain the difference between a virtual machine and a Docker container.\n",
    "* Use Docker to configure and start a container.\n",
    "* Use Ansible to setup individual development environment"
   ]
  },
  {
   "cell_type": "markdown",
   "metadata": {},
   "source": [
    "Virtual Machines\n",
    "===================================================\n",
    "\n",
    "## What is a Virtual Machine?\n",
    "![](Guest_os_diagram.jpg)\n",
    "\n",
    "### Popular VM apps\n",
    "* Parallels\n",
    "* VMware\n",
    "* VirtualBox\n",
    "* Vagrant (helps manage VMware or VirtualBox)\n",
    "\n",
    "## Java Virtual Machine\n",
    "![JVM Spec](JvmSpec7.png)\n",
    "\n",
    "## Why a Virtual Machine?\n",
    "* Unified computing platform\n",
    "* Isolated environment (theoretically)\n",
    "* Develop for a different environment (*e.g.* Linux on OS X)\n",
    "\n",
    "## EC2 instances are VMs\n",
    "*e.g.* one `m4.10xlarge` can host 10 `m4.xlarge` (or 20 `m4.large`) instances thanks to virtualization\n",
    "\n",
    "## Pop Quiz\n",
    "<details><summary>\n",
    "Q: Have you used a virtual machine before?\n",
    "</summary>\n",
    "Many times! Not just when you started your own EC2 instance yesterday, but any time you've used a web app that was hosted on EC2 (Dropbox, Netflix, Foursquare, Zynga), anything hosted in Microsoft Azure (Xbox Live), Rackspace, etc.  \n",
    "Also, any time you've run a Java application.\n",
    "</details>"
   ]
  },
  {
   "cell_type": "markdown",
   "metadata": {},
   "source": [
    "Docker\n",
    "---------------------------------------------------\n",
    "![Docker](logo_docker.png)\n",
    "\n",
    "<TABLE><TR>\n",
    "<TD>![Linux Host](https://docs.docker.com/installation/images/linux_docker_host.svg)</TD>\n",
    "<TD>![MacOS Host](https://docs.docker.com/installation/images/mac_docker_host.svg)</TD>\n",
    "</TR></TABLE>\n",
    "\n",
    "### Containers aren't (exactly) VMs\n",
    "#### Resource usage using Full Virtualization\n",
    "![Virutal Machines](App-Instances-on-Host.png)\n",
    "\n",
    "#### Resource usage with shared kernel virtualization\n",
    "![Containers](Containers-on-Host.png)\n",
    "\n",
    "![Containers vs. VMs](docker-vm-container.png)\n",
    "\n",
    "### Pop Quiz\n",
    "<details><summary>\n",
    "Q: How do Docker containers differ from VMs like in VMware or Virtual Box?\n",
    "</summary>\n",
    "Docker uses resource isolation features of the Linux kernel to allow independent \"containers\" to run within a single Linux instance, avoiding the overhead of full virtualization.\n",
    "</details>"
   ]
  },
  {
   "cell_type": "markdown",
   "metadata": {},
   "source": [
    "Configuration Management\n",
    "===================================================\n",
    "![Automate!](http://ddf912383141a8d7bbe4-e053e711fc85de3290f121ef0f0e3a1f.r87.cf1.rackcdn.com/automate-all-the-things.jpg)\n",
    "## Chef \n",
    "![Chef](chart-what-is-chef.svg)"
   ]
  },
  {
   "cell_type": "markdown",
   "metadata": {},
   "source": [
    "## Ansible\n",
    "<!--![Ansible](ansible.jpg)\n",
    "Key aspects of Ansible:-->  \n",
    "- only needs to be installed on 1 machine, which we might call ‘Ansible Management Host’\n",
    "- configures machines by ssh-ing into them and running commands\n",
    "- easily add machines to your infrastructure\n",
    "- idempotence: an operation has the same result whether run once or many times. <!--In code, you define a desired state such as 'state=present' or 'state=running'-->\n",
    "![MO](ansible-modus-operandi.png)\n",
    "Example hosts file:\n",
    "\n",
    "```yaml\n",
    "---\n",
    "[loadbalancer]\n",
    "balance01\n",
    "balance02\n",
    "\n",
    "[hdfs]\n",
    "storage1\n",
    "storage2\n",
    "storage3\n",
    "\n",
    "[messageservice]\n",
    "kafka01\n",
    "192.168.0.1\n",
    "192.168.0.2\n",
    "```"
   ]
  },
  {
   "cell_type": "markdown",
   "metadata": {},
   "source": [
    "### Playbooks\n",
    "![Ansible Push](ansible-push-architecture.png)\n",
    "Example playbook:\n",
    "```yaml\n",
    "---\n",
    "- hosts: webservers\n",
    "  remote_user: root\n",
    "\n",
    "  tasks:\n",
    "  - name: Test Connection\n",
    "    ping:\n",
    "  - name: make sure apache is running\n",
    "    service: name=httpd state=running\n",
    "\n",
    "- hosts: databases\n",
    "  remote_user: root\n",
    "\n",
    "  tasks:\n",
    "  - name: ensure postgresql is at the latest version\n",
    "    yum: name=postgresql state=latest\n",
    "  - name: ensure that postgresql is started\n",
    "    service: name=postgresql state=running\n",
    "```"
   ]
  },
  {
   "cell_type": "markdown",
   "metadata": {},
   "source": [
    "### Pop Quiz\n",
    "<details><summary>\n",
    "Q: Do you need to do anything special to your hosts to allow you to use Ansible to configure them?\n",
    "</summary>\n",
    "A: No. This is one of the reasons why people prefer Ansible over other configuration management tools like Chef and Puppet. However, you *can* install Ansible on the hosts which allows you to configure them to **pull** their configuration from a repository.  \n",
    "![Ansible Pull](ansible-pull-architecture.png)\n",
    "Q: Why might you do this?\n",
    "</details>"
   ]
  },
  {
   "cell_type": "markdown",
   "metadata": {},
   "source": [
    "### Roles\n",
    "![Architecture](Ansible.png)\n",
    "Example roles:\n",
    "```yaml\n",
    "---\n",
    "- hosts: wordpress_hosts\n",
    "  roles:\n",
    "    - nginx\n",
    "    - php\n",
    "    - mysql\n",
    "    - wordpress\n",
    "```"
   ]
  },
  {
   "cell_type": "markdown",
   "metadata": {
    "collapsed": true
   },
   "source": [
    "Docker, Ansible, EC2 References\n",
    "=================\n",
    "\n",
    "<https://www.digitalocean.com/community/tutorials/how-to-create-ansible-playbooks-to-automate-system-configuration-on-ubuntu>\n",
    "\n",
    "<https://www.digitalocean.com/community/tutorials/how-to-use-ansible-roles-to-abstract-your-infrastructure-environment>\n",
    "\n",
    "<https://dantehranian.wordpress.com/2015/01/20/ansible-vs-puppet-overview/>\n",
    "Relatively recent (Jan 2015) comparison of tools\n",
    "\n",
    "<http://www.ansible.com/blog/2013/12/08/the-origins-of-ansible>\n",
    "The Origins of Ansible\n",
    "\n",
    "<http://ops-school.readthedocs.org/en/latest/config_management.html>\n",
    "A Brief History of Configuration Management\n",
    "\n",
    "\n",
    "Video Tutorials\n",
    "---------------\n",
    "- sysadmincasts: Ansible\n",
    "    <https://sysadmincasts.com/episodes/43-19-minutes-with-ansible-part-1-4>\n",
    "    \n",
    "- Comparison of configuration tools -- though somewhat dated (2013)\n",
    "    <http://www.infoworld.com/article/2609482/data-center/data-center-review-puppet-vs-chef-vs-ansible-vs-salt.html>"
   ]
  }
 ],
 "metadata": {
  "kernelspec": {
   "display_name": "Python 2",
   "language": "python",
   "name": "python2"
  },
  "language_info": {
   "codemirror_mode": {
    "name": "ipython",
    "version": 2
   },
   "file_extension": ".py",
   "mimetype": "text/x-python",
   "name": "python",
   "nbconvert_exporter": "python",
   "pygments_lexer": "ipython2",
   "version": "2.7.10"
  }
 },
 "nbformat": 4,
 "nbformat_minor": 0
}
