{
 "cells": [
  {
   "cell_type": "markdown",
   "metadata": {},
   "source": [
    "Virtual Machines: Using Docker, Ansible and EC2\n",
    "================================================="
   ]
  },
  {
   "cell_type": "markdown",
   "metadata": {},
   "source": [
    "<img src=\"logo_docker.png\" />\n",
    "<img src=\"ansible.jpg\" /> \n",
    "\n",
    "# Table of Contents\n",
    "1. Introduction to Configuration Management\n",
    "  - Containers\n",
    "  - Configuration Management\n",
    "  - Docker\n",
    "    - what is Docker\n",
    "    - Origin and History\n",
    "  - Ansible\n",
    "    - what is Docker\n",
    "    - Origin and History"
   ]
  },
  {
   "cell_type": "markdown",
   "metadata": {},
   "source": [
    "Development and Deployment with Docker and Ansible\n",
    "===========================\n",
    "\n",
    "What problem does Docker solve?\n",
    "-------------------------------\n",
    "Docker allows you as a developer or system administrator to run a contained and consistent environment on your own machine, containing one or many nodes, with low overhead.\n",
    "\n",
    "<b>Docker uses resource isolation features of the Linux kernel such as [cgroups](https://en.wikipedia.org/wiki/Cgroups) and kernel [namespaces](http://man7.org/linux/man-pages/man7/namespaces.7.html) to allow independent \"containers\" to run within a single Linux instance, avoiding the overhead of starting virtual machines.</b>"
   ]
  },
  {
   "cell_type": "markdown",
   "metadata": {},
   "source": [
    "Local Development with Docker\n",
    "------------------------------\n",
    "\n",
    "What problem does Ansible solve?\n",
    "------------------------------\n",
    "Ansible is an open source configuration management tool, directly targeted at solving the problem of having to manually configure each machine by logging in with `ssh` and installing software and configuring.\n",
    "\n",
    "Key aspects of Ansible:  \n",
    "- only needs to be installed on 1 machine, which we might call ‘Ansible Management Host’\n",
    "- configures machines by ssh-ing into them and running commands\n",
    "- easily add machines to your infrastructure\n",
    "- idempotence: an operation has the same result whether run once or many times. In code, you define a desired state such as 'state=present' or 'state=running'\n",
    "\n",
    "\n",
    "- Ansible has many built-in modules that facilitate the provisioning of EC2 instances ('ec2' module), or the setup of Docker containers ('docker' module).\n",
    "\n",
    "How to use Ansible:\n",
    "- have Ansible Management Node, either your laptop or some server. this is where we install Ansible software\n",
    "two config files: Host inventory file, this has list of machines (either IP addresses or host names) you want to provision. Can be grouped together. (note: this can also be a database if you have e.g. 1000s of hosts)\n",
    "- Playbooks are files that describe configuration tasks that need to be performed against hosts given by hosts file\n",
    "- Plays: the goal of a Play in a Playbook is to map a group of systems into multiple roles\n",
    "- Modules: Ansible ships with a ‘module library’ that contains modules that can be executed directly on remote hosts. these modules can control system resources, or handle executing system commands. modules return JSON format data.\n",
    "can also run in ad-hoc mode, against a set of nodes\n",
    "\n",
    "workflow:\n",
    "- you run an Ansible playbook on the management node, providing playbook as command line argument. \n",
    "Ansible looks through the playbook and notices we’ve targeted a certain set of nodes, e.g. the ‘web’ group\n",
    "- it reads in inventory file and finds hosts under the appropriate group\n",
    "- it logs into those mahines with ssh (note: you’ll want to establish a key so you don’t have to provide password)\n",
    "- finally, you get status report\n",
    "\n",
    "Contrasting Ansible with tools like Puppet and Chef:\n",
    "- Ansible pushed config out to machines via ssh; so Ansible only needs to be installed on the Ansible mgt machine, and each host it ssh’s into only needs Python and SSH installed"
   ]
  },
  {
   "cell_type": "markdown",
   "metadata": {},
   "source": [
    "## Using Docker: Introduction\n",
    "\n",
    "(Note: in the lab, you will install Docker and Ansible on your own machine.)\n",
    "\n",
    "### Launching your first Docker Container\n",
    "\n",
    "On the command line, execute the following:"
   ]
  },
  {
   "cell_type": "markdown",
   "metadata": {},
   "source": [
    "```bash\n",
    "$ sudo docker run -i -t ubuntu /bin/bash\n",
    "```"
   ]
  },
  {
   "cell_type": "markdown",
   "metadata": {},
   "source": [
    "When you execute the 'run' command, Docker will:\n",
    "- look for the image name, indicated by the -t flag, locally and download the image if it is not found. So the first time you run this command you do not have the image locally, and Docker will automatically download the 'ubuntu' image from the Docker image registry.\n",
    "- run a new container based on the ubuntu image\n",
    "- launch the bash process within the container\n",
    "\n",
    "After executing this command, you should see something similar to the following; notice how the first line is in bash on your local machine, and the last line is in bash within the Ubunutu container."
   ]
  },
  {
   "cell_type": "markdown",
   "metadata": {},
   "source": [
    "```yaml\n",
    "bash-3.2$ docker run -i -t ubuntu /bin/bash\n",
    "Unable to find image 'ubuntu:latest' locally\n",
    "latest: Pulling from ubuntu\n",
    "\n",
    "6071b4945dcf: Pull complete \n",
    "5bff21ba5409: Pull complete \n",
    "e5855facec0b: Pull complete \n",
    "8251da35e7a7: Already exists \n",
    "ubuntu:latest: The image you are pulling has been verified. Important: image verification is a tech preview feature and should not be relied on to provide security.\n",
    "\n",
    "Digest: sha256:946dd32914a9b315d45e1983b75a597eb931cc59c179402d4fbc7d1e1dd8129d\n",
    "Status: Downloaded newer image for ubuntu:latest\n",
    "root@f0122ebb41a7:/# \n",
    "```"
   ]
  },
  {
   "cell_type": "markdown",
   "metadata": {},
   "source": [
    "There is almost nothing running on your container, as we can illustrate with the ifconfig and ps commands:"
   ]
  },
  {
   "cell_type": "markdown",
   "metadata": {},
   "source": [
    "```yaml\n",
    "root@f0122ebb41a7:/# ifconfig\n",
    "eth0      Link encap:Ethernet  HWaddr 02:42:ac:11:00:34  \n",
    "          inet addr:172.17.0.52  Bcast:0.0.0.0  Mask:255.255.0.0\n",
    "          inet6 addr: fe80::42:acff:fe11:34/64 Scope:Link\n",
    "          UP BROADCAST RUNNING MULTICAST  MTU:1500  Metric:1\n",
    "          RX packets:7 errors:0 dropped:2 overruns:0 frame:0\n",
    "          TX packets:9 errors:0 dropped:0 overruns:0 carrier:0\n",
    "          collisions:0 txqueuelen:0 \n",
    "          RX bytes:558 (558.0 B)  TX bytes:738 (738.0 B)\n",
    "\n",
    "lo        Link encap:Local Loopback  \n",
    "          inet addr:127.0.0.1  Mask:255.0.0.0\n",
    "          inet6 addr: ::1/128 Scope:Host\n",
    "          UP LOOPBACK RUNNING  MTU:65536  Metric:1\n",
    "          RX packets:0 errors:0 dropped:0 overruns:0 frame:0\n",
    "          TX packets:0 errors:0 dropped:0 overruns:0 carrier:0\n",
    "          collisions:0 txqueuelen:0 \n",
    "          RX bytes:0 (0.0 B)  TX bytes:0 (0.0 B)\n",
    "\n",
    "root@f0122ebb41a7:/# ps\n",
    "  PID TTY          TIME CMD\n",
    "    1 ?        00:00:00 bash\n",
    "   15 ?        00:00:00 ps\n",
    "\n",
    "```"
   ]
  },
  {
   "cell_type": "markdown",
   "metadata": {},
   "source": [
    "We can exit our container by simply typing 'exit':"
   ]
  },
  {
   "cell_type": "markdown",
   "metadata": {},
   "source": [
    "```yaml\n",
    "root@f0122ebb41a7:/# exit\n",
    "exit\n",
    "bash-3.2$\n",
    "```"
   ]
  },
  {
   "cell_type": "markdown",
   "metadata": {},
   "source": [
    "We can view a list of Docker containers that are present on your machine:"
   ]
  },
  {
   "cell_type": "markdown",
   "metadata": {},
   "source": [
    "```yaml\n",
    "bash-3.2$ docker images\n",
    "REPOSITORY          TAG                 IMAGE ID            CREATED             VIRTUAL SIZE\n",
    "ubuntu              latest              8251da35e7a7        2 days ago          188.4 MB\n",
    "bash-3.2$\n",
    "```"
   ]
  },
  {
   "cell_type": "markdown",
   "metadata": {},
   "source": [
    "Let's try to 'run' our container again and create a file in the root directory:"
   ]
  },
  {
   "cell_type": "markdown",
   "metadata": {},
   "source": [
    "```yaml\n",
    "bash-3.2$ docker run -i -t ubuntu /bin/bash\n",
    "root@8e8167f9c206:/# ls\n",
    "bin  boot  dev  etc  home  lib  lib64  media  mnt  opt  proc  root  run  sbin  srv  sys  tmp  usr  var\n",
    "root@8e8167f9c206:/# touch myfile.txt\n",
    "root@8e8167f9c206:/# ls\n",
    "bin  boot  dev  etc  home  lib  lib64  media  mnt  myfile.txt  opt  proc  root  run  sbin  srv  sys  tmp  usr  var\n",
    "root@8e8167f9c206:/# exit\n",
    "exit\n",
    "bash-3.2$ docker run -i -t ubuntu /bin/bash\n",
    "root@ea6c66d47902:/# ls\n",
    "bin  boot  dev  etc  home  lib  lib64  media  mnt  opt  proc  root  run  sbin  srv  sys  tmp  usr  var\n",
    "root@ea6c66d47902:/#\n",
    "```"
   ]
  },
  {
   "cell_type": "markdown",
   "metadata": {},
   "source": [
    "Notice:\n",
    "- The second and third time you ran the container, it started much faster than the first time. This is because once an image has been downloaded, it is very fast to launch a container based on that image. <B>This speed is one of Docker's strengths.</b>\n",
    "- Changes you make to Docker containers are <b>ephemeral</b>: when you exit the container, <b>those changes disappear</b>. We created an empty file myfile.txt inside the container, then exited and ran the container again. The file had disappeared.\n",
    "  - there are ways to make changes to containers <b>persist</b>, which we won't go into right now."
   ]
  },
  {
   "cell_type": "markdown",
   "metadata": {},
   "source": [
    "An empty container is not that useful, so we'll want to fill it with some things. We might want to have it fulfil some purpose -- when we start using Ansible, this will be described as a <b>role</b>.\n",
    "\n",
    "We can add things to our Container by creating a <b>Dockerfile</b>: a plain-text file that instructs Docker step-by-step how to build a Docker <b>image</b>, which we an then use to run a Docker <b>container</b>. \n",
    "\n",
    "Here is an example of a simple Dockerfile:"
   ]
  },
  {
   "cell_type": "markdown",
   "metadata": {},
   "source": [
    "```bash\n",
    "FROM ubuntu:12.04\n",
    "MAINTAINER Galvanize Student \"gstudent@galvanize.com\"\n",
    "RUN echo \"deb http://archive.ubuntu.com/ubuntu precise main universe\" > /etc/apt/sources.list\n",
    "RUN apt-get update\n",
    "RUN apt-get install -y nginx\n",
    "EXPOSE 80\n",
    "CMD [\"nginx\"]\n",
    "```"
   ]
  },
  {
   "cell_type": "markdown",
   "metadata": {},
   "source": [
    "How does Ansible work?\n",
    "=============\n",
    "<img src=\"ansible-modus-operandi.png\">"
   ]
  },
  {
   "cell_type": "markdown",
   "metadata": {},
   "source": [
    "### Hosts file\n",
    "Here is an example of a hosts file:"
   ]
  },
  {
   "cell_type": "markdown",
   "metadata": {},
   "source": [
    "```yaml\n",
    "--- \n",
    "[loadbalancer]\n",
    "balance01\n",
    "balance02\n",
    "\n",
    "[hdfs]\n",
    "storage1\n",
    "storage2\n",
    "storage3\n",
    "\n",
    "[messageservice]\n",
    "kafka01\n",
    "192.168.0.1\n",
    "192.168.0.2\n",
    "```"
   ]
  },
  {
   "cell_type": "markdown",
   "metadata": {},
   "source": [
    "Key points:\n",
    "- notice how the file starts with triple dashes \"---\" which is necessary to indicate YAML syntax\n",
    "- the file contains 3 groups, each between brackets: [].\n",
    "- host names can be indicated either by a hostname or IP address."
   ]
  },
  {
   "cell_type": "markdown",
   "metadata": {},
   "source": [
    "### Playbooks\n",
    "#### A Note on YAML Syntax\n",
    "Ansible playbooks are written in the YAML data serialization format. Some basics about YAML syntax: \n",
    "The first line of every Ansible file must consist of “---” for it to be interpreted correctly by.\n",
    "Items that begin with a - are considered list items. \n",
    "Items that have the format of key: value operate as hashes or dictionaries."
   ]
  },
  {
   "cell_type": "markdown",
   "metadata": {
    "collapsed": true
   },
   "source": [
    "```yaml\n",
    "---\n",
    "- hosts: webservers\n",
    "  remote_user: root\n",
    "\n",
    "  tasks:\n",
    "  - name: Test Connection\n",
    "    ping:\n",
    "\n",
    "  - name: make sure apache is running\n",
    "    service: name=httpd state=running\n",
    "```"
   ]
  },
  {
   "cell_type": "markdown",
   "metadata": {},
   "source": [
    "#### Playbooks\n",
    "The added code above does two things: \n",
    "- adds tasks to be executed on the set of hosts we defined before\n",
    "- adds another set of hosts, ‘databases’, with its own set of tasks to be executed against it\n",
    "- adds a task to install a piece of software: (code that was added)"
   ]
  },
  {
   "cell_type": "markdown",
   "metadata": {},
   "source": [
    "Let's run this playbook and see what happens:"
   ]
  },
  {
   "cell_type": "markdown",
   "metadata": {},
   "source": [
    "```bash\n",
    "$ ansible-playbook playbook.yml\n",
    "```"
   ]
  },
  {
   "cell_type": "markdown",
   "metadata": {},
   "source": [
    "```bash\n",
    "$ [running playbook]\n",
    "```"
   ]
  },
  {
   "cell_type": "markdown",
   "metadata": {},
   "source": [
    "As your infrastructure becomes more sophisticated, and you add more machines with various configurations, your Ansible playbooks will become longer and more complex. You will likely need to re-use certain instructions for multiple (groups of) hosts, e.g. installing common software. \n",
    "\n",
    "Introducing “roles”. The code below prescribes a group of hosts that shall have a set of roles, and on which a corresponding set of tasks shall be executed (that code is not shown).\n",
    "<b>Roles</b> are "
   ]
  },
  {
   "cell_type": "markdown",
   "metadata": {
    "collapsed": true
   },
   "source": [
    "```yaml\n",
    "---\n",
    "- hosts: wordpress_hosts\n",
    "  roles:\n",
    "    - nginx\n",
    "    - php\n",
    "    - mysql\n",
    "    - wordpress\n",
    "```"
   ]
  },
  {
   "cell_type": "code",
   "execution_count": null,
   "metadata": {
    "collapsed": true
   },
   "outputs": [],
   "source": [
    "Running a playbook, basic syntax:"
   ]
  },
  {
   "cell_type": "code",
   "execution_count": null,
   "metadata": {
    "collapsed": true
   },
   "outputs": [],
   "source": [
    "ansible-playbook playbook.yml"
   ]
  },
  {
   "cell_type": "markdown",
   "metadata": {},
   "source": [
    "# Ansible "
   ]
  },
  {
   "cell_type": "markdown",
   "metadata": {},
   "source": [
    "Docker, Ansible, EC2 References\n",
    "=================\n",
    "\n",
    "<https://www.digitalocean.com/community/tutorials/how-to-create-ansible-playbooks-to-automate-system-configuration-on-ubuntu>\n",
    "\n",
    "<https://www.digitalocean.com/community/tutorials/how-to-use-ansible-roles-to-abstract-your-infrastructure-environment>\n",
    "\n",
    "<https://dantehranian.wordpress.com/2015/01/20/ansible-vs-puppet-overview/>\n",
    "Relatively recent (Jan 2015) comparison of tools\n",
    "\n",
    "<http://www.ansible.com/blog/2013/12/08/the-origins-of-ansible>\n",
    "The Origins of Ansible\n",
    "\n",
    "<http://ops-school.readthedocs.org/en/latest/config_management.html>\n",
    "A Brief History of Configuration Management\n",
    "\n",
    "\n",
    "Video Tutorials\n",
    "---------------\n",
    "- sysadmincasts: Ansible\n",
    "    <https://sysadmincasts.com/episodes/43-19-minutes-with-ansible-part-1-4>\n",
    "    \n",
    "- Comparison of configuration tools -- though somewhat dated (2013)\n",
    "    <http://www.infoworld.com/article/2609482/data-center/data-center-review-puppet-vs-chef-vs-ansible-vs-salt.html>"
   ]
  },
  {
   "cell_type": "code",
   "execution_count": null,
   "metadata": {
    "collapsed": true
   },
   "outputs": [],
   "source": []
  }
 ],
 "metadata": {
  "kernelspec": {
   "display_name": "Python 2",
   "language": "python",
   "name": "python2"
  },
  "language_info": {
   "codemirror_mode": {
    "name": "ipython",
    "version": 2
   },
   "file_extension": ".py",
   "mimetype": "text/x-python",
   "name": "python",
   "nbconvert_exporter": "python",
   "pygments_lexer": "ipython2",
   "version": "2.7.10"
  }
 },
 "nbformat": 4,
 "nbformat_minor": 0
}
