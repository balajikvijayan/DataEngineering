{
 "cells": [
  {
   "cell_type": "markdown",
   "metadata": {},
   "source": [
    "Lab\n",
    "===\n",
    "In Pairs\n",
    "------------\n",
    "### 1. Work through the getting started guide at http://avro.apache.org/docs/current/gettingstartedpython.html"
   ]
  },
  {
   "cell_type": "code",
   "execution_count": 215,
   "metadata": {
    "collapsed": true
   },
   "outputs": [],
   "source": [
    "import avro.io\n",
    "import avro.schema\n",
    "from avro.datafile import DataFileReader, DataFileWriter\n",
    "from avro.io import DatumReader, DatumWriter"
   ]
  },
  {
   "cell_type": "markdown",
   "metadata": {
    "collapsed": true
   },
   "source": [
    "### 2. Generate sample data\n",
    "Consider the following data:"
   ]
  },
  {
   "cell_type": "code",
   "execution_count": 216,
   "metadata": {
    "collapsed": true
   },
   "outputs": [],
   "source": [
    "data = [{'pedigree': {'true_as_of_secs': 1234567890},\n",
    "           'dataunit': {'person_property': {'id': {'person_id': 'balaji'},\n",
    "                                    'property': {'website': 'http://google.com'}}},\n",
    "           },\n",
    "        {'pedigree': {'true_as_of_secs': 1234567890},\n",
    "           'dataunit': {'person_property': {'id': {'person_id': 'balaji'},\n",
    "                                    'property': {'email': 'balaji.k.vijayan@gmail.com'}}},\n",
    "           },\n",
    "        {'pedigree': {'true_as_of_secs': 1234567890},\n",
    "           'dataunit': {'person_property': {'id': {'person_id': 'balaji'},\n",
    "                                    'property': {'desc': 'Howdy'}}},\n",
    "           },\n",
    "        {'pedigree': {'true_as_of_secs': 1234567890},\n",
    "           'dataunit': {'person_property': {'id': {'person_id': 'balaji'},\n",
    "                                    'property': {'name': 'Balaji Vijayan'}}},\n",
    "           },\n",
    "        {'pedigree': {'true_as_of_secs': 1234567890},\n",
    "           'dataunit': {'person_property': {'id': {'person_id': 'balaji'},\n",
    "                                    'property': {'phone': \"(555)555-5555\"}}},\n",
    "           },\n",
    "        {'pedigree': {'true_as_of_secs': 1234567892},\n",
    "           'dataunit': {'media_property': {'id': {'media_id': 1},\n",
    "                                    'property': {'url': 'http://amazon.com'}}},\n",
    "           },\n",
    "        {'pedigree': {'true_as_of_secs': 1234567892},\n",
    "           'dataunit': {'media_property': {'id': {'media_id': 1},\n",
    "                                    'property': {'desc': 'So #blessed'}}},\n",
    "           },\n",
    "        {'pedigree': {'true_as_of_secs': 1234567892},\n",
    "           'dataunit': {'media_property': {'id': {'media_id': 1},\n",
    "                                    'property': {'type': False}}},\n",
    "           },\n",
    "        {\"pedigree\": {'true_as_of_secs': 1234567894},\n",
    "           \"dataunit\": {\"hashtag_property\": {\"id\": {\"hashtag_id\": \"#blessed\"},\n",
    "                                            \"property\": {\"searchcount\": 100}}}\n",
    "           },\n",
    "        {\"pedigree\": {\"true_as_of_secs\": 1234567893},\n",
    "           \"dataunit\": {\"friends\": {\"id1\": {\"person_id\": \"balaji\"},\n",
    "                                  \"id2\": {\"person_id\": \"jones\"}}},\n",
    "           },\n",
    "        {\"pedigree\": {'true_as_of_secs': 1234567895},\n",
    "           \"dataunit\": {\"searches\": {\"id1\": {\"person_id\": \"balaji\"},\n",
    "                                  \"id2\": {\"hashtag_id\": \"#blessed\"}}},\n",
    "           },\n",
    "        {\"pedigree\": {'true_as_of_secs': 1234567896},\n",
    "           \"dataunit\": {\"likes\": {\"id1\": {\"person_id\": \"jones\"},\n",
    "                                  \"id2\": {\"media_id\": 1}}},\n",
    "           },\n",
    "        {\"pedigree\": {'true_as_of_secs': 1234567897},\n",
    "           \"dataunit\": {\"contains\": {\"id1\": {\"media_id\": 1},\n",
    "                                  \"id2\": {\"hashtag_id\": \"#blessed\"}}},\n",
    "           }]"
   ]
  },
  {
   "cell_type": "code",
   "execution_count": 217,
   "metadata": {
    "collapsed": false
   },
   "outputs": [
    {
     "name": "stdout",
     "output_type": "stream",
     "text": [
      "[{'dataunit': {'person_property': {'property': {'website': 'http://google.com'}, 'id': {'person_id': 'balaji'}}}, 'pedigree': {'true_as_of_secs': 1234567890}}, {'dataunit': {'person_property': {'property': {'email': 'balaji.k.vijayan@gmail.com'}, 'id': {'person_id': 'balaji'}}}, 'pedigree': {'true_as_of_secs': 1234567890}}, {'dataunit': {'person_property': {'property': {'desc': 'Howdy'}, 'id': {'person_id': 'balaji'}}}, 'pedigree': {'true_as_of_secs': 1234567890}}, {'dataunit': {'person_property': {'property': {'name': 'Balaji Vijayan'}, 'id': {'person_id': 'balaji'}}}, 'pedigree': {'true_as_of_secs': 1234567890}}, {'dataunit': {'person_property': {'property': {'phone': '(555)555-5555'}, 'id': {'person_id': 'balaji'}}}, 'pedigree': {'true_as_of_secs': 1234567890}}, {'dataunit': {'media_property': {'property': {'url': 'http://amazon.com'}, 'id': {'media_id': 1}}}, 'pedigree': {'true_as_of_secs': 1234567892}}, {'dataunit': {'media_property': {'property': {'desc': 'So #blessed'}, 'id': {'media_id': 1}}}, 'pedigree': {'true_as_of_secs': 1234567892}}, {'dataunit': {'media_property': {'property': {'type': False}, 'id': {'media_id': 1}}}, 'pedigree': {'true_as_of_secs': 1234567892}}, {'dataunit': {'hashtag_property': {'property': {'searchcount': 100}, 'id': {'hashtag_id': '#blessed'}}}, 'pedigree': {'true_as_of_secs': 1234567894}}, {'dataunit': {'friends': {'id2': {'person_id': 'jones'}, 'id1': {'person_id': 'balaji'}}}, 'pedigree': {'true_as_of_secs': 1234567893}}, {'dataunit': {'searches': {'id2': {'hashtag_id': '#blessed'}, 'id1': {'person_id': 'balaji'}}}, 'pedigree': {'true_as_of_secs': 1234567895}}, {'dataunit': {'likes': {'id2': {'media_id': 1}, 'id1': {'person_id': 'jones'}}}, 'pedigree': {'true_as_of_secs': 1234567896}}, {'dataunit': {'contains': {'id2': {'hashtag_id': '#blessed'}, 'id1': {'media_id': 1}}}, 'pedigree': {'true_as_of_secs': 1234567897}}]\n"
     ]
    }
   ],
   "source": [
    "print data"
   ]
  },
  {
   "cell_type": "code",
   "execution_count": 235,
   "metadata": {
    "collapsed": false
   },
   "outputs": [],
   "source": [
    "import copy, pprint, time, math, random, string\n",
    "\n",
    "#data gen\n",
    "def datagenerator(n):\n",
    "\n",
    "    for i in xrange(0, n):\n",
    "        #creating random data\n",
    "        datacopy = copy.deepcopy(data)\n",
    "        \n",
    "        #person data\n",
    "        person_id = ''.join(random.SystemRandom().choice(string.ascii_lowercase)\n",
    "            for _ in range(8))\n",
    "        person_id2 = ''.join(random.SystemRandom().choice(string.ascii_lowercase)\n",
    "            for _ in range(8))\n",
    "        website = r\"https://\"+''.join(random.SystemRandom().choice(\n",
    "            string.ascii_lowercase) for _ in range(6))+\".com\"\n",
    "        email = ''.join(random.SystemRandom().choice(string.ascii_lowercase)\n",
    "            for _ in range(6))+'@'+''.join(random.SystemRandom().choice(string.ascii_lowercase)\n",
    "            for _ in range(6))+'.com'\n",
    "        person_desc = ''.join(random.SystemRandom().choice(\n",
    "            string.ascii_lowercase) for _ in range(20))\n",
    "        name = random.SystemRandom().choice(string.ascii_uppercase)+\\\n",
    "            ''.join(random.SystemRandom().choice(string.ascii_lowercase)\n",
    "            for _ in range(6))\n",
    "        phone = ''.join([str(random.randint(0, 9)) for i in range(10)])\n",
    "        \n",
    "        #media data\n",
    "        media_id = random.randint(1,999)\n",
    "        url = r\"https://\"+''.join(random.SystemRandom().choice(\n",
    "            string.ascii_lowercase) for _ in range(6))+\".com\"\n",
    "        media_desc = ''.join(random.SystemRandom().choice(\n",
    "            string.ascii_lowercase) for _ in range(20))\n",
    "        media_type = bool(random.getrandbits(1))\n",
    "        \n",
    "        #hashtag data\n",
    "        hashtag_id = '#'+''.join(random.SystemRandom().choice(\n",
    "            string.ascii_lowercase) for _ in range(10))\n",
    "        searchcount = random.randint(1,9999)\n",
    "        \n",
    "        #updating data by list element then dict element\n",
    "        datacopy[0]['pedigree']['true_as_of_secs'] = int(math.floor(time.time()))\n",
    "        datacopy[0]['dataunit']['person_property']['id']['person_id'] = person_id\n",
    "        datacopy[0]['dataunit']['person_property']['property']['website'] = \\\n",
    "            website\n",
    "\n",
    "        datacopy[1]['pedigree']['true_as_of_secs'] = int(math.floor(time.time()))\n",
    "        datacopy[1]['dataunit']['person_property']['id']['person_id'] = person_id\n",
    "        datacopy[1]['dataunit']['person_property']['property']['email'] = email\n",
    "\n",
    "        datacopy[2]['pedigree']['true_as_of_secs'] = int(math.floor(time.time()))\n",
    "        datacopy[2]['dataunit']['person_property']['id']['person_id'] = person_id\n",
    "        datacopy[2]['dataunit']['person_property']['property']['desc'] = person_desc\n",
    "\n",
    "        datacopy[3]['pedigree']['true_as_of_secs'] = int(math.floor(time.time()))\n",
    "        datacopy[3]['dataunit']['person_property']['id']['person_id'] = person_id\n",
    "        datacopy[3]['dataunit']['person_property']['property']['name'] = name\n",
    "        \n",
    "        datacopy[4]['pedigree']['true_as_of_secs'] = int(math.floor(time.time()))\n",
    "        datacopy[4]['dataunit']['person_property']['id']['person_id'] = person_id\n",
    "        datacopy[4]['dataunit']['person_property']['property']['phone'] = phone\n",
    "\n",
    "        datacopy[5]['pedigree']['true_as_of_secs'] = int(math.floor(time.time()))\n",
    "        datacopy[5]['dataunit']['media_property']['id']['media_id'] = media_id\n",
    "        datacopy[5]['dataunit']['media_property']['property']['url'] = url\n",
    "            \n",
    "        datacopy[6]['pedigree']['true_as_of_secs'] = int(math.floor(time.time()))\n",
    "        datacopy[6]['dataunit']['media_property']['id']['media_id'] = media_id\n",
    "        datacopy[6]['dataunit']['media_property']['property']['desc'] = media_desc\n",
    "        \n",
    "        datacopy[7]['pedigree']['true_as_of_secs'] = int(math.floor(time.time()))\n",
    "        datacopy[7]['dataunit']['media_property']['id']['media_id'] = media_id\n",
    "        datacopy[7]['dataunit']['media_property']['property']['type'] = media_type\n",
    "        \n",
    "        datacopy[8]['pedigree']['true_as_of_secs'] = int(math.floor(time.time()))\n",
    "        datacopy[8]['dataunit']['hashtag_property']['id']['hashtag_id'] = hashtag_id\n",
    "        datacopy[8]['dataunit']['hashtag_property']['property']['searchcount'] = searchcount\n",
    "        \n",
    "        datacopy[9]['pedigree']['true_as_of_secs'] = int(math.floor(time.time()))\n",
    "        datacopy[9]['dataunit']['friends']['id1']['person_id'] = person_id\n",
    "        datacopy[9]['dataunit']['friends']['id2']['person_id'] = person_id2\n",
    "            \n",
    "        datacopy[10]['pedigree']['true_as_of_secs'] = int(math.floor(time.time()))\n",
    "        datacopy[10]['dataunit']['searches']['id1']['person_id'] = person_id\n",
    "        datacopy[10]['dataunit']['searches']['id2']['hashtag_id'] = hashtag_id\n",
    "        \n",
    "        datacopy[11]['pedigree']['true_as_of_secs'] = int(math.floor(time.time()))\n",
    "        datacopy[11]['dataunit']['likes']['id1']['person_id'] = person_id\n",
    "        datacopy[11]['dataunit']['likes']['id2']['media_id'] = media_id\n",
    "        \n",
    "        datacopy[12]['pedigree']['true_as_of_secs'] = int(math.floor(time.time()))\n",
    "        datacopy[12]['dataunit']['contains']['id1']['media_id'] = media_id\n",
    "        datacopy[12]['dataunit']['contains']['id2']['hashtag_id'] = hashtag_id\n",
    "        \n",
    "        yield datacopy"
   ]
  },
  {
   "cell_type": "markdown",
   "metadata": {},
   "source": [
    "Write a generator that will yield `n` data and validate it against the schema below:"
   ]
  },
  {
   "cell_type": "code",
   "execution_count": 236,
   "metadata": {
    "collapsed": false
   },
   "outputs": [
    {
     "name": "stdout",
     "output_type": "stream",
     "text": [
      "Overwriting mygramschema.avsc\n"
     ]
    }
   ],
   "source": [
    "%%writefile mygramschema.avsc\n",
    "[\n",
    "    {\n",
    "        \"namespace\": \"analytics.avro\",\n",
    "        \"type\": \"record\",\n",
    "        \"name\": \"Pedigree\",\n",
    "        \"fields\": [{\"name\": \"true_as_of_secs\", \"type\": \"int\"}]\n",
    "    },\n",
    "    {\n",
    "        \"namespace\": \"analytics.avro\",\n",
    "        \"type\": \"record\",\n",
    "        \"name\": \"PersonID\",\n",
    "        \"fields\": [{\"name\": \"person_id\", \"type\": \"string\"}]\n",
    "    },\n",
    "    {\n",
    "        \"namespace\": \"analytics.avro\",\n",
    "        \"type\": \"record\",\n",
    "        \"name\": \"MediaID\",\n",
    "        \"fields\": [{\"name\": \"media_id\", \"type\": \"int\"}]\n",
    "    },\n",
    "    {\n",
    "        \"namespace\": \"analytics.avro\",\n",
    "        \"type\": \"record\",\n",
    "        \"name\": \"HashtagID\",\n",
    "        \"fields\": [{\"name\": \"hashtag_id\", \"type\": \"string\"}]\n",
    "    },\n",
    "    {\n",
    "        \"namespace\": \"analytics.avro\",\n",
    "        \"type\": \"record\",\n",
    "        \"name\": \"PersonProperty\",\n",
    "        \"fields\": [\n",
    "            {\n",
    "                \"name\": \"id\",\n",
    "                \"type\": \"PersonID\"\n",
    "            },\n",
    "            {\n",
    "                \"name\": \"property\",\n",
    "                \"type\": [\n",
    "                    {\n",
    "                        \"type\": \"record\",\n",
    "                        \"name\": \"PersonPropertyValue1\",\n",
    "                        \"fields\": [{\"name\": \"website\", \"type\": [\"string\"]}]\n",
    "                    },\n",
    "                    {\n",
    "                        \"type\": \"record\",\n",
    "                        \"name\": \"PersonPropertyValue2\",\n",
    "                        \"fields\": [{\"name\": \"email\", \"type\": [\"string\"]}]\n",
    "                    },\n",
    "                    {\n",
    "                        \"type\": \"record\",\n",
    "                        \"name\": \"PersonPropertyValue3\",\n",
    "                        \"fields\": [{\"name\": \"desc\", \"type\": [\"string\"]}]\n",
    "                    },\n",
    "                    {\n",
    "                        \"type\": \"record\",\n",
    "                        \"name\": \"PersonPropertyValue4\",\n",
    "                        \"fields\": [{\"name\": \"name\", \"type\": [\"string\"]}]\n",
    "                    },\n",
    "                    {\n",
    "                        \"type\": \"record\",\n",
    "                        \"name\": \"PersonPropertyValue5\",\n",
    "                        \"fields\": [{\"name\": \"phone\", \"type\": [\"string\"]}]\n",
    "                    }\n",
    "                ]\n",
    "            }\n",
    "        ]\n",
    "    },\n",
    "    {\n",
    "        \"namespace\": \"analytics.avro\",\n",
    "        \"type\": \"record\",\n",
    "        \"name\": \"MediaProperty\",\n",
    "        \"fields\": [\n",
    "            {\n",
    "                \"name\": \"id\",\n",
    "                \"type\": \"MediaID\"\n",
    "            },\n",
    "            {\n",
    "                \"name\": \"property\",\n",
    "                \"type\": [\n",
    "                    {\n",
    "                        \"type\": \"record\",\n",
    "                        \"name\": \"MediaPropertyValue1\",\n",
    "                        \"fields\": [{\"name\": \"url\", \"type\": [\"string\"]}]\n",
    "                    },\n",
    "                    {\n",
    "                        \"type\": \"record\",\n",
    "                        \"name\": \"MediaPropertyValue2\",\n",
    "                        \"fields\": [{\"name\": \"desc\", \"type\": [\"string\"]}]\n",
    "                    },\n",
    "                    {\n",
    "                        \"type\": \"record\",\n",
    "                        \"name\": \"MediaPropertyValue3\",\n",
    "                        \"fields\": [{\"name\": \"type\", \"type\": \"boolean\"}]\n",
    "                    }\n",
    "                ]\n",
    "            }\n",
    "        ]\n",
    "    },\n",
    "    {\n",
    "        \"namespace\": \"analytics.avro\",\n",
    "        \"type\": \"record\",\n",
    "        \"name\": \"HashtagProperty\",\n",
    "        \"fields\": [\n",
    "            {\n",
    "                \"name\": \"id\",\n",
    "                \"type\": \"HashtagID\"\n",
    "            },\n",
    "            {\n",
    "                \"name\": \"property\",\n",
    "                \"type\": [\n",
    "                    {\n",
    "                        \"type\": \"record\",\n",
    "                        \"name\": \"HashtagPropertyValue1\",\n",
    "                        \"fields\": [{\"name\": \"searchcount\", \"type\": [\"int\"]}]\n",
    "                    }\n",
    "                ]\n",
    "            }\n",
    "        ]\n",
    "    },\n",
    "    {\n",
    "        \"namespace\": \"analytics.avro\",\n",
    "        \"type\": \"record\",\n",
    "        \"name\": \"FriendsEdge\",\n",
    "        \"fields\": [\n",
    "            {\"name\": \"id1\", \"type\": \"PersonID\"},\n",
    "            {\"name\": \"id2\", \"type\": \"PersonID\"}\n",
    "        ]\n",
    "    },\n",
    "    {\n",
    "        \"namespace\": \"analytics.avro\",\n",
    "        \"type\": \"record\",\n",
    "        \"name\": \"SearchesEdge\",\n",
    "        \"fields\": [\n",
    "            {\"name\": \"id1\", \"type\": \"PersonID\"},\n",
    "            {\"name\": \"id2\", \"type\": \"HashtagID\"}\n",
    "        ]\n",
    "    },\n",
    "    {\n",
    "        \"namespace\": \"analytics.avro\",\n",
    "        \"type\": \"record\",\n",
    "        \"name\": \"LikesEdge\",\n",
    "        \"fields\": [\n",
    "            {\"name\": \"id1\", \"type\": \"PersonID\"},\n",
    "            {\"name\": \"id2\", \"type\": \"MediaID\"}\n",
    "        ]\n",
    "    },\n",
    "    {\n",
    "        \"namespace\": \"analytics.avro\",\n",
    "        \"type\": \"record\",\n",
    "        \"name\": \"ContainsEdge\",\n",
    "        \"fields\": [\n",
    "            {\"name\": \"id1\", \"type\": \"MediaID\"},\n",
    "            {\"name\": \"id2\", \"type\": \"HashtagID\"}\n",
    "        ]\n",
    "    },\n",
    "    {\n",
    "        \"namespace\": \"analytics.avro\",\n",
    "        \"type\": \"record\",\n",
    "        \"name\": \"Data\",\n",
    "        \"fields\": [\n",
    "            {\n",
    "                \"name\": \"pedigree\",\n",
    "                \"type\": \"Pedigree\"\n",
    "            },\n",
    "\n",
    "            \n",
    "            {\n",
    "                \"name\": \"dataunit\",\n",
    "                \"type\": [\n",
    "                    {\n",
    "                        \"type\": \"record\",\n",
    "                        \"name\": \"DataUnit1\",\n",
    "                        \"fields\": [{\"name\": \"person_property\", \"type\": \"PersonProperty\"}]\n",
    "                    },\n",
    "                    {\n",
    "                        \"type\": \"record\",\n",
    "                        \"name\": \"DataUnit2\",\n",
    "                        \"fields\": [{\"name\": \"media_property\", \"type\": \"MediaProperty\"}]\n",
    "                    },\n",
    "                    {\n",
    "                        \"type\": \"record\",\n",
    "                        \"name\": \"DataUnit3\",\n",
    "                        \"fields\": [{\"name\": \"hashtag_property\", \"type\": \"HashtagProperty\"}]\n",
    "                    },\n",
    "                    {\n",
    "                        \"type\": \"record\",\n",
    "                        \"name\": \"DataUnit4\",\n",
    "                        \"fields\": [{\"name\": \"friends\", \"type\": \"FriendsEdge\"}]\n",
    "                    },\n",
    "                    {\n",
    "                        \"type\": \"record\",\n",
    "                        \"name\": \"DataUnit5\",\n",
    "                        \"fields\": [{\"name\": \"searches\", \"type\": \"SearchesEdge\"}]\n",
    "                    },\n",
    "                    {\n",
    "                        \"type\": \"record\",\n",
    "                        \"name\": \"DataUnit6\",\n",
    "                        \"fields\": [{\"name\": \"likes\", \"type\": \"LikesEdge\"}]\n",
    "                    },\n",
    "                    {\n",
    "                        \"type\": \"record\",\n",
    "                        \"name\": \"DataUnit7\",\n",
    "                        \"fields\": [{\"name\": \"contains\", \"type\": \"ContainsEdge\"}]\n",
    "                    }\n",
    "                ]\n",
    "            }\n",
    "        ]\n",
    "    }\n",
    "]"
   ]
  },
  {
   "cell_type": "code",
   "execution_count": 237,
   "metadata": {
    "collapsed": false,
    "scrolled": false
   },
   "outputs": [],
   "source": [
    "schema = avro.schema.parse(open(\"mygramschema.avsc\").read())\n",
    "def test_good_data(datum, schema=schema):\n",
    "    return avro.io.validate(schema, datum)"
   ]
  },
  {
   "cell_type": "code",
   "execution_count": 238,
   "metadata": {
    "collapsed": false
   },
   "outputs": [
    {
     "name": "stdout",
     "output_type": "stream",
     "text": [
      "[True, True, True, True, True, True, True, True, True, True, True, True, True]\n"
     ]
    }
   ],
   "source": [
    "print map(test_good_data, data)\n",
    "# print len(data)"
   ]
  },
  {
   "cell_type": "code",
   "execution_count": 247,
   "metadata": {
    "collapsed": false
   },
   "outputs": [
    {
     "name": "stdout",
     "output_type": "stream",
     "text": [
      "[{'dataunit': {'person_property': {'property': {'website': 'https://aeogiz.com'}, 'id': {'person_id': 'hzemskzw'}}}, 'pedigree': {'true_as_of_secs': 1442873992}}, {'dataunit': {'person_property': {'property': {'email': 'buamak@jhcmoo.com'}, 'id': {'person_id': 'hzemskzw'}}}, 'pedigree': {'true_as_of_secs': 1442873992}}, {'dataunit': {'person_property': {'property': {'desc': 'sxmzdvjonedeisthxmig'}, 'id': {'person_id': 'hzemskzw'}}}, 'pedigree': {'true_as_of_secs': 1442873992}}, {'dataunit': {'person_property': {'property': {'name': 'Plcqgud'}, 'id': {'person_id': 'hzemskzw'}}}, 'pedigree': {'true_as_of_secs': 1442873992}}, {'dataunit': {'person_property': {'property': {'phone': '7646043549'}, 'id': {'person_id': 'hzemskzw'}}}, 'pedigree': {'true_as_of_secs': 1442873992}}, {'dataunit': {'media_property': {'property': {'url': 'https://dycbzg.com'}, 'id': {'media_id': 899}}}, 'pedigree': {'true_as_of_secs': 1442873992}}, {'dataunit': {'media_property': {'property': {'desc': 'wvkzkdzoqfkrneircswl'}, 'id': {'media_id': 899}}}, 'pedigree': {'true_as_of_secs': 1442873992}}, {'dataunit': {'media_property': {'property': {'type': True}, 'id': {'media_id': 899}}}, 'pedigree': {'true_as_of_secs': 1442873992}}, {'dataunit': {'hashtag_property': {'property': {'searchcount': 6403}, 'id': {'hashtag_id': '#abegjaytbf'}}}, 'pedigree': {'true_as_of_secs': 1442873992}}, {'dataunit': {'friends': {'id2': {'person_id': 'lxmqarea'}, 'id1': {'person_id': 'hzemskzw'}}}, 'pedigree': {'true_as_of_secs': 1442873992}}, {'dataunit': {'searches': {'id2': {'hashtag_id': '#abegjaytbf'}, 'id1': {'person_id': 'hzemskzw'}}}, 'pedigree': {'true_as_of_secs': 1442873992}}, {'dataunit': {'likes': {'id2': {'media_id': 899}, 'id1': {'person_id': 'hzemskzw'}}}, 'pedigree': {'true_as_of_secs': 1442873992}}, {'dataunit': {'contains': {'id2': {'hashtag_id': '#abegjaytbf'}, 'id1': {'media_id': 899}}}, 'pedigree': {'true_as_of_secs': 1442873992}}]\n",
      "\n",
      "[True, True, True, True, True, True, True, True, True, True, True, True, True]\n"
     ]
    }
   ],
   "source": [
    "newdata = datagenerator(10)\n",
    "testing = newdata.next()\n",
    "print testing\n",
    "print\n",
    "print map(test_good_data, testing)"
   ]
  },
  {
   "cell_type": "code",
   "execution_count": 244,
   "metadata": {
    "collapsed": true
   },
   "outputs": [],
   "source": [
    "import json\n",
    "with open('test.json', 'w') as outfile:\n",
    "    json.dump(data, outfile)"
   ]
  },
  {
   "cell_type": "markdown",
   "metadata": {},
   "source": [
    "### 3. Extend the Schema"
   ]
  },
  {
   "cell_type": "markdown",
   "metadata": {},
   "source": [
    "#### a) Allow a new person property called age which accepts integers  \n",
    "1. Add this to your generator (these data should fail validation)\n",
    "2. Adjust your schema to allow these new data.\n",
    "3. Invent negative examples to make sure your schema is not too permissive."
   ]
  },
  {
   "cell_type": "markdown",
   "metadata": {},
   "source": [
    "#### b) Allow links between pages\n",
    "1. Add this to your generator (these data should fail validation)\n",
    "2. Adjust your schema to allow these new data.\n",
    "3. Invent negative examples to make sure your schema is not too permissive."
   ]
  },
  {
   "cell_type": "markdown",
   "metadata": {},
   "source": [
    "On Your Own\n",
    "------------\n",
    "Define a fact-based graph schema based on the system you described yesterday.\n",
    "1. Use [Gliffy](https://www.gliffy.com/) to map it out.\n",
    "2. Write sample data and tests to see if your sample data fits. *Also generate examples that should fail.*\n",
    "3. Use [Avro](http://avro.apache.org/docs/current/index.html) to define your schema and test it"
   ]
  }
 ],
 "metadata": {
  "kernelspec": {
   "display_name": "Python 2",
   "language": "python",
   "name": "python2"
  },
  "language_info": {
   "codemirror_mode": {
    "name": "ipython",
    "version": 2
   },
   "file_extension": ".py",
   "mimetype": "text/x-python",
   "name": "python",
   "nbconvert_exporter": "python",
   "pygments_lexer": "ipython2",
   "version": "2.7.9"
  }
 },
 "nbformat": 4,
 "nbformat_minor": 0
}
