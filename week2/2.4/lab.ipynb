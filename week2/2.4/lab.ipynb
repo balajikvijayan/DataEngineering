{
 "cells": [
  {
   "cell_type": "markdown",
   "metadata": {},
   "source": [
    "Lab\n",
    "===\n",
    "In Pairs\n",
    "------------\n",
    "### 1. Work through the getting started guide at http://avro.apache.org/docs/current/gettingstartedpython.html"
   ]
  },
  {
   "cell_type": "code",
   "execution_count": 1,
   "metadata": {
    "collapsed": true
   },
   "outputs": [],
   "source": [
    "import avro.io\n",
    "import avro.schema\n",
    "from avro.datafile import DataFileReader, DataFileWriter\n",
    "from avro.io import DatumReader, DatumWriter"
   ]
  },
  {
   "cell_type": "code",
   "execution_count": null,
   "metadata": {
    "collapsed": true
   },
   "outputs": [],
   "source": []
  },
  {
   "cell_type": "markdown",
   "metadata": {
    "collapsed": true
   },
   "source": [
    "### 2. Generate sample data\n",
    "Consider the following data:"
   ]
  },
  {
   "cell_type": "code",
   "execution_count": 4,
   "metadata": {
    "collapsed": true
   },
   "outputs": [],
   "source": [
    "data = [{'pedigree': {'true_as_of_secs': 1234567890},\n",
    "           'dataunit': {'page_property': {'id': {'url': 'http://mysite.com/'},\n",
    "                                    'property': {'page_views': 1}}},\n",
    "           },\n",
    "        {\"pedigree\": {\"true_as_of_secs\": 1234567891},\n",
    "           \"dataunit\": {\"equiv\": {\"id1\": {\"cookie\": \"ABCDE\"},\n",
    "                                  \"id2\": {\"user_id\": 123}}},\n",
    "           },\n",
    "        {\"pedigree\": {\"true_as_of_secs\": 1234567892},\n",
    "           \"dataunit\": {\"page_view\": {\"person\": {\"cookie\": \"ABCDE\"},\n",
    "                                      \"page\": {\"url\": \"http://mysite.com/\"},\n",
    "                                      \"nonce\": 1234567890987654321}}\n",
    "           },\n",
    "        {\"pedigree\": {'true_as_of_secs': 1234567893},\n",
    "           \"dataunit\": {\"person_property\": {\"id\": {\"cookie\": \"ABCDE\"},\n",
    "                                            \"property\": {\"full_name\": \"Alessandro\"}}}\n",
    "           },\n",
    "        {\"pedigree\": {'true_as_of_secs': 1234567894},\n",
    "           \"dataunit\": {\"person_property\": {\"id\": {\"user_id\": 123},\n",
    "                                            \"property\": {\"gender\": \"MALE\"}}}\n",
    "           },\n",
    "        {\"pedigree\": {'true_as_of_secs': 1234567895},\n",
    "           \"dataunit\": {\"person_property\": {\"id\": {\"user_id\": 123},\n",
    "                                            \"property\": {\"location\": {\"city\" : \"San Francisco\", \n",
    "                                                                      \"state\": \"CA\"}}}}\n",
    "           }]"
   ]
  },
  {
   "cell_type": "markdown",
   "metadata": {},
   "source": [
    "Write a generator that will yield `n` data and validate it against the schema below:"
   ]
  },
  {
   "cell_type": "code",
   "execution_count": 2,
   "metadata": {
    "collapsed": false
   },
   "outputs": [
    {
     "name": "stdout",
     "output_type": "stream",
     "text": [
      "Overwriting schema.avsc\n"
     ]
    }
   ],
   "source": [
    "%%writefile schema.avsc\n",
    "[\n",
    "    {\n",
    "        \"namespace\": \"analytics.avro\",\n",
    "        \"type\": \"record\",\n",
    "        \"name\": \"Pedigree\",\n",
    "        \"fields\": [{\"name\": \"true_as_of_secs\", \"type\": \"int\"}]\n",
    "    },\n",
    "    {\n",
    "        \"namespace\": \"analytics.avro\",\n",
    "        \"type\": \"record\",\n",
    "        \"name\": \"PersonID1\",\n",
    "        \"fields\": [{\"name\": \"cookie\", \"type\": \"string\"}]\n",
    "    },\n",
    "    {\n",
    "        \"namespace\": \"analytics.avro\",\n",
    "        \"type\": \"record\",\n",
    "        \"name\": \"PersonID2\",\n",
    "        \"fields\": [{\"name\": \"user_id\", \"type\": \"long\"}]\n",
    "    },\n",
    "    {\n",
    "        \"namespace\": \"analytics.avro\",\n",
    "        \"type\": \"record\",\n",
    "        \"name\": \"PageID\",\n",
    "        \"fields\": [{\"name\": \"url\", \"type\": \"string\"}]\n",
    "    },\n",
    "    {\n",
    "        \"namespace\": \"analytics.avro\",\n",
    "        \"type\": \"record\",\n",
    "        \"name\": \"PageProperty\",\n",
    "        \"fields\": [\n",
    "            {\n",
    "                \"name\": \"id\",\n",
    "                \"type\": \"PageID\"\n",
    "            },\n",
    "            {\n",
    "                \"name\": \"property\",\n",
    "                \"type\": {\n",
    "                    \"type\": \"record\",\n",
    "                    \"name\": \"PagePropertyValue\",\n",
    "                    \"fields\": [{\"name\": \"page_views\", \"type\": \"int\"}]\n",
    "                }\n",
    "            }\n",
    "        ]\n",
    "    },\n",
    "    {\n",
    "        \"namespace\": \"analytics.avro\",\n",
    "        \"type\": \"record\",\n",
    "        \"name\": \"PersonProperty\",\n",
    "        \"fields\": [\n",
    "            {\n",
    "                \"name\": \"id\",\n",
    "                \"type\": [\n",
    "                    \"PersonID1\",\n",
    "                    \"PersonID2\"\n",
    "                ]\n",
    "            },\n",
    "            {\n",
    "                \"name\": \"property\",\n",
    "                \"type\": [\n",
    "                    {\n",
    "                        \"type\": \"record\",\n",
    "                        \"name\": \"PersonPropertyValue1\",\n",
    "                        \"fields\": [{\"name\": \"full_name\", \"type\": \"string\"}]\n",
    "                    },\n",
    "                    {\n",
    "                        \"type\": \"record\",\n",
    "                        \"name\": \"PersonPropertyValue2\",\n",
    "                        \"fields\": [\n",
    "                            {\n",
    "                                \"name\": \"gender\", \n",
    "                                \"type\": {\n",
    "                                    \"type\": \"enum\",\n",
    "                                    \"name\": \"GenderType\",\n",
    "                                    \"symbols\": [\"MALE\", \"FEMALE\"]\n",
    "                                }\n",
    "                            }\n",
    "                        ]\n",
    "                    },\n",
    "                    {\n",
    "                        \"type\": \"record\",\n",
    "                        \"name\": \"PersonPropertyValue3\",\n",
    "                        \"fields\": [\n",
    "                            {\n",
    "                                \"name\": \"location\", \n",
    "                                \"type\": {\n",
    "                                    \"type\": \"record\",\n",
    "                                    \"name\": \"Location\",\n",
    "                                    \"fields\": [\n",
    "                                        {\"name\": \"city\", \"type\": [\"string\", \"null\"]},\n",
    "                                        {\"name\": \"state\", \"type\": [\"string\", \"null\"]},\n",
    "                                        {\"name\": \"country\", \"type\": [ \"string\",\"null\"]}\n",
    "                                    ]\n",
    "                                }\n",
    "                            }\n",
    "                        ]\n",
    "                    }\n",
    "                ]\n",
    "            }\n",
    "        ]\n",
    "    },\n",
    "    {\n",
    "        \"namespace\": \"analytics.avro\",\n",
    "        \"type\": \"record\",\n",
    "        \"name\": \"EquivEdge\",\n",
    "        \"fields\": [\n",
    "            {\"name\": \"id1\", \"type\": [\"PersonID1\", \"PersonID2\"]},\n",
    "            {\"name\": \"id2\", \"type\": [\"PersonID1\", \"PersonID2\"]}\n",
    "        ]\n",
    "    },\n",
    "    {\n",
    "        \"namespace\": \"analytics.avro\",\n",
    "        \"type\": \"record\",\n",
    "        \"name\": \"PageViewEdge\",\n",
    "        \"fields\": [\n",
    "            {\"name\": \"person\", \"type\": [\"PersonID1\", \"PersonID2\"]},\n",
    "            {\"name\": \"page\", \"type\": \"PageID\"},\n",
    "            {\"name\": \"nonce\", \"type\": \"long\"}\n",
    "        ]\n",
    "    },\n",
    "    {\n",
    "        \"namespace\": \"analytics.avro\",\n",
    "        \"type\": \"record\",\n",
    "        \"name\": \"Data\",\n",
    "        \"fields\": [\n",
    "            {\n",
    "                \"name\": \"pedigree\",\n",
    "                \"type\": \"Pedigree\"\n",
    "            },\n",
    "            {\n",
    "                \"name\": \"dataunit\",\n",
    "                \"type\": [\n",
    "                    {\n",
    "                        \"type\": \"record\",\n",
    "                        \"name\": \"DataUnit1\",\n",
    "                        \"fields\": [{\"name\": \"person_property\", \"type\": \"PersonProperty\"}]\n",
    "                    },\n",
    "                    {\n",
    "                        \"type\": \"record\",\n",
    "                        \"name\": \"DataUnit2\",\n",
    "                        \"fields\": [{\"name\": \"page_property\", \"type\": \"PageProperty\"}]\n",
    "                    },\n",
    "                    {\n",
    "                        \"type\": \"record\",\n",
    "                        \"name\": \"DataUnit3\",\n",
    "                        \"fields\": [{\"name\": \"equiv\", \"type\": \"EquivEdge\"}]\n",
    "                    },\n",
    "                    {\n",
    "                        \"type\": \"record\",\n",
    "                        \"name\": \"DataUnit4\",\n",
    "                        \"fields\": [{\"name\": \"page_view\", \"type\": \"PageViewEdge\"}]\n",
    "                    }\n",
    "                ]\n",
    "            }\n",
    "        ]\n",
    "    }\n",
    "]"
   ]
  },
  {
   "cell_type": "code",
   "execution_count": 3,
   "metadata": {
    "collapsed": false
   },
   "outputs": [],
   "source": [
    "schema = avro.schema.parse(open(\"schema.avsc\").read())"
   ]
  },
  {
   "cell_type": "code",
   "execution_count": 5,
   "metadata": {
    "collapsed": true
   },
   "outputs": [],
   "source": [
    "def test_good_data(datum, schema=schema):\n",
    "    return avro.io.validate(schema, datum)"
   ]
  },
  {
   "cell_type": "code",
   "execution_count": 6,
   "metadata": {
    "collapsed": false
   },
   "outputs": [
    {
     "data": {
      "text/plain": [
       "[True, True, True, True, True, True]"
      ]
     },
     "execution_count": 6,
     "metadata": {},
     "output_type": "execute_result"
    }
   ],
   "source": [
    "map(test_good_data, gooddata)"
   ]
  },
  {
   "cell_type": "markdown",
   "metadata": {},
   "source": []
  },
  {
   "cell_type": "markdown",
   "metadata": {},
   "source": [
    "### 3. Extend the Schema"
   ]
  },
  {
   "cell_type": "markdown",
   "metadata": {},
   "source": [
    "#### a) Allow a new person property called age which accepts integers  \n",
    "1. Add this to your generator (these data should fail validation)\n",
    "2. Adjust your schema to allow these new data.\n",
    "3. Invent negative examples to make sure your schema is not too permissive."
   ]
  },
  {
   "cell_type": "code",
   "execution_count": 7,
   "metadata": {
    "collapsed": true
   },
   "outputs": [],
   "source": [
    "age_example = {\"pedigree\": {'true_as_of_secs': 1234567896},\n",
    "               \"dataunit\": {\"person_property\": {\"id\": {\"user_id\": 9876543210},\n",
    "                                                \"property\": {\"age\": 23}}}\n",
    "               }"
   ]
  },
  {
   "cell_type": "code",
   "execution_count": 8,
   "metadata": {
    "collapsed": false
   },
   "outputs": [
    {
     "data": {
      "text/plain": [
       "False"
      ]
     },
     "execution_count": 8,
     "metadata": {},
     "output_type": "execute_result"
    }
   ],
   "source": [
    "avro.io.validate(schema, age_example)"
   ]
  },
  {
   "cell_type": "markdown",
   "metadata": {},
   "source": [
    "#### b) Allow links between pages\n",
    "1. Add this to your generator (these data should fail validation)\n",
    "2. Adjust your schema to allow these new data.\n",
    "3. Invent negative examples to make sure your schema is not too permissive."
   ]
  },
  {
   "cell_type": "code",
   "execution_count": 9,
   "metadata": {
    "collapsed": true
   },
   "outputs": [],
   "source": [
    "linked_edge_example = {\"pedigree\": {'true_as_of_secs': 1234567896},\n",
    "               \"dataunit\": {\"page_link\": {\"source\": \"http://mysite.com/blog\",\n",
    "                                          \"target\": \"http://mysite.com/\"}}\n",
    "               }"
   ]
  },
  {
   "cell_type": "code",
   "execution_count": 10,
   "metadata": {
    "collapsed": false
   },
   "outputs": [
    {
     "data": {
      "text/plain": [
       "False"
      ]
     },
     "execution_count": 10,
     "metadata": {},
     "output_type": "execute_result"
    }
   ],
   "source": [
    "avro.io.validate(schema, age_example)"
   ]
  },
  {
   "cell_type": "markdown",
   "metadata": {},
   "source": [
    "On Your Own\n",
    "------------\n",
    "Define a fact-based graph schema based on the system you described yesterday.\n",
    "1. Use [Gliffy](https://www.gliffy.com/) to map it out.\n",
    "2. Write sample data and tests to see if your sample data fits. *Also generate examples that should fail.*\n",
    "3. Use [Avro](http://avro.apache.org/docs/current/index.html) to define your schema and test it"
   ]
  },
  {
   "cell_type": "code",
   "execution_count": null,
   "metadata": {
    "collapsed": true
   },
   "outputs": [],
   "source": []
  },
  {
   "cell_type": "code",
   "execution_count": null,
   "metadata": {
    "collapsed": true
   },
   "outputs": [],
   "source": []
  },
  {
   "cell_type": "code",
   "execution_count": null,
   "metadata": {
    "collapsed": true
   },
   "outputs": [],
   "source": []
  }
 ],
 "metadata": {
  "kernelspec": {
   "display_name": "Python 2",
   "language": "python",
   "name": "python2"
  },
  "language_info": {
   "codemirror_mode": {
    "name": "ipython",
    "version": 2
   },
   "file_extension": ".py",
   "mimetype": "text/x-python",
   "name": "python",
   "nbconvert_exporter": "python",
   "pygments_lexer": "ipython2",
   "version": "2.7.10"
  }
 },
 "nbformat": 4,
 "nbformat_minor": 0
}
