{
 "cells": [
  {
   "cell_type": "markdown",
   "metadata": {},
   "source": [
    "Lab\n",
    "===\n",
    "In Pairs\n",
    "------------\n",
    "### 1. Work through the getting started guide at http://avro.apache.org/docs/current/gettingstartedpython.html"
   ]
  },
  {
   "cell_type": "code",
   "execution_count": 239,
   "metadata": {
    "collapsed": true
   },
   "outputs": [],
   "source": [
    "import avro.io\n",
    "import avro.schema\n",
    "from avro.datafile import DataFileReader, DataFileWriter\n",
    "from avro.io import DatumReader, DatumWriter"
   ]
  },
  {
   "cell_type": "markdown",
   "metadata": {
    "collapsed": true
   },
   "source": [
    "### 2. Generate sample data\n",
    "Consider the following data:"
   ]
  },
  {
   "cell_type": "code",
   "execution_count": 240,
   "metadata": {
    "collapsed": true
   },
   "outputs": [],
   "source": [
    "data = [{'pedigree': {'true_as_of_secs': 1234567890},\n",
    "           'dataunit': {'page_property': {'id': {'url': 'http://mysite.com/'},\n",
    "                                    'property': {'page_views': 1}}},\n",
    "           },\n",
    "        {\"pedigree\": {\"true_as_of_secs\": 1234567891},\n",
    "           \"dataunit\": {\"equiv\": {\"id1\": {\"cookie\": \"ABCDE\"},\n",
    "                                  \"id2\": {\"user_id\": 123}}},\n",
    "           },\n",
    "        {\"pedigree\": {\"true_as_of_secs\": 1234567892},\n",
    "           \"dataunit\": {\"page_view\": {\"person\": {\"cookie\": \"ABCDE\"},\n",
    "                                      \"page\": {\"url\": \"http://mysite.com/\"},\n",
    "                                      \"nonce\": 1234567890987654321}}\n",
    "           },\n",
    "        {\"pedigree\": {'true_as_of_secs': 1234567893},\n",
    "           \"dataunit\": {\"person_property\": {\"id\": {\"cookie\": \"ABCDE\"},\n",
    "                                            \"property\": {\"full_name\": \"Alessandro\"}}}\n",
    "           },\n",
    "        {\"pedigree\": {'true_as_of_secs': 1234567894},\n",
    "           \"dataunit\": {\"person_property\": {\"id\": {\"user_id\": 123},\n",
    "                                            \"property\": {\"gender\": \"MALE\"}}}\n",
    "           },\n",
    "        {\"pedigree\": {'true_as_of_secs': 1234567895},\n",
    "           \"dataunit\": {\"person_property\": {\"id\": {\"user_id\": 123},\n",
    "                                            \"property\": {\"location\": {\"city\" : \"San Francisco\", \n",
    "                                                                      \"state\": \"CA\"}}}}\n",
    "           },\n",
    "       {\"pedigree\": {'true_as_of_secs': 1234567896},\n",
    "               \"dataunit\": {\"person_property\": {\"id\": {\"user_id\": 9876543210},\n",
    "                                                \"property\": {\"age\": 23}}}\n",
    "               }]"
   ]
  },
  {
   "cell_type": "code",
   "execution_count": 241,
   "metadata": {
    "collapsed": false
   },
   "outputs": [],
   "source": [
    "import copy, pprint, time, math, random, string\n",
    "\n",
    "#data gen\n",
    "def datagenerator(n):\n",
    "\n",
    "    #lambda function to randomly assign gender\n",
    "    gender = lambda x: 'MALE' if x == 1 else 'FEMALE'\n",
    "\n",
    "    for i in xrange(0, n):\n",
    "        #creating random data\n",
    "        datacopy = copy.deepcopy(data)\n",
    "        URL = r\"https://\"+''.join(random.SystemRandom().choice(\n",
    "            string.ascii_lowercase) for _ in range(6))+\".com\"\n",
    "        cookie = ''.join(random.SystemRandom().choice(\n",
    "            string.ascii_uppercase) for _ in range(5))\n",
    "        userid = random.randint(100,999)\n",
    "        nonce = ''.join([str(random.randint(0, 9)) for i in range(19)])\n",
    "        name = random.SystemRandom().choice(string.ascii_uppercase)+\\\n",
    "            ''.join(random.SystemRandom().choice(string.ascii_lowercase)\n",
    "            for _ in range(6))\n",
    "        city = random.SystemRandom().choice(string.ascii_uppercase)+\\\n",
    "            ''.join(random.SystemRandom().choice(string.ascii_lowercase)\n",
    "            for _ in range(9))\n",
    "        state = ''.join(random.SystemRandom().choice(string.ascii_uppercase)\n",
    "            for _ in range(2))\n",
    "        age = int(''.join([str(random.randint(0, 9)) for i in range(2)]))\n",
    "        \n",
    "        #updating data by list element then dict element\n",
    "        datacopy[0]['pedigree']['true_as_of_secs'] = int(math.floor(time.time()))\n",
    "        datacopy[0]['dataunit']['page_property']['id']['url'] = URL\n",
    "        datacopy[0]['dataunit']['page_property']['property']['page_views'] = \\\n",
    "            random.randint(1,10)\n",
    "\n",
    "        datacopy[1]['pedigree']['true_as_of_secs'] = int(math.floor(time.time()))\n",
    "        datacopy[1]['dataunit']['equiv']['id1']['cookie'] = cookie\n",
    "        datacopy[1]['dataunit']['equiv']['id2']['user_id'] = userid\n",
    "\n",
    "        datacopy[2]['pedigree']['true_as_of_secs'] = int(math.floor(time.time()))\n",
    "        datacopy[2]['dataunit']['page_view']['page']['url'] = URL\n",
    "        datacopy[2]['dataunit']['page_view']['nonce'] = long(nonce)\n",
    "        datacopy[2]['dataunit']['page_view']['person']['cookie'] = cookie\n",
    "\n",
    "        datacopy[3]['pedigree']['true_as_of_secs'] = int(math.floor(time.time()))\n",
    "        datacopy[3]['dataunit']['person_property']['id']['cookie'] = cookie\n",
    "        datacopy[3]['dataunit']['person_property']['property']['full_name'] = \\\n",
    "            name\n",
    "\n",
    "        datacopy[4]['pedigree']['true_as_of_secs'] = int(math.floor(time.time())) \n",
    "        datacopy[4]['dataunit']['person_property']['id']['user_id'] = userid\n",
    "        datacopy[4]['dataunit']['person_property']['property']['gender'] = \\\n",
    "            gender(random.getrandbits(1))\n",
    "\n",
    "        datacopy[5]['pedigree']['true_as_of_secs'] = int(math.floor(time.time()))\n",
    "        datacopy[5]['dataunit']['person_property']['id']['user_id'] = userid\n",
    "        datacopy[5]['dataunit']['person_property']['property']['location']['city']\\\n",
    "            = city\n",
    "        datacopy[5]['dataunit']['person_property']['property']['location']['state']\\\n",
    "            = state\n",
    "            \n",
    "        datacopy[6]['pedigree']['true_as_of_secs'] = int(math.floor(time.time()))\n",
    "        datacopy[6]['dataunit']['person_property']['id']['user_id'] = userid\n",
    "        datacopy[6]['dataunit']['person_property']['property']['age'] = age\n",
    "            \n",
    "        yield datacopy"
   ]
  },
  {
   "cell_type": "markdown",
   "metadata": {},
   "source": [
    "Write a generator that will yield `n` data and validate it against the schema below:"
   ]
  },
  {
   "cell_type": "code",
   "execution_count": 258,
   "metadata": {
    "collapsed": false
   },
   "outputs": [
    {
     "name": "stdout",
     "output_type": "stream",
     "text": [
      "Overwriting schema.avsc\n"
     ]
    }
   ],
   "source": [
    "%%writefile schema.avsc\n",
    "[\n",
    "    {\n",
    "        \"namespace\": \"analytics.avro\",\n",
    "        \"type\": \"record\",\n",
    "        \"name\": \"Pedigree\",\n",
    "        \"fields\": [{\"name\": \"true_as_of_secs\", \"type\": \"int\"}]\n",
    "    },\n",
    "    {\n",
    "        \"namespace\": \"analytics.avro\",\n",
    "        \"type\": \"record\",\n",
    "        \"name\": \"PersonID1\",\n",
    "        \"fields\": [{\"name\": \"cookie\", \"type\": \"string\"}]\n",
    "    },\n",
    "    {\n",
    "        \"namespace\": \"analytics.avro\",\n",
    "        \"type\": \"record\",\n",
    "        \"name\": \"PersonID2\",\n",
    "        \"fields\": [{\"name\": \"user_id\", \"type\": \"long\"}]\n",
    "    },\n",
    "    {\n",
    "        \"namespace\": \"analytics.avro\",\n",
    "        \"type\": \"record\",\n",
    "        \"name\": \"PageID\",\n",
    "        \"fields\": [{\"name\": \"url\", \"type\": \"string\"}]\n",
    "    },\n",
    "    {\n",
    "        \"namespace\": \"analytics.avro\",\n",
    "        \"type\": \"record\",\n",
    "        \"name\": \"PageProperty\",\n",
    "        \"fields\": [\n",
    "            {\n",
    "                \"name\": \"id\",\n",
    "                \"type\": \"PageID\"\n",
    "            },\n",
    "            {\n",
    "                \"name\": \"property\",\n",
    "                \"type\": {\n",
    "                    \"type\": \"record\",\n",
    "                    \"name\": \"PagePropertyValue\",\n",
    "                    \"fields\": [{\"name\": \"page_views\", \"type\": \"int\"}]\n",
    "                }\n",
    "            }\n",
    "        ]\n",
    "    },\n",
    "    {\n",
    "        \"namespace\": \"analytics.avro\",\n",
    "        \"type\": \"record\",\n",
    "        \"name\": \"PersonProperty\",\n",
    "        \"fields\": [\n",
    "            {\n",
    "                \"name\": \"id\",\n",
    "                \"type\": [\n",
    "                    \"PersonID1\",\n",
    "                    \"PersonID2\"\n",
    "                ]\n",
    "            },\n",
    "            {\n",
    "                \"name\": \"property\",\n",
    "                \"type\": [\n",
    "                    {\n",
    "                        \"type\": \"record\",\n",
    "                        \"name\": \"PersonPropertyValue1\",\n",
    "                        \"fields\": [{\"name\": \"full_name\", \"type\": \"string\"}]\n",
    "                    },\n",
    "                    {\n",
    "                        \"type\": \"record\",\n",
    "                        \"name\": \"PersonPropertyValue2\",\n",
    "                        \"fields\": [\n",
    "                            {\n",
    "                                \"name\": \"gender\", \n",
    "                                \"type\": {\n",
    "                                    \"type\": \"enum\",\n",
    "                                    \"name\": \"GenderType\",\n",
    "                                    \"symbols\": [\"MALE\", \"FEMALE\"]\n",
    "                                }\n",
    "                            }\n",
    "                        ]\n",
    "                    },\n",
    "                    {\n",
    "                        \"type\": \"record\",\n",
    "                        \"name\": \"PersonPropertyValue3\",\n",
    "                        \"fields\": [\n",
    "                            {\n",
    "                                \"name\": \"location\", \n",
    "                                \"type\": {\n",
    "                                    \"type\": \"record\",\n",
    "                                    \"name\": \"Location\",\n",
    "                                    \"fields\": [\n",
    "                                        {\"name\": \"city\", \"type\": [\"string\", \"null\"]},\n",
    "                                        {\"name\": \"state\", \"type\": [\"string\", \"null\"]},\n",
    "                                        {\"name\": \"country\", \"type\": [ \"string\",\"null\"]}\n",
    "                                    ]\n",
    "                                }\n",
    "                            }\n",
    "                        ]\n",
    "                    },\n",
    "                    {\n",
    "                        \"type\": \"record\",\n",
    "                        \"name\": \"PersonPropertyValue4\",\n",
    "                        \"fields\": [{\"name\": \"age\", \"type\": \"int\"}]\n",
    "                    }\n",
    "                ]\n",
    "            }\n",
    "        ]\n",
    "    },\n",
    "    {\n",
    "        \"namespace\": \"analytics.avro\",\n",
    "        \"type\": \"record\",\n",
    "        \"name\": \"EquivEdge\",\n",
    "        \"fields\": [\n",
    "            {\"name\": \"id1\", \"type\": [\"PersonID1\", \"PersonID2\"]},\n",
    "            {\"name\": \"id2\", \"type\": [\"PersonID1\", \"PersonID2\"]}\n",
    "        ]\n",
    "    },\n",
    "    {\n",
    "        \"namespace\": \"analytics.avro\",\n",
    "        \"type\": \"record\",\n",
    "        \"name\": \"PageViewEdge\",\n",
    "        \"fields\": [\n",
    "            {\"name\": \"person\", \"type\": [\"PersonID1\", \"PersonID2\"]},\n",
    "            {\"name\": \"page\", \"type\": \"PageID\"},\n",
    "            {\"name\": \"nonce\", \"type\": \"long\"}\n",
    "        ]\n",
    "    },\n",
    "    {\n",
    "        \"namespace\": \"analytics.avro\",\n",
    "        \"type\": \"record\",\n",
    "        \"name\": \"Data\",\n",
    "        \"fields\": [\n",
    "            {\n",
    "                \"name\": \"pedigree\",\n",
    "                \"type\": \"Pedigree\"\n",
    "            },\n",
    "            {\n",
    "                \"name\": \"dataunit\",\n",
    "                \"type\": [\n",
    "                    {\n",
    "                        \"type\": \"record\",\n",
    "                        \"name\": \"DataUnit1\",\n",
    "                        \"fields\": [{\"name\": \"person_property\", \"type\": \"PersonProperty\"}]\n",
    "                    },\n",
    "                    {\n",
    "                        \"type\": \"record\",\n",
    "                        \"name\": \"DataUnit2\",\n",
    "                        \"fields\": [{\"name\": \"page_property\", \"type\": \"PageProperty\"}]\n",
    "                    },\n",
    "                    {\n",
    "                        \"type\": \"record\",\n",
    "                        \"name\": \"DataUnit3\",\n",
    "                        \"fields\": [{\"name\": \"equiv\", \"type\": \"EquivEdge\"}]\n",
    "                    },\n",
    "                    {\n",
    "                        \"type\": \"record\",\n",
    "                        \"name\": \"DataUnit4\",\n",
    "                        \"fields\": [{\"name\": \"page_view\", \"type\": \"PageViewEdge\"}]\n",
    "                    }\n",
    "                ]\n",
    "            }\n",
    "        ]\n",
    "    }\n",
    "]"
   ]
  },
  {
   "cell_type": "code",
   "execution_count": 259,
   "metadata": {
    "collapsed": false
   },
   "outputs": [],
   "source": [
    "schema = avro.schema.parse(open(\"schema.avsc\").read())\n",
    "def test_good_data(datum, schema=schema):\n",
    "    return avro.io.validate(schema, datum)"
   ]
  },
  {
   "cell_type": "code",
   "execution_count": 260,
   "metadata": {
    "collapsed": false
   },
   "outputs": [
    {
     "name": "stdout",
     "output_type": "stream",
     "text": [
      "[True, True, True, True, True, True, True]\n"
     ]
    }
   ],
   "source": [
    "import pprint, json\n",
    "\n",
    "pp = pprint.PrettyPrinter()\n",
    "newdata = datagenerator(10)\n",
    "testdata = []\n",
    "for i in xrange(0,1):\n",
    "    testdata.extend(newdata.next()) \n",
    "\n",
    "# pp.pprint(testdata)\n",
    "# print map(test_good_data, testdata)\n",
    "print map(test_good_data, data)"
   ]
  },
  {
   "cell_type": "code",
   "execution_count": 246,
   "metadata": {
    "collapsed": false
   },
   "outputs": [],
   "source": [
    "smalldata = [{'pedigree': {'true_as_of_secs': 1234567890},\n",
    "           'dataunit': {'page_property': {'id': {'url': 'http://mysite.com/blog'},\n",
    "                                    'property': {'page_views': 1}}},\n",
    "           },\n",
    "       {'pedigree': {'true_as_of_secs': 1234567891},\n",
    "           'dataunit': {'page_property': {'id': {'url': 'http://mysite.com/'},\n",
    "                                    'property': {'page_views': 1}}},\n",
    "           },\n",
    "        {\"pedigree\": {'true_as_of_secs': 1234567896},\n",
    "               \"dataunit\": {\"page_link\": {\"source\": {'url' : \"http://mysite.com/blog\"},\n",
    "                                          \"target\": {'url' : \"http://mysite.com/\"},}\n",
    "            }}]"
   ]
  },
  {
   "cell_type": "code",
   "execution_count": 247,
   "metadata": {
    "collapsed": false
   },
   "outputs": [
    {
     "name": "stdout",
     "output_type": "stream",
     "text": [
      "Overwriting smallschema.avsc\n"
     ]
    }
   ],
   "source": [
    "%%writefile smallschema.avsc\n",
    "[\n",
    "    {\n",
    "        \"namespace\": \"analytics.avro\",\n",
    "        \"type\": \"record\",\n",
    "        \"name\": \"Pedigree\",\n",
    "        \"fields\": [{\"name\": \"true_as_of_secs\", \"type\": \"int\"}]\n",
    "    },\n",
    "    {\n",
    "        \"namespace\": \"analytics.avro\",\n",
    "        \"type\": \"record\",\n",
    "        \"name\": \"PageID1\",\n",
    "        \"fields\": [{\"name\": \"url\", \"type\": \"string\"}]\n",
    "    },\n",
    "    {\n",
    "        \"namespace\": \"analytics.avro\",\n",
    "        \"type\": \"record\",\n",
    "        \"name\": \"PageProperty\",\n",
    "        \"fields\": [\n",
    "            {\n",
    "                \"name\": \"id\",\n",
    "                \"type\": \"PageID1\"\n",
    "            },\n",
    "            {\n",
    "                \"name\": \"property\",\n",
    "                \"type\": {\n",
    "                    \"type\": \"record\",\n",
    "                    \"name\": \"PagePropertyValue\",\n",
    "                    \"fields\": [{\"name\": \"page_views\", \"type\": \"int\"}]\n",
    "                }\n",
    "            }\n",
    "        ]\n",
    "    },\n",
    "    {\n",
    "        \"namespace\": \"analytics.avro\",\n",
    "        \"type\": \"record\",\n",
    "        \"name\": \"PageLinkEdge\",\n",
    "        \"fields\": [\n",
    "            {\"name\": \"source\", \"type\": \"PageID1\"},\n",
    "            {\"name\": \"target\", \"type\": \"PageID1\"}\n",
    "        ]\n",
    "    },\n",
    "    {\n",
    "        \"namespace\": \"analytics.avro\",\n",
    "        \"type\": \"record\",\n",
    "        \"name\": \"Data\",\n",
    "        \"fields\": [\n",
    "            {\n",
    "                \"name\": \"pedigree\",\n",
    "                \"type\": \"Pedigree\"\n",
    "            },\n",
    "            {\n",
    "                \"name\": \"dataunit\",\n",
    "                \"type\": [\n",
    "                    {\n",
    "                        \"type\": \"record\",\n",
    "                        \"name\": \"DataUnit2\",\n",
    "                        \"fields\": [{\"name\": \"page_property\", \"type\": \"PageProperty\"}]\n",
    "                    },\n",
    "                    {\n",
    "                        \"type\": \"record\",\n",
    "                        \"name\": \"DataUnit5\",\n",
    "                        \"fields\": [{\"name\": \"page_link\", \"type\": \"PageLinkEdge\"}]\n",
    "                    }\n",
    "                ]\n",
    "            }\n",
    "        ]\n",
    "    }\n",
    "]"
   ]
  },
  {
   "cell_type": "code",
   "execution_count": 248,
   "metadata": {
    "collapsed": false
   },
   "outputs": [],
   "source": [
    "schema = avro.schema.parse(open(\"smallschema.avsc\").read())"
   ]
  },
  {
   "cell_type": "code",
   "execution_count": 249,
   "metadata": {
    "collapsed": true
   },
   "outputs": [],
   "source": [
    "def test_good_data(datum, schema=schema):\n",
    "    return avro.io.validate(schema, datum)"
   ]
  },
  {
   "cell_type": "code",
   "execution_count": 250,
   "metadata": {
    "collapsed": false
   },
   "outputs": [
    {
     "name": "stdout",
     "output_type": "stream",
     "text": [
      "[True, True, True]\n"
     ]
    }
   ],
   "source": [
    "# import json\n",
    "# with open('data.json', 'w') as outfile:\n",
    "#     json.dump(data, outfile)\n",
    "print map(test_good_data, smalldata)\n",
    "# print type(data[-1]['dataunit']['page_link']['target'])\n",
    "# print schema"
   ]
  },
  {
   "cell_type": "markdown",
   "metadata": {},
   "source": [
    "### 3. Extend the Schema"
   ]
  },
  {
   "cell_type": "markdown",
   "metadata": {},
   "source": [
    "#### a) Allow a new person property called age which accepts integers  \n",
    "1. Add this to your generator (these data should fail validation)\n",
    "2. Adjust your schema to allow these new data.\n",
    "3. Invent negative examples to make sure your schema is not too permissive."
   ]
  },
  {
   "cell_type": "code",
   "execution_count": 7,
   "metadata": {
    "collapsed": true
   },
   "outputs": [],
   "source": [
    "age_example = {\"pedigree\": {'true_as_of_secs': 1234567896},\n",
    "               \"dataunit\": {\"person_property\": {\"id\": {\"user_id\": 9876543210},\n",
    "                                                \"property\": {\"age\": 23}}}\n",
    "               }"
   ]
  },
  {
   "cell_type": "markdown",
   "metadata": {},
   "source": [
    "#### b) Allow links between pages\n",
    "1. Add this to your generator (these data should fail validation)\n",
    "2. Adjust your schema to allow these new data.\n",
    "3. Invent negative examples to make sure your schema is not too permissive."
   ]
  },
  {
   "cell_type": "code",
   "execution_count": 211,
   "metadata": {
    "collapsed": true
   },
   "outputs": [],
   "source": [
    "linked_edge_example = {\"pedigree\": {'true_as_of_secs': 1234567896},\n",
    "               \"dataunit\": {\"page_link\": {\"source\": \"http://mysite.com/blog\",\n",
    "                                          \"target\": \"http://mysite.com/\"}}\n",
    "               }"
   ]
  },
  {
   "cell_type": "code",
   "execution_count": 212,
   "metadata": {
    "collapsed": false
   },
   "outputs": [
    {
     "data": {
      "text/plain": [
       "False"
      ]
     },
     "execution_count": 212,
     "metadata": {},
     "output_type": "execute_result"
    }
   ],
   "source": [
    "avro.io.validate(schema, linked_edge_example)"
   ]
  },
  {
   "cell_type": "markdown",
   "metadata": {},
   "source": [
    "On Your Own\n",
    "------------\n",
    "Define a fact-based graph schema based on the system you described yesterday.\n",
    "1. Use [Gliffy](https://www.gliffy.com/) to map it out.\n",
    "2. Write sample data and tests to see if your sample data fits. *Also generate examples that should fail.*\n",
    "3. Use [Avro](http://avro.apache.org/docs/current/index.html) to define your schema and test it"
   ]
  }
 ],
 "metadata": {
  "kernelspec": {
   "display_name": "Python 2",
   "language": "python",
   "name": "python2"
  },
  "language_info": {
   "codemirror_mode": {
    "name": "ipython",
    "version": 2
   },
   "file_extension": ".py",
   "mimetype": "text/x-python",
   "name": "python",
   "nbconvert_exporter": "python",
   "pygments_lexer": "ipython2",
   "version": "2.7.9"
  }
 },
 "nbformat": 4,
 "nbformat_minor": 0
}
