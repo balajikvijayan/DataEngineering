{
 "cells": [
  {
   "cell_type": "code",
   "execution_count": 1,
   "metadata": {
    "collapsed": false
   },
   "outputs": [
    {
     "data": {
      "application/javascript": [
       "$.getScript('http://asimjalis.github.io/ipyn-ext/js/ipyn-present.js')"
      ],
      "text/plain": [
       "<IPython.core.display.Javascript object>"
      ]
     },
     "metadata": {},
     "output_type": "display_data"
    }
   ],
   "source": [
    "%%javascript\n",
    "$.getScript('http://asimjalis.github.io/ipyn-ext/js/ipyn-present.js')"
   ]
  },
  {
   "cell_type": "markdown",
   "metadata": {},
   "source": [
    "<h1 id=\"tocheading\">Data model for Big Data</h1>\n",
    "<div id=\"toc\"></div>"
   ]
  },
  {
   "cell_type": "markdown",
   "metadata": {},
   "source": [
    "![The master dataset in the Lambda Architecture serves as the source of truth for your Big Data system. Errors at the serving and speed layers can be corrected, but corruption of the master dataset is irreparable](https://s3-us-west-2.amazonaws.com/dsci6007/assets/fig2-1.png)"
   ]
  },
  {
   "cell_type": "markdown",
   "metadata": {},
   "source": [
    "* Learn the key properties of data\n",
    "* See how these properties are maintained in the fact-based model\n",
    "* Examine the advantages of the fact-based model for the master dataset\n",
    "* Express a fact-based model using graph schemas\n",
    "\n",
    "The properties of data\n",
    "-------------------------------------------------\n",
    "* *Information* is the general collection of knowledge relevant to your Big Data sys- tem. It’s synonymous with the colloquial usage of the word data.\n",
    "* *Data* refers to the information that can’t be derived from anything else. Data serves as the axioms from which everything else derives.\n",
    "* *Queries* are questions you ask of your data. For example, you query your finan- cial transaction history to determine your current bank account balance.\n",
    "* *Views* are information that has been derived from your base data. They are built to assist with answering specific types of queries."
   ]
  },
  {
   "cell_type": "markdown",
   "metadata": {},
   "source": [
    "![Three possible options for storing friendship information for FaceSpace. Each option can be derived from the one to its left, but it’s a one-way process.](https://s3-us-west-2.amazonaws.com/dsci6007/assets/fig2-2.png)"
   ]
  },
  {
   "cell_type": "markdown",
   "metadata": {},
   "source": [
    "![The relationships between data, views, and queries](https://s3-us-west-2.amazonaws.com/dsci6007/assets/fig2-3.png)"
   ]
  },
  {
   "cell_type": "markdown",
   "metadata": {},
   "source": [
    "![Classifying information as data or a view depends on your perspective. To FaceSpace, Tom’s birthday is a view because it’s derived from the user’s birthdate. But the birthday is considered data to a third-party advertiser.](https://s3-us-west-2.amazonaws.com/dsci6007/assets/fig2-4.png)"
   ]
  },
  {
   "cell_type": "markdown",
   "metadata": {},
   "source": [
    "### Data is raw\n",
    "\n",
    "| Company | Symbol | Previous | Open  | High   | Low    | Close  | Net   |\n",
    "|:-------:|:------:|:-------:|:------:|:------:|:------:|:------:|:-----:|\n",
    "| Google  | GOOG   |  564.68 | 567.70 | 573.99 | 566.02 | 569.30 | +4.62 |\n",
    "| Apple   | AAPL   |  572.02 | 575.00 | 576.74 | 571.92 | 574.50 | +2.48 | \n",
    "| Amazon  | AMZN   |  225.61 | 225.01 | 227.50 | 223.30 | 225.62 | +0.01 | \n",
    "A summary of one day of trading for Google, Apple, and Amazon stocks: previous close, opening, high, low, close, and net change."
   ]
  },
  {
   "cell_type": "markdown",
   "metadata": {
    "collapsed": true
   },
   "source": [
    "![Relative stock price changes of Google, Apple, and Amazon on June 27, 2012, compared to closing prices on June 26 (www.google.com/finance). Short-term analysis isn’t supported by daily records but can be performed by storing data at finer time resolutions.](https://s3-us-west-2.amazonaws.com/dsci6007/assets/fig2-6.png)"
   ]
  },
  {
   "cell_type": "markdown",
   "metadata": {},
   "source": [
    "#### Unstructured data is rawer than normalized data\n",
    "![Semantic normalization of unstructured location responses to city, state, and country. A simple algorithm will normalize “North Beach” to NULL if it doesn’t recognize it as a San Francisco neighborhood.](https://s3-us-west-2.amazonaws.com/dsci6007/assets/fig2-7.png)\n",
    "As a rule of thumb, if your algorithm for extracting the data is simple and accurate, like extracting an age from an HTML page, you should store the results of that algorithm. If the algorithm is subject to change, due to improvements or broadening the requirements, store the unstructured form of the data.  \n",
    "#### More information doesn't necessarily mean rawer data"
   ]
  },
  {
   "cell_type": "markdown",
   "metadata": {},
   "source": [
    "### Data is immutable\n",
    "* Human-fault tolerance\n",
    "* Simplicity\n",
    "\n",
    "| id | name    | age | gender | employer  | location\n",
    "|:--:|:-------:|:---:|:------:|:---------:|:--------          \n",
    "|  1 | Alice   |  25 | female | Apple     | Atlanta, GA\n",
    "|  2 | Bob     |  36 | male   | SAS       | Chicago, IL\n",
    "|  3 | Tom     |  28 | male   | Google    | San Francisco, CA | <- Should Tom move to a different city, this value would be owerwritten.\n",
    "|  4 | Charlie |  25 | male   | Microsoft | Washington, DC\n",
    "| ...| ...     | ... | ...    | ...       | ...\n",
    "A mutable schema for FaceSpace user information. When details change—say, Tom moves to Los Angeles—previous values are overwritten and lost."
   ]
  },
  {
   "cell_type": "markdown",
   "metadata": {},
   "source": [
    "![An equivalent immutable schema for FaceSpace user information. Each field is tracked in a separate table, and each row has a timestamp for when it’s known to be true. (Gender and employer data are omitted for space, but are stored similarly.)](https://s3-us-west-2.amazonaws.com/dsci6007/assets/fig2-9.png)"
   ]
  },
  {
   "cell_type": "markdown",
   "metadata": {},
   "source": [
    "![Instead of updating preexisting records, an immutable schema uses new records to represent changed information. An immutable schema thus can store multiple records for the same user. (Other tables omitted because they remain unchanged.)](https://s3-us-west-2.amazonaws.com/dsci6007/assets/fig2-10.png)"
   ]
  },
  {
   "cell_type": "markdown",
   "metadata": {},
   "source": [
    "### Data is eternally true\n",
    "*e.g.* \n",
    "> The United States consisted of thirteen states on July 4, 1776.  \n",
    "\n",
    "Special cases:\n",
    "* Garbage collection\n",
    "* Regulations"
   ]
  },
  {
   "cell_type": "markdown",
   "metadata": {},
   "source": [
    "The fact-based model for representing data\n",
    "-------------------------------------------------\n",
    "### Example facts and their properties\n",
    "![All of the raw data concerning Tom is deconstructed into timestamped, atomic units we call facts.](https://s3-us-west-2.amazonaws.com/dsci6007/assets/fig2-11.png)"
   ]
  },
  {
   "cell_type": "markdown",
   "metadata": {},
   "source": [
    "```\n",
    "struct PageView:\n",
    "  DateTime timestamp\n",
    "  String url\n",
    "  String ip_address\n",
    "```\n",
    "To distinguish different pageviews, you can add a `nonce` to your schema—a 64-bit number randomly generated for each pageview:\n",
    "```\n",
    "struct PageView: \n",
    "    Datetime timestamp \n",
    "    String url\n",
    "    String ip_address \n",
    "    Long nonce\n",
    "```\n",
    "**The nonce, combined with the other fields, uniquely identifies a particular pageview.**\n",
    "\n",
    "##### Duplicates aren’t as rare as you might think\n",
    "\n",
    "To quickly recap, the fact-based model  \n",
    "* Stores your raw data as atomic facts\n",
    "* Keeps the facts immutable and eternally true by using timestamps\n",
    "* Ensures each fact is identifiable so that query processing can identify duplicates"
   ]
  },
  {
   "cell_type": "markdown",
   "metadata": {},
   "source": [
    "### Benefits of the fact-based model\n",
    "* Is queryable at any time in its history\n",
    "* Tolerates human errors\n",
    "* Handles partial information\n",
    "* Has the advantages of both normalized and denormalized forms"
   ]
  },
  {
   "cell_type": "markdown",
   "metadata": {},
   "source": [
    "Human faults can easily be corrected by simply deleting erroneous facts. The record is automatically reset by using earlier timestamps.\n",
    "\n",
    "| user id | location          | timestamp\n",
    "| ------- | ----------------- | ----------\n",
    "|   1     | Atlanta, GA       | 2012/03/29 08:12:24\n",
    "|   2     | Chicago, IL       | 2012/04/12 14:47:51\n",
    "|   3     | San Francisco, CA | 2012/04/04 18:31:24\n",
    "|   4     | Washington, DC    | 2012/04/09 11:52:30\n",
    "| ~~3~~   |~~Los Angeles, CA~~| ~~2012/06/17 20:09:48~~\n",
    "To correct for human errors, simply remove the incorrect facts. This process automatically resets to an earlier state by “uncovering” any relevant previous facts."
   ]
  },
  {
   "cell_type": "markdown",
   "metadata": {},
   "source": [
    "![The Lambda Architecture has the benefits of both normalization and denormalization by separating objectives at different layers.](https://s3-us-west-2.amazonaws.com/dsci6007/assets/fig2-15.png)"
   ]
  },
  {
   "cell_type": "markdown",
   "metadata": {},
   "source": [
    "Graph schemas\n",
    "-------------------------------------------------\n",
    "### Elements of a graph schema\n",
    "![Visualizing the relationship between FaceSpace facts](https://s3-us-west-2.amazonaws.com/dsci6007/assets/fig2-16.png)\n",
    "* Nodes are the entities in the system.\n",
    "* Edges are relationships between nodes.\n",
    "* Properties are information about entities.\n"
   ]
  },
  {
   "cell_type": "markdown",
   "metadata": {},
   "source": [
    "### The need for an enforceable schema\n",
    "Suppose you chose to represent Tom’s age using JSON:\n",
    "```json\n",
    "{\"id\": 3, \"field\":\"age\", \"value\":28, \"timestamp\":1333589484}\n",
    "```\n",
    "There’s no way to ensure that all subsequent facts will follow the same format.\n",
    "```json\n",
    "{\"name\": \"Alice\", \"field\":\"age\", \"value\":25, \"timestamp\":\"2012/03/29 08:12:24\"}\n",
    "{\"id\":2, \"field\":\"age\", \"value\":36}\n",
    "```\n",
    "Both of these examples are valid JSON, but they have inconsistent formats or missing data."
   ]
  },
  {
   "cell_type": "markdown",
   "metadata": {},
   "source": [
    "Why a serialization framework?\n",
    "-------------------------------------------------\n",
    "### Apache Avro\n",
    "\n",
    "#### Primitive Types\n",
    "The set of primitive type names is:  \n",
    "* `null`: no value\n",
    "* `boolean`: a binary value\n",
    "* `int`: 32-bit signed integer\n",
    "* `long`: 64-bit signed integer\n",
    "* `float`: single precision (32-bit) IEEE 754 floating-point number\n",
    "* `double`: double precision (64-bit) IEEE 754 floating-point number\n",
    "* `bytes`: sequence of 8-bit unsigned bytes\n",
    "* `string`: unicode character sequence  \n",
    "\n",
    "Primitive types have no specified attributes.\n",
    "\n",
    "Primitive type names are also defined type names. Thus, for example, the schema \"string\" is equivalent to:\n",
    "\n",
    "    {\"type\": \"string\"}\n",
    "\n",
    "#### Complex Types\n",
    "Avro supports six kinds of complex types: `records`, `enums`, `arrays`, `maps`, `unions` and `fixed`.\n",
    "\n",
    "See http://avro.apache.org/docs/current/spec.html for more details."
   ]
  },
  {
   "cell_type": "code",
   "execution_count": 2,
   "metadata": {
    "collapsed": true
   },
   "outputs": [],
   "source": [
    "import json\n",
    "import avro.schema"
   ]
  },
  {
   "cell_type": "markdown",
   "metadata": {},
   "source": [
    "### Nodes"
   ]
  },
  {
   "cell_type": "code",
   "execution_count": 3,
   "metadata": {
    "collapsed": true
   },
   "outputs": [],
   "source": [
    "PersonID = [{\n",
    "        \"namespace\": \"analytics.avro\",\n",
    "        \"type\": \"record\",\n",
    "        \"name\": \"PersonID1\",\n",
    "        \"fields\": [\n",
    "            {\n",
    "                \"name\": \"cookie\",\n",
    "                \"type\": \"string\"\n",
    "            }\n",
    "        ]\n",
    "    },\n",
    "    {\n",
    "        \"namespace\": \"analytics.avro\",\n",
    "        \"type\": \"record\",\n",
    "        \"name\": \"PersonID2\",\n",
    "        \"fields\": [\n",
    "            {\n",
    "                \"name\": \"user_id\",\n",
    "                \"type\": \"long\"\n",
    "            }\n",
    "        ]\n",
    "    }]"
   ]
  },
  {
   "cell_type": "code",
   "execution_count": 4,
   "metadata": {
    "collapsed": true
   },
   "outputs": [],
   "source": [
    "PageID = [{\n",
    "        \"namespace\": \"analytics.avro\",\n",
    "        \"type\": \"record\",\n",
    "        \"name\": \"PageID\",\n",
    "        \"fields\": [\n",
    "            {\n",
    "                \"name\": \"url\",\n",
    "                \"type\": \"string\"\n",
    "            }\n",
    "        ]\n",
    "    }]"
   ]
  },
  {
   "cell_type": "code",
   "execution_count": 5,
   "metadata": {
    "collapsed": false
   },
   "outputs": [],
   "source": [
    "Nodes = PersonID + PageID"
   ]
  },
  {
   "cell_type": "markdown",
   "metadata": {},
   "source": [
    "### Edges"
   ]
  },
  {
   "cell_type": "code",
   "execution_count": 6,
   "metadata": {
    "collapsed": true
   },
   "outputs": [],
   "source": [
    "EquivEdge = {\n",
    "        \"namespace\": \"analytics.avro\",\n",
    "        \"type\": \"record\",\n",
    "        \"name\": \"EquivEdge\",\n",
    "        \"fields\": [\n",
    "            {\n",
    "                \"name\": \"id1\",\n",
    "                \"type\": [\n",
    "                    \"PersonID1\",\n",
    "                    \"PersonID2\"\n",
    "                ]\n",
    "            },\n",
    "            {\n",
    "                \"name\": \"id2\",\n",
    "                \"type\": [\n",
    "                    \"PersonID1\",\n",
    "                    \"PersonID2\"\n",
    "                ]\n",
    "            }\n",
    "        ]\n",
    "    }"
   ]
  },
  {
   "cell_type": "code",
   "execution_count": 7,
   "metadata": {
    "collapsed": true
   },
   "outputs": [],
   "source": [
    "PageViewEdge = {\n",
    "        \"namespace\": \"analytics.avro\",\n",
    "        \"type\": \"record\",\n",
    "        \"name\": \"PageViewEdge\",\n",
    "        \"fields\": [\n",
    "            {\n",
    "                \"name\": \"person\",\n",
    "                \"type\": [\n",
    "                    \"PersonID1\",\n",
    "                    \"PersonID2\"\n",
    "                ]\n",
    "            },\n",
    "            {\n",
    "                \"name\": \"page\",\n",
    "                \"type\": \"PageID\"\n",
    "            },\n",
    "            {\n",
    "                \"name\": \"nonce\",\n",
    "                \"type\": \"long\"\n",
    "            }\n",
    "        ]\n",
    "    }"
   ]
  },
  {
   "cell_type": "code",
   "execution_count": 8,
   "metadata": {
    "collapsed": true
   },
   "outputs": [],
   "source": [
    "Edges = [EquivEdge, PageViewEdge]"
   ]
  },
  {
   "cell_type": "markdown",
   "metadata": {},
   "source": [
    "### Properties"
   ]
  },
  {
   "cell_type": "markdown",
   "metadata": {},
   "source": [
    "#### Page Properties"
   ]
  },
  {
   "cell_type": "code",
   "execution_count": 9,
   "metadata": {
    "collapsed": true
   },
   "outputs": [],
   "source": [
    "PageProperties = [{\n",
    "        \"namespace\": \"analytics.avro\",\n",
    "        \"type\": \"record\",\n",
    "        \"name\": \"PagePropertyValue\",\n",
    "        \"fields\": [\n",
    "            {\n",
    "                \"name\": \"page_views\",\n",
    "                \"type\": \"int\"\n",
    "            }\n",
    "        ]\n",
    "    }, \n",
    "    {\n",
    "        \"namespace\": \"analytics.avro\",\n",
    "        \"type\": \"record\",\n",
    "        \"name\": \"PageProperty\",\n",
    "        \"fields\": [\n",
    "            {\n",
    "                \"name\": \"id\",\n",
    "                \"type\": \"PageID\"\n",
    "            },\n",
    "            {\n",
    "                \"name\": \"property\",\n",
    "                \"type\": \"PagePropertyValue\"\n",
    "            }\n",
    "        ]\n",
    "    }]"
   ]
  },
  {
   "cell_type": "markdown",
   "metadata": {},
   "source": [
    "or"
   ]
  },
  {
   "cell_type": "code",
   "execution_count": 10,
   "metadata": {
    "collapsed": true
   },
   "outputs": [],
   "source": [
    "PageProperties = [{\n",
    "        \"namespace\": \"analytics.avro\",\n",
    "        \"type\": \"record\",\n",
    "        \"name\": \"PageProperty\",\n",
    "        \"fields\": [\n",
    "            {\n",
    "                \"name\": \"id\",\n",
    "                \"type\": \"PageID\"\n",
    "            },\n",
    "            {\n",
    "                \"name\": \"property\",\n",
    "                \"type\": {\n",
    "                    \"type\": \"record\",\n",
    "                    \"name\": \"PagePropertyValue\",\n",
    "                    \"fields\": [\n",
    "                        {\n",
    "                            \"name\": \"page_views\",\n",
    "                            \"type\": \"int\"\n",
    "                        }\n",
    "                    ]\n",
    "                }\n",
    "            }\n",
    "        ]\n",
    "    }]"
   ]
  },
  {
   "cell_type": "markdown",
   "metadata": {},
   "source": [
    "#### Person Properties"
   ]
  },
  {
   "cell_type": "code",
   "execution_count": 11,
   "metadata": {
    "collapsed": true
   },
   "outputs": [],
   "source": [
    "PersonProperties = [\n",
    "    {\n",
    "        \"namespace\": \"analytics.avro\",\n",
    "        \"type\": \"record\",\n",
    "        \"name\": \"Location\",\n",
    "        \"fields\": [\n",
    "            {\"name\": \"city\", \"type\": [\"string\", \"null\"]},\n",
    "            {\"name\": \"state\", \"type\": [\"string\", \"null\"]},\n",
    "            {\"name\": \"country\", \"type\": [ \"string\",\"null\"]}\n",
    "        ]\n",
    "    },\n",
    "    {\n",
    "        \"namespace\": \"analytics.avro\",\n",
    "        \"type\": \"enum\",\n",
    "        \"name\": \"GenderType\",\n",
    "        \"symbols\": [\"MALE\", \"FEMALE\"]\n",
    "    },\n",
    "    {\n",
    "        \"namespace\": \"analytics.avro\",\n",
    "        \"type\": \"record\",\n",
    "        \"name\": \"PersonProperty\",\n",
    "        \"fields\": [\n",
    "            {\n",
    "                \"name\": \"id\",\n",
    "                \"type\": [\n",
    "                    \"PersonID1\",\n",
    "                    \"PersonID2\"\n",
    "                ]\n",
    "            },\n",
    "            {\n",
    "                \"name\": \"property\",\n",
    "                \"type\": [\n",
    "                    {\n",
    "                        \"type\": \"record\",\n",
    "                        \"name\": \"PersonPropertyValue1\",\n",
    "                        \"fields\": [{\"name\": \"full_name\", \"type\": \"string\"}]\n",
    "                    },\n",
    "                    {\n",
    "                        \"type\": \"record\",\n",
    "                        \"name\": \"PersonPropertyValue2\",\n",
    "                        \"fields\": [{\"name\": \"gender\", \"type\": \"GenderType\"}]\n",
    "                    },\n",
    "                    {\n",
    "                        \"type\": \"record\",\n",
    "                        \"name\": \"PersonPropertyValue3\",\n",
    "                        \"fields\": [{\"name\": \"location\", \"type\": \"Location\"}]\n",
    "                    }\n",
    "                ]\n",
    "            }\n",
    "        ]\n",
    "    }]"
   ]
  },
  {
   "cell_type": "markdown",
   "metadata": {},
   "source": [
    "### Tying everything together into data objects"
   ]
  },
  {
   "cell_type": "code",
   "execution_count": 12,
   "metadata": {
    "collapsed": true
   },
   "outputs": [],
   "source": [
    "Data = [\n",
    "    {\n",
    "        \"namespace\": \"analytics.avro\",\n",
    "        \"type\": \"record\",\n",
    "        \"name\": \"Pedigree\",\n",
    "        \"fields\": [{\"name\": \"true_as_of_secs\", \"type\": \"int\"}]\n",
    "    },\n",
    "    {\n",
    "        \"namespace\": \"analytics.avro\",\n",
    "        \"type\": \"record\",\n",
    "        \"name\": \"Data\",\n",
    "        \"fields\": [\n",
    "            {\n",
    "                \"name\": \"pedigree\",\n",
    "                \"type\": \"Pedigree\"\n",
    "            },\n",
    "            {\n",
    "                \"name\": \"dataunit\",\n",
    "                \"type\": [\n",
    "                    {\n",
    "                        \"type\": \"record\",\n",
    "                        \"name\": \"DataUnit1\",\n",
    "                        \"fields\": [{\"name\": \"person_property\", \"type\": \"PersonProperty\"}]\n",
    "                    },\n",
    "                    {\n",
    "                        \"type\": \"record\",\n",
    "                        \"name\": \"DataUnit2\",\n",
    "                        \"fields\": [{\"name\": \"page_property\", \"type\": \"PageProperty\"}]\n",
    "                    },\n",
    "                    {\n",
    "                        \"type\": \"record\",\n",
    "                        \"name\": \"DataUnit3\",\n",
    "                        \"fields\": [{\"name\": \"equiv\", \"type\": \"EquivEdge\"}]\n",
    "                    },\n",
    "                    {\n",
    "                        \"type\": \"record\",\n",
    "                        \"name\": \"DataUnit4\",\n",
    "                        \"fields\": [{\"name\": \"page_view\", \"type\": \"PageViewEdge\"}]\n",
    "                    }\n",
    "                ]\n",
    "            }\n",
    "        ]\n",
    "    }\n",
    "]"
   ]
  },
  {
   "cell_type": "code",
   "execution_count": 13,
   "metadata": {
    "collapsed": false
   },
   "outputs": [],
   "source": [
    "schema = avro.schema.parse(json.dumps(Nodes + Edges + PageProperties + PersonProperties + Data))"
   ]
  },
  {
   "cell_type": "markdown",
   "metadata": {},
   "source": [
    "Limitations of serialization frameworks\n",
    "-------------------------------------------------\n",
    "In order to enforce more rigorous business logic:  \n",
    "* Wrap your generated code in additional code that checks the additional properties you care about, like ages being non-negative. \n",
    "* Check the extra properties at the very beginning of your batch-processing workflow."
   ]
  },
  {
   "cell_type": "markdown",
   "metadata": {},
   "source": [
    "---"
   ]
  },
  {
   "cell_type": "markdown",
   "metadata": {},
   "source": [
    "Lab\n",
    "-------------------------------------------------\n",
    "### Evolving your schema  \n",
    "1. Work through the Avro [getting started guide](http://avro.apache.org/docs/current/gettingstartedpython.html).\n",
    "2. Reproduce the fact-based graph schema in Gliffy.\n",
    "3. Add \"Age\" as a user property\n",
    "4. Add links between web pages as edges\n",
    "5. Modify the Avro schema to allow this new property and edge"
   ]
  }
 ],
 "metadata": {
  "kernelspec": {
   "display_name": "Python 2",
   "language": "python",
   "name": "python2"
  },
  "language_info": {
   "codemirror_mode": {
    "name": "ipython",
    "version": 2
   },
   "file_extension": ".py",
   "mimetype": "text/x-python",
   "name": "python",
   "nbconvert_exporter": "python",
   "pygments_lexer": "ipython2",
   "version": "2.7.10"
  }
 },
 "nbformat": 4,
 "nbformat_minor": 0
}
